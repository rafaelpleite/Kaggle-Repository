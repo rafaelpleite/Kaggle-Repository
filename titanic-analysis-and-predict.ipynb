{
 "cells": [
  {
   "cell_type": "markdown",
   "metadata": {
    "papermill": {
     "duration": 0.060619,
     "end_time": "2021-01-12T00:33:43.549123",
     "exception": false,
     "start_time": "2021-01-12T00:33:43.488504",
     "status": "completed"
    },
    "tags": []
   },
   "source": [
    "## Titanic - Analysis and Predict \n",
    "This is my first Notebook in Kaggle, then if you find any error tell me, please."
   ]
  },
  {
   "cell_type": "code",
   "execution_count": 1,
   "metadata": {
    "_cell_guid": "b1076dfc-b9ad-4769-8c92-a6c4dae69d19",
    "_uuid": "8f2839f25d086af736a60e9eeb907d3b93b6e0e5",
    "execution": {
     "iopub.execute_input": "2021-01-12T00:33:43.667334Z",
     "iopub.status.busy": "2021-01-12T00:33:43.666613Z",
     "iopub.status.idle": "2021-01-12T00:33:45.134211Z",
     "shell.execute_reply": "2021-01-12T00:33:45.133268Z"
    },
    "papermill": {
     "duration": 1.529799,
     "end_time": "2021-01-12T00:33:45.134345",
     "exception": false,
     "start_time": "2021-01-12T00:33:43.604546",
     "status": "completed"
    },
    "tags": []
   },
   "outputs": [],
   "source": [
    "# Manipulation of vectors library\n",
    "import numpy as np\n",
    "# Manipulation of data library\n",
    "import pandas as pd\n",
    "#Ploting graphs library\n",
    "import matplotlib.pyplot as plt\n",
    "import seaborn as sns\n",
    "# Manipulation of the system library\n",
    "import os"
   ]
  },
  {
   "cell_type": "markdown",
   "metadata": {
    "papermill": {
     "duration": 0.0577,
     "end_time": "2021-01-12T00:33:45.255075",
     "exception": false,
     "start_time": "2021-01-12T00:33:45.197375",
     "status": "completed"
    },
    "tags": []
   },
   "source": [
    "Let's see the files on kaggle/input/titanic folder."
   ]
  },
  {
   "cell_type": "code",
   "execution_count": 6,
   "metadata": {
    "_cell_guid": "79c7e3d0-c299-4dcb-8224-4455121ee9b0",
    "_uuid": "d629ff2d2480ee46fbb7e2d37f6b5fab8052498a",
    "execution": {
     "iopub.execute_input": "2021-01-12T00:33:45.382709Z",
     "iopub.status.busy": "2021-01-12T00:33:45.381789Z",
     "iopub.status.idle": "2021-01-12T00:33:46.138827Z",
     "shell.execute_reply": "2021-01-12T00:33:46.137995Z"
    },
    "papermill": {
     "duration": 0.825974,
     "end_time": "2021-01-12T00:33:46.138956",
     "exception": false,
     "start_time": "2021-01-12T00:33:45.312982",
     "status": "completed"
    },
    "tags": []
   },
   "outputs": [
    {
     "name": "stdout",
     "output_type": "stream",
     "text": [
      "C:\\Users\\Rafael\\Kaggle\\Titanic\n",
      " O volume na unidade C nÆo tem nome.\n",
      " O N£mero de S‚rie do Volume ‚ 28F5-7489\n",
      "\n",
      " Pasta de C:\\Users\\Rafael\\Kaggle\\Titanic\n",
      "\n",
      "13/01/2021  10:18    <DIR>          .\n",
      "13/01/2021  10:18    <DIR>          ..\n",
      "13/01/2021  10:18    <DIR>          .ipynb_checkpoints\n",
      "11/12/2019  02:17             3.258 gender_submission.csv\n",
      "11/12/2019  02:17            28.629 test.csv\n",
      "13/01/2021  09:57           522.020 titanic-analysis-and-predict.ipynb\n",
      "11/12/2019  02:17            61.194 train.csv\n",
      "               4 arquivo(s)        615.101 bytes\n",
      "               3 pasta(s)   86.159.032.320 bytes dispon¡veis\n"
     ]
    }
   ],
   "source": [
    "! cd && dir"
   ]
  },
  {
   "cell_type": "markdown",
   "metadata": {
    "papermill": {
     "duration": 0.055872,
     "end_time": "2021-01-12T00:33:46.251842",
     "exception": false,
     "start_time": "2021-01-12T00:33:46.195970",
     "status": "completed"
    },
    "tags": []
   },
   "source": [
    "Now, define the train and test variables from system folder."
   ]
  },
  {
   "cell_type": "code",
   "execution_count": 22,
   "metadata": {
    "execution": {
     "iopub.execute_input": "2021-01-12T00:33:46.374872Z",
     "iopub.status.busy": "2021-01-12T00:33:46.374194Z",
     "iopub.status.idle": "2021-01-12T00:33:46.401040Z",
     "shell.execute_reply": "2021-01-12T00:33:46.400264Z"
    },
    "papermill": {
     "duration": 0.092174,
     "end_time": "2021-01-12T00:33:46.401168",
     "exception": false,
     "start_time": "2021-01-12T00:33:46.308994",
     "status": "completed"
    },
    "tags": []
   },
   "outputs": [],
   "source": [
    "df_train = pd.read_csv('train.csv')\n",
    "df_test = pd.read_csv('test.csv')\n",
    "from sqlalchemy import create_engine\n",
    "engine = create_engine(\"sqlite:///mydb.db\")  # relative path to db"
   ]
  },
  {
   "cell_type": "code",
   "execution_count": 23,
   "metadata": {},
   "outputs": [],
   "source": [
    "df_train.to_sql(\"my_table\", engine)"
   ]
  },
  {
   "cell_type": "code",
   "execution_count": 20,
   "metadata": {},
   "outputs": [
    {
     "data": {
      "text/plain": [
       "[(1, 0, 3, 'Braund, Mr. Owen Harris', 'male', 22.0, 1, 0, 'A/5 21171', 7.25, None, 'S'),\n",
       " (2, 1, 1, 'Cumings, Mrs. John Bradley (Florence Briggs Thayer)', 'female', 38.0, 1, 0, 'PC 17599', 71.2833, 'C85', 'C'),\n",
       " (3, 1, 3, 'Heikkinen, Miss. Laina', 'female', 26.0, 0, 0, 'STON/O2. 3101282', 7.925, None, 'S'),\n",
       " (4, 1, 1, 'Futrelle, Mrs. Jacques Heath (Lily May Peel)', 'female', 35.0, 1, 0, '113803', 53.1, 'C123', 'S'),\n",
       " (5, 0, 3, 'Allen, Mr. William Henry', 'male', 35.0, 0, 0, '373450', 8.05, None, 'S'),\n",
       " (6, 0, 3, 'Moran, Mr. James', 'male', None, 0, 0, '330877', 8.4583, None, 'Q'),\n",
       " (7, 0, 1, 'McCarthy, Mr. Timothy J', 'male', 54.0, 0, 0, '17463', 51.8625, 'E46', 'S'),\n",
       " (8, 0, 3, 'Palsson, Master. Gosta Leonard', 'male', 2.0, 3, 1, '349909', 21.075, None, 'S'),\n",
       " (9, 1, 3, 'Johnson, Mrs. Oscar W (Elisabeth Vilhelmina Berg)', 'female', 27.0, 0, 2, '347742', 11.1333, None, 'S'),\n",
       " (10, 1, 2, 'Nasser, Mrs. Nicholas (Adele Achem)', 'female', 14.0, 1, 0, '237736', 30.0708, None, 'C'),\n",
       " (11, 1, 3, 'Sandstrom, Miss. Marguerite Rut', 'female', 4.0, 1, 1, 'PP 9549', 16.7, 'G6', 'S'),\n",
       " (12, 1, 1, 'Bonnell, Miss. Elizabeth', 'female', 58.0, 0, 0, '113783', 26.55, 'C103', 'S'),\n",
       " (13, 0, 3, 'Saundercock, Mr. William Henry', 'male', 20.0, 0, 0, 'A/5. 2151', 8.05, None, 'S'),\n",
       " (14, 0, 3, 'Andersson, Mr. Anders Johan', 'male', 39.0, 1, 5, '347082', 31.275, None, 'S'),\n",
       " (15, 0, 3, 'Vestrom, Miss. Hulda Amanda Adolfina', 'female', 14.0, 0, 0, '350406', 7.8542, None, 'S'),\n",
       " (16, 1, 2, 'Hewlett, Mrs. (Mary D Kingcome) ', 'female', 55.0, 0, 0, '248706', 16.0, None, 'S'),\n",
       " (17, 0, 3, 'Rice, Master. Eugene', 'male', 2.0, 4, 1, '382652', 29.125, None, 'Q'),\n",
       " (18, 1, 2, 'Williams, Mr. Charles Eugene', 'male', None, 0, 0, '244373', 13.0, None, 'S'),\n",
       " (19, 0, 3, 'Vander Planke, Mrs. Julius (Emelia Maria Vandemoortele)', 'female', 31.0, 1, 0, '345763', 18.0, None, 'S'),\n",
       " (20, 1, 3, 'Masselmani, Mrs. Fatima', 'female', None, 0, 0, '2649', 7.225, None, 'C'),\n",
       " (21, 0, 2, 'Fynney, Mr. Joseph J', 'male', 35.0, 0, 0, '239865', 26.0, None, 'S'),\n",
       " (22, 1, 2, 'Beesley, Mr. Lawrence', 'male', 34.0, 0, 0, '248698', 13.0, 'D56', 'S'),\n",
       " (23, 1, 3, 'McGowan, Miss. Anna \"Annie\"', 'female', 15.0, 0, 0, '330923', 8.0292, None, 'Q'),\n",
       " (24, 1, 1, 'Sloper, Mr. William Thompson', 'male', 28.0, 0, 0, '113788', 35.5, 'A6', 'S'),\n",
       " (25, 0, 3, 'Palsson, Miss. Torborg Danira', 'female', 8.0, 3, 1, '349909', 21.075, None, 'S'),\n",
       " (26, 1, 3, 'Asplund, Mrs. Carl Oscar (Selma Augusta Emilia Johansson)', 'female', 38.0, 1, 5, '347077', 31.3875, None, 'S'),\n",
       " (27, 0, 3, 'Emir, Mr. Farred Chehab', 'male', None, 0, 0, '2631', 7.225, None, 'C'),\n",
       " (28, 0, 1, 'Fortune, Mr. Charles Alexander', 'male', 19.0, 3, 2, '19950', 263.0, 'C23 C25 C27', 'S'),\n",
       " (29, 1, 3, 'O\\'Dwyer, Miss. Ellen \"Nellie\"', 'female', None, 0, 0, '330959', 7.8792, None, 'Q'),\n",
       " (30, 0, 3, 'Todoroff, Mr. Lalio', 'male', None, 0, 0, '349216', 7.8958, None, 'S'),\n",
       " (31, 0, 1, 'Uruchurtu, Don. Manuel E', 'male', 40.0, 0, 0, 'PC 17601', 27.7208, None, 'C'),\n",
       " (32, 1, 1, 'Spencer, Mrs. William Augustus (Marie Eugenie)', 'female', None, 1, 0, 'PC 17569', 146.5208, 'B78', 'C'),\n",
       " (33, 1, 3, 'Glynn, Miss. Mary Agatha', 'female', None, 0, 0, '335677', 7.75, None, 'Q'),\n",
       " (34, 0, 2, 'Wheadon, Mr. Edward H', 'male', 66.0, 0, 0, 'C.A. 24579', 10.5, None, 'S'),\n",
       " (35, 0, 1, 'Meyer, Mr. Edgar Joseph', 'male', 28.0, 1, 0, 'PC 17604', 82.1708, None, 'C'),\n",
       " (36, 0, 1, 'Holverson, Mr. Alexander Oskar', 'male', 42.0, 1, 0, '113789', 52.0, None, 'S'),\n",
       " (37, 1, 3, 'Mamee, Mr. Hanna', 'male', None, 0, 0, '2677', 7.2292, None, 'C'),\n",
       " (38, 0, 3, 'Cann, Mr. Ernest Charles', 'male', 21.0, 0, 0, 'A./5. 2152', 8.05, None, 'S'),\n",
       " (39, 0, 3, 'Vander Planke, Miss. Augusta Maria', 'female', 18.0, 2, 0, '345764', 18.0, None, 'S'),\n",
       " (40, 1, 3, 'Nicola-Yarred, Miss. Jamila', 'female', 14.0, 1, 0, '2651', 11.2417, None, 'C'),\n",
       " (41, 0, 3, 'Ahlin, Mrs. Johan (Johanna Persdotter Larsson)', 'female', 40.0, 1, 0, '7546', 9.475, None, 'S'),\n",
       " (42, 0, 2, 'Turpin, Mrs. William John Robert (Dorothy Ann Wonnacott)', 'female', 27.0, 1, 0, '11668', 21.0, None, 'S'),\n",
       " (43, 0, 3, 'Kraeff, Mr. Theodor', 'male', None, 0, 0, '349253', 7.8958, None, 'C'),\n",
       " (44, 1, 2, 'Laroche, Miss. Simonne Marie Anne Andree', 'female', 3.0, 1, 2, 'SC/Paris 2123', 41.5792, None, 'C'),\n",
       " (45, 1, 3, 'Devaney, Miss. Margaret Delia', 'female', 19.0, 0, 0, '330958', 7.8792, None, 'Q'),\n",
       " (46, 0, 3, 'Rogers, Mr. William John', 'male', None, 0, 0, 'S.C./A.4. 23567', 8.05, None, 'S'),\n",
       " (47, 0, 3, 'Lennon, Mr. Denis', 'male', None, 1, 0, '370371', 15.5, None, 'Q'),\n",
       " (48, 1, 3, \"O'Driscoll, Miss. Bridget\", 'female', None, 0, 0, '14311', 7.75, None, 'Q'),\n",
       " (49, 0, 3, 'Samaan, Mr. Youssef', 'male', None, 2, 0, '2662', 21.6792, None, 'C'),\n",
       " (50, 0, 3, 'Arnold-Franchi, Mrs. Josef (Josefine Franchi)', 'female', 18.0, 1, 0, '349237', 17.8, None, 'S'),\n",
       " (51, 0, 3, 'Panula, Master. Juha Niilo', 'male', 7.0, 4, 1, '3101295', 39.6875, None, 'S'),\n",
       " (52, 0, 3, 'Nosworthy, Mr. Richard Cater', 'male', 21.0, 0, 0, 'A/4. 39886', 7.8, None, 'S'),\n",
       " (53, 1, 1, 'Harper, Mrs. Henry Sleeper (Myna Haxtun)', 'female', 49.0, 1, 0, 'PC 17572', 76.7292, 'D33', 'C'),\n",
       " (54, 1, 2, 'Faunthorpe, Mrs. Lizzie (Elizabeth Anne Wilkinson)', 'female', 29.0, 1, 0, '2926', 26.0, None, 'S'),\n",
       " (55, 0, 1, 'Ostby, Mr. Engelhart Cornelius', 'male', 65.0, 0, 1, '113509', 61.9792, 'B30', 'C'),\n",
       " (56, 1, 1, 'Woolner, Mr. Hugh', 'male', None, 0, 0, '19947', 35.5, 'C52', 'S'),\n",
       " (57, 1, 2, 'Rugg, Miss. Emily', 'female', 21.0, 0, 0, 'C.A. 31026', 10.5, None, 'S'),\n",
       " (58, 0, 3, 'Novel, Mr. Mansouer', 'male', 28.5, 0, 0, '2697', 7.2292, None, 'C'),\n",
       " (59, 1, 2, 'West, Miss. Constance Mirium', 'female', 5.0, 1, 2, 'C.A. 34651', 27.75, None, 'S'),\n",
       " (60, 0, 3, 'Goodwin, Master. William Frederick', 'male', 11.0, 5, 2, 'CA 2144', 46.9, None, 'S'),\n",
       " (61, 0, 3, 'Sirayanian, Mr. Orsen', 'male', 22.0, 0, 0, '2669', 7.2292, None, 'C'),\n",
       " (62, 1, 1, 'Icard, Miss. Amelie', 'female', 38.0, 0, 0, '113572', 80.0, 'B28', None),\n",
       " (63, 0, 1, 'Harris, Mr. Henry Birkhardt', 'male', 45.0, 1, 0, '36973', 83.475, 'C83', 'S'),\n",
       " (64, 0, 3, 'Skoog, Master. Harald', 'male', 4.0, 3, 2, '347088', 27.9, None, 'S'),\n",
       " (65, 0, 1, 'Stewart, Mr. Albert A', 'male', None, 0, 0, 'PC 17605', 27.7208, None, 'C'),\n",
       " (66, 1, 3, 'Moubarek, Master. Gerios', 'male', None, 1, 1, '2661', 15.2458, None, 'C'),\n",
       " (67, 1, 2, 'Nye, Mrs. (Elizabeth Ramell)', 'female', 29.0, 0, 0, 'C.A. 29395', 10.5, 'F33', 'S'),\n",
       " (68, 0, 3, 'Crease, Mr. Ernest James', 'male', 19.0, 0, 0, 'S.P. 3464', 8.1583, None, 'S'),\n",
       " (69, 1, 3, 'Andersson, Miss. Erna Alexandra', 'female', 17.0, 4, 2, '3101281', 7.925, None, 'S'),\n",
       " (70, 0, 3, 'Kink, Mr. Vincenz', 'male', 26.0, 2, 0, '315151', 8.6625, None, 'S'),\n",
       " (71, 0, 2, 'Jenkin, Mr. Stephen Curnow', 'male', 32.0, 0, 0, 'C.A. 33111', 10.5, None, 'S'),\n",
       " (72, 0, 3, 'Goodwin, Miss. Lillian Amy', 'female', 16.0, 5, 2, 'CA 2144', 46.9, None, 'S'),\n",
       " (73, 0, 2, 'Hood, Mr. Ambrose Jr', 'male', 21.0, 0, 0, 'S.O.C. 14879', 73.5, None, 'S'),\n",
       " (74, 0, 3, 'Chronopoulos, Mr. Apostolos', 'male', 26.0, 1, 0, '2680', 14.4542, None, 'C'),\n",
       " (75, 1, 3, 'Bing, Mr. Lee', 'male', 32.0, 0, 0, '1601', 56.4958, None, 'S'),\n",
       " (76, 0, 3, 'Moen, Mr. Sigurd Hansen', 'male', 25.0, 0, 0, '348123', 7.65, 'F G73', 'S'),\n",
       " (77, 0, 3, 'Staneff, Mr. Ivan', 'male', None, 0, 0, '349208', 7.8958, None, 'S'),\n",
       " (78, 0, 3, 'Moutal, Mr. Rahamin Haim', 'male', None, 0, 0, '374746', 8.05, None, 'S'),\n",
       " (79, 1, 2, 'Caldwell, Master. Alden Gates', 'male', 0.83, 0, 2, '248738', 29.0, None, 'S'),\n",
       " (80, 1, 3, 'Dowdell, Miss. Elizabeth', 'female', 30.0, 0, 0, '364516', 12.475, None, 'S'),\n",
       " (81, 0, 3, 'Waelens, Mr. Achille', 'male', 22.0, 0, 0, '345767', 9.0, None, 'S'),\n",
       " (82, 1, 3, 'Sheerlinck, Mr. Jan Baptist', 'male', 29.0, 0, 0, '345779', 9.5, None, 'S'),\n",
       " (83, 1, 3, 'McDermott, Miss. Brigdet Delia', 'female', None, 0, 0, '330932', 7.7875, None, 'Q'),\n",
       " (84, 0, 1, 'Carrau, Mr. Francisco M', 'male', 28.0, 0, 0, '113059', 47.1, None, 'S'),\n",
       " (85, 1, 2, 'Ilett, Miss. Bertha', 'female', 17.0, 0, 0, 'SO/C 14885', 10.5, None, 'S'),\n",
       " (86, 1, 3, 'Backstrom, Mrs. Karl Alfred (Maria Mathilda Gustafsson)', 'female', 33.0, 3, 0, '3101278', 15.85, None, 'S'),\n",
       " (87, 0, 3, 'Ford, Mr. William Neal', 'male', 16.0, 1, 3, 'W./C. 6608', 34.375, None, 'S'),\n",
       " (88, 0, 3, 'Slocovski, Mr. Selman Francis', 'male', None, 0, 0, 'SOTON/OQ 392086', 8.05, None, 'S'),\n",
       " (89, 1, 1, 'Fortune, Miss. Mabel Helen', 'female', 23.0, 3, 2, '19950', 263.0, 'C23 C25 C27', 'S'),\n",
       " (90, 0, 3, 'Celotti, Mr. Francesco', 'male', 24.0, 0, 0, '343275', 8.05, None, 'S'),\n",
       " (91, 0, 3, 'Christmann, Mr. Emil', 'male', 29.0, 0, 0, '343276', 8.05, None, 'S'),\n",
       " (92, 0, 3, 'Andreasson, Mr. Paul Edvin', 'male', 20.0, 0, 0, '347466', 7.8542, None, 'S'),\n",
       " (93, 0, 1, 'Chaffee, Mr. Herbert Fuller', 'male', 46.0, 1, 0, 'W.E.P. 5734', 61.175, 'E31', 'S'),\n",
       " (94, 0, 3, 'Dean, Mr. Bertram Frank', 'male', 26.0, 1, 2, 'C.A. 2315', 20.575, None, 'S'),\n",
       " (95, 0, 3, 'Coxon, Mr. Daniel', 'male', 59.0, 0, 0, '364500', 7.25, None, 'S'),\n",
       " (96, 0, 3, 'Shorney, Mr. Charles Joseph', 'male', None, 0, 0, '374910', 8.05, None, 'S'),\n",
       " (97, 0, 1, 'Goldschmidt, Mr. George B', 'male', 71.0, 0, 0, 'PC 17754', 34.6542, 'A5', 'C'),\n",
       " (98, 1, 1, 'Greenfield, Mr. William Bertram', 'male', 23.0, 0, 1, 'PC 17759', 63.3583, 'D10 D12', 'C'),\n",
       " (99, 1, 2, 'Doling, Mrs. John T (Ada Julia Bone)', 'female', 34.0, 0, 1, '231919', 23.0, None, 'S'),\n",
       " (100, 0, 2, 'Kantor, Mr. Sinai', 'male', 34.0, 1, 0, '244367', 26.0, None, 'S'),\n",
       " (101, 0, 3, 'Petranec, Miss. Matilda', 'female', 28.0, 0, 0, '349245', 7.8958, None, 'S'),\n",
       " (102, 0, 3, 'Petroff, Mr. Pastcho (\"Pentcho\")', 'male', None, 0, 0, '349215', 7.8958, None, 'S'),\n",
       " (103, 0, 1, 'White, Mr. Richard Frasar', 'male', 21.0, 0, 1, '35281', 77.2875, 'D26', 'S'),\n",
       " (104, 0, 3, 'Johansson, Mr. Gustaf Joel', 'male', 33.0, 0, 0, '7540', 8.6542, None, 'S'),\n",
       " (105, 0, 3, 'Gustafsson, Mr. Anders Vilhelm', 'male', 37.0, 2, 0, '3101276', 7.925, None, 'S'),\n",
       " (106, 0, 3, 'Mionoff, Mr. Stoytcho', 'male', 28.0, 0, 0, '349207', 7.8958, None, 'S'),\n",
       " (107, 1, 3, 'Salkjelsvik, Miss. Anna Kristine', 'female', 21.0, 0, 0, '343120', 7.65, None, 'S'),\n",
       " (108, 1, 3, 'Moss, Mr. Albert Johan', 'male', None, 0, 0, '312991', 7.775, None, 'S'),\n",
       " (109, 0, 3, 'Rekic, Mr. Tido', 'male', 38.0, 0, 0, '349249', 7.8958, None, 'S'),\n",
       " (110, 1, 3, 'Moran, Miss. Bertha', 'female', None, 1, 0, '371110', 24.15, None, 'Q'),\n",
       " (111, 0, 1, 'Porter, Mr. Walter Chamberlain', 'male', 47.0, 0, 0, '110465', 52.0, 'C110', 'S'),\n",
       " (112, 0, 3, 'Zabour, Miss. Hileni', 'female', 14.5, 1, 0, '2665', 14.4542, None, 'C'),\n",
       " (113, 0, 3, 'Barton, Mr. David John', 'male', 22.0, 0, 0, '324669', 8.05, None, 'S'),\n",
       " (114, 0, 3, 'Jussila, Miss. Katriina', 'female', 20.0, 1, 0, '4136', 9.825, None, 'S'),\n",
       " (115, 0, 3, 'Attalah, Miss. Malake', 'female', 17.0, 0, 0, '2627', 14.4583, None, 'C'),\n",
       " (116, 0, 3, 'Pekoniemi, Mr. Edvard', 'male', 21.0, 0, 0, 'STON/O 2. 3101294', 7.925, None, 'S'),\n",
       " (117, 0, 3, 'Connors, Mr. Patrick', 'male', 70.5, 0, 0, '370369', 7.75, None, 'Q'),\n",
       " (118, 0, 2, 'Turpin, Mr. William John Robert', 'male', 29.0, 1, 0, '11668', 21.0, None, 'S'),\n",
       " (119, 0, 1, 'Baxter, Mr. Quigg Edmond', 'male', 24.0, 0, 1, 'PC 17558', 247.5208, 'B58 B60', 'C'),\n",
       " (120, 0, 3, 'Andersson, Miss. Ellis Anna Maria', 'female', 2.0, 4, 2, '347082', 31.275, None, 'S'),\n",
       " (121, 0, 2, 'Hickman, Mr. Stanley George', 'male', 21.0, 2, 0, 'S.O.C. 14879', 73.5, None, 'S'),\n",
       " (122, 0, 3, 'Moore, Mr. Leonard Charles', 'male', None, 0, 0, 'A4. 54510', 8.05, None, 'S'),\n",
       " (123, 0, 2, 'Nasser, Mr. Nicholas', 'male', 32.5, 1, 0, '237736', 30.0708, None, 'C'),\n",
       " (124, 1, 2, 'Webber, Miss. Susan', 'female', 32.5, 0, 0, '27267', 13.0, 'E101', 'S'),\n",
       " (125, 0, 1, 'White, Mr. Percival Wayland', 'male', 54.0, 0, 1, '35281', 77.2875, 'D26', 'S'),\n",
       " (126, 1, 3, 'Nicola-Yarred, Master. Elias', 'male', 12.0, 1, 0, '2651', 11.2417, None, 'C'),\n",
       " (127, 0, 3, 'McMahon, Mr. Martin', 'male', None, 0, 0, '370372', 7.75, None, 'Q'),\n",
       " (128, 1, 3, 'Madsen, Mr. Fridtjof Arne', 'male', 24.0, 0, 0, 'C 17369', 7.1417, None, 'S'),\n",
       " (129, 1, 3, 'Peter, Miss. Anna', 'female', None, 1, 1, '2668', 22.3583, 'F E69', 'C'),\n",
       " (130, 0, 3, 'Ekstrom, Mr. Johan', 'male', 45.0, 0, 0, '347061', 6.975, None, 'S'),\n",
       " (131, 0, 3, 'Drazenoic, Mr. Jozef', 'male', 33.0, 0, 0, '349241', 7.8958, None, 'C'),\n",
       " (132, 0, 3, 'Coelho, Mr. Domingos Fernandeo', 'male', 20.0, 0, 0, 'SOTON/O.Q. 3101307', 7.05, None, 'S'),\n",
       " (133, 0, 3, 'Robins, Mrs. Alexander A (Grace Charity Laury)', 'female', 47.0, 1, 0, 'A/5. 3337', 14.5, None, 'S'),\n",
       " (134, 1, 2, 'Weisz, Mrs. Leopold (Mathilde Francoise Pede)', 'female', 29.0, 1, 0, '228414', 26.0, None, 'S'),\n",
       " (135, 0, 2, 'Sobey, Mr. Samuel James Hayden', 'male', 25.0, 0, 0, 'C.A. 29178', 13.0, None, 'S'),\n",
       " (136, 0, 2, 'Richard, Mr. Emile', 'male', 23.0, 0, 0, 'SC/PARIS 2133', 15.0458, None, 'C'),\n",
       " (137, 1, 1, 'Newsom, Miss. Helen Monypeny', 'female', 19.0, 0, 2, '11752', 26.2833, 'D47', 'S'),\n",
       " (138, 0, 1, 'Futrelle, Mr. Jacques Heath', 'male', 37.0, 1, 0, '113803', 53.1, 'C123', 'S'),\n",
       " (139, 0, 3, 'Osen, Mr. Olaf Elon', 'male', 16.0, 0, 0, '7534', 9.2167, None, 'S'),\n",
       " (140, 0, 1, 'Giglio, Mr. Victor', 'male', 24.0, 0, 0, 'PC 17593', 79.2, 'B86', 'C'),\n",
       " (141, 0, 3, 'Boulos, Mrs. Joseph (Sultana)', 'female', None, 0, 2, '2678', 15.2458, None, 'C'),\n",
       " (142, 1, 3, 'Nysten, Miss. Anna Sofia', 'female', 22.0, 0, 0, '347081', 7.75, None, 'S'),\n",
       " (143, 1, 3, 'Hakkarainen, Mrs. Pekka Pietari (Elin Matilda Dolck)', 'female', 24.0, 1, 0, 'STON/O2. 3101279', 15.85, None, 'S'),\n",
       " (144, 0, 3, 'Burke, Mr. Jeremiah', 'male', 19.0, 0, 0, '365222', 6.75, None, 'Q'),\n",
       " (145, 0, 2, 'Andrew, Mr. Edgardo Samuel', 'male', 18.0, 0, 0, '231945', 11.5, None, 'S'),\n",
       " (146, 0, 2, 'Nicholls, Mr. Joseph Charles', 'male', 19.0, 1, 1, 'C.A. 33112', 36.75, None, 'S'),\n",
       " (147, 1, 3, 'Andersson, Mr. August Edvard (\"Wennerstrom\")', 'male', 27.0, 0, 0, '350043', 7.7958, None, 'S'),\n",
       " (148, 0, 3, 'Ford, Miss. Robina Maggie \"Ruby\"', 'female', 9.0, 2, 2, 'W./C. 6608', 34.375, None, 'S'),\n",
       " (149, 0, 2, 'Navratil, Mr. Michel (\"Louis M Hoffman\")', 'male', 36.5, 0, 2, '230080', 26.0, 'F2', 'S'),\n",
       " (150, 0, 2, 'Byles, Rev. Thomas Roussel Davids', 'male', 42.0, 0, 0, '244310', 13.0, None, 'S'),\n",
       " (151, 0, 2, 'Bateman, Rev. Robert James', 'male', 51.0, 0, 0, 'S.O.P. 1166', 12.525, None, 'S'),\n",
       " (152, 1, 1, 'Pears, Mrs. Thomas (Edith Wearne)', 'female', 22.0, 1, 0, '113776', 66.6, 'C2', 'S'),\n",
       " (153, 0, 3, 'Meo, Mr. Alfonzo', 'male', 55.5, 0, 0, 'A.5. 11206', 8.05, None, 'S'),\n",
       " (154, 0, 3, 'van Billiard, Mr. Austin Blyler', 'male', 40.5, 0, 2, 'A/5. 851', 14.5, None, 'S'),\n",
       " (155, 0, 3, 'Olsen, Mr. Ole Martin', 'male', None, 0, 0, 'Fa 265302', 7.3125, None, 'S'),\n",
       " (156, 0, 1, 'Williams, Mr. Charles Duane', 'male', 51.0, 0, 1, 'PC 17597', 61.3792, None, 'C'),\n",
       " (157, 1, 3, 'Gilnagh, Miss. Katherine \"Katie\"', 'female', 16.0, 0, 0, '35851', 7.7333, None, 'Q'),\n",
       " (158, 0, 3, 'Corn, Mr. Harry', 'male', 30.0, 0, 0, 'SOTON/OQ 392090', 8.05, None, 'S'),\n",
       " (159, 0, 3, 'Smiljanic, Mr. Mile', 'male', None, 0, 0, '315037', 8.6625, None, 'S'),\n",
       " (160, 0, 3, 'Sage, Master. Thomas Henry', 'male', None, 8, 2, 'CA. 2343', 69.55, None, 'S'),\n",
       " (161, 0, 3, 'Cribb, Mr. John Hatfield', 'male', 44.0, 0, 1, '371362', 16.1, None, 'S'),\n",
       " (162, 1, 2, 'Watt, Mrs. James (Elizabeth \"Bessie\" Inglis Milne)', 'female', 40.0, 0, 0, 'C.A. 33595', 15.75, None, 'S'),\n",
       " (163, 0, 3, 'Bengtsson, Mr. John Viktor', 'male', 26.0, 0, 0, '347068', 7.775, None, 'S'),\n",
       " (164, 0, 3, 'Calic, Mr. Jovo', 'male', 17.0, 0, 0, '315093', 8.6625, None, 'S'),\n",
       " (165, 0, 3, 'Panula, Master. Eino Viljami', 'male', 1.0, 4, 1, '3101295', 39.6875, None, 'S'),\n",
       " (166, 1, 3, 'Goldsmith, Master. Frank John William \"Frankie\"', 'male', 9.0, 0, 2, '363291', 20.525, None, 'S'),\n",
       " (167, 1, 1, 'Chibnall, Mrs. (Edith Martha Bowerman)', 'female', None, 0, 1, '113505', 55.0, 'E33', 'S'),\n",
       " (168, 0, 3, 'Skoog, Mrs. William (Anna Bernhardina Karlsson)', 'female', 45.0, 1, 4, '347088', 27.9, None, 'S'),\n",
       " (169, 0, 1, 'Baumann, Mr. John D', 'male', None, 0, 0, 'PC 17318', 25.925, None, 'S'),\n",
       " (170, 0, 3, 'Ling, Mr. Lee', 'male', 28.0, 0, 0, '1601', 56.4958, None, 'S'),\n",
       " (171, 0, 1, 'Van der hoef, Mr. Wyckoff', 'male', 61.0, 0, 0, '111240', 33.5, 'B19', 'S'),\n",
       " (172, 0, 3, 'Rice, Master. Arthur', 'male', 4.0, 4, 1, '382652', 29.125, None, 'Q'),\n",
       " (173, 1, 3, 'Johnson, Miss. Eleanor Ileen', 'female', 1.0, 1, 1, '347742', 11.1333, None, 'S'),\n",
       " (174, 0, 3, 'Sivola, Mr. Antti Wilhelm', 'male', 21.0, 0, 0, 'STON/O 2. 3101280', 7.925, None, 'S'),\n",
       " (175, 0, 1, 'Smith, Mr. James Clinch', 'male', 56.0, 0, 0, '17764', 30.6958, 'A7', 'C'),\n",
       " (176, 0, 3, 'Klasen, Mr. Klas Albin', 'male', 18.0, 1, 1, '350404', 7.8542, None, 'S'),\n",
       " (177, 0, 3, 'Lefebre, Master. Henry Forbes', 'male', None, 3, 1, '4133', 25.4667, None, 'S'),\n",
       " (178, 0, 1, 'Isham, Miss. Ann Elizabeth', 'female', 50.0, 0, 0, 'PC 17595', 28.7125, 'C49', 'C'),\n",
       " (179, 0, 2, 'Hale, Mr. Reginald', 'male', 30.0, 0, 0, '250653', 13.0, None, 'S'),\n",
       " (180, 0, 3, 'Leonard, Mr. Lionel', 'male', 36.0, 0, 0, 'LINE', 0.0, None, 'S'),\n",
       " (181, 0, 3, 'Sage, Miss. Constance Gladys', 'female', None, 8, 2, 'CA. 2343', 69.55, None, 'S'),\n",
       " (182, 0, 2, 'Pernot, Mr. Rene', 'male', None, 0, 0, 'SC/PARIS 2131', 15.05, None, 'C'),\n",
       " (183, 0, 3, 'Asplund, Master. Clarence Gustaf Hugo', 'male', 9.0, 4, 2, '347077', 31.3875, None, 'S'),\n",
       " (184, 1, 2, 'Becker, Master. Richard F', 'male', 1.0, 2, 1, '230136', 39.0, 'F4', 'S'),\n",
       " (185, 1, 3, 'Kink-Heilmann, Miss. Luise Gretchen', 'female', 4.0, 0, 2, '315153', 22.025, None, 'S'),\n",
       " (186, 0, 1, 'Rood, Mr. Hugh Roscoe', 'male', None, 0, 0, '113767', 50.0, 'A32', 'S'),\n",
       " (187, 1, 3, 'O\\'Brien, Mrs. Thomas (Johanna \"Hannah\" Godfrey)', 'female', None, 1, 0, '370365', 15.5, None, 'Q'),\n",
       " (188, 1, 1, 'Romaine, Mr. Charles Hallace (\"Mr C Rolmane\")', 'male', 45.0, 0, 0, '111428', 26.55, None, 'S'),\n",
       " (189, 0, 3, 'Bourke, Mr. John', 'male', 40.0, 1, 1, '364849', 15.5, None, 'Q'),\n",
       " (190, 0, 3, 'Turcin, Mr. Stjepan', 'male', 36.0, 0, 0, '349247', 7.8958, None, 'S'),\n",
       " (191, 1, 2, 'Pinsky, Mrs. (Rosa)', 'female', 32.0, 0, 0, '234604', 13.0, None, 'S'),\n",
       " (192, 0, 2, 'Carbines, Mr. William', 'male', 19.0, 0, 0, '28424', 13.0, None, 'S'),\n",
       " (193, 1, 3, 'Andersen-Jensen, Miss. Carla Christine Nielsine', 'female', 19.0, 1, 0, '350046', 7.8542, None, 'S'),\n",
       " (194, 1, 2, 'Navratil, Master. Michel M', 'male', 3.0, 1, 1, '230080', 26.0, 'F2', 'S'),\n",
       " (195, 1, 1, 'Brown, Mrs. James Joseph (Margaret Tobin)', 'female', 44.0, 0, 0, 'PC 17610', 27.7208, 'B4', 'C'),\n",
       " (196, 1, 1, 'Lurette, Miss. Elise', 'female', 58.0, 0, 0, 'PC 17569', 146.5208, 'B80', 'C'),\n",
       " (197, 0, 3, 'Mernagh, Mr. Robert', 'male', None, 0, 0, '368703', 7.75, None, 'Q'),\n",
       " (198, 0, 3, 'Olsen, Mr. Karl Siegwart Andreas', 'male', 42.0, 0, 1, '4579', 8.4042, None, 'S'),\n",
       " (199, 1, 3, 'Madigan, Miss. Margaret \"Maggie\"', 'female', None, 0, 0, '370370', 7.75, None, 'Q'),\n",
       " (200, 0, 2, 'Yrois, Miss. Henriette (\"Mrs Harbeck\")', 'female', 24.0, 0, 0, '248747', 13.0, None, 'S'),\n",
       " (201, 0, 3, 'Vande Walle, Mr. Nestor Cyriel', 'male', 28.0, 0, 0, '345770', 9.5, None, 'S'),\n",
       " (202, 0, 3, 'Sage, Mr. Frederick', 'male', None, 8, 2, 'CA. 2343', 69.55, None, 'S'),\n",
       " (203, 0, 3, 'Johanson, Mr. Jakob Alfred', 'male', 34.0, 0, 0, '3101264', 6.4958, None, 'S'),\n",
       " (204, 0, 3, 'Youseff, Mr. Gerious', 'male', 45.5, 0, 0, '2628', 7.225, None, 'C'),\n",
       " (205, 1, 3, 'Cohen, Mr. Gurshon \"Gus\"', 'male', 18.0, 0, 0, 'A/5 3540', 8.05, None, 'S'),\n",
       " (206, 0, 3, 'Strom, Miss. Telma Matilda', 'female', 2.0, 0, 1, '347054', 10.4625, 'G6', 'S'),\n",
       " (207, 0, 3, 'Backstrom, Mr. Karl Alfred', 'male', 32.0, 1, 0, '3101278', 15.85, None, 'S'),\n",
       " (208, 1, 3, 'Albimona, Mr. Nassef Cassem', 'male', 26.0, 0, 0, '2699', 18.7875, None, 'C'),\n",
       " (209, 1, 3, 'Carr, Miss. Helen \"Ellen\"', 'female', 16.0, 0, 0, '367231', 7.75, None, 'Q'),\n",
       " (210, 1, 1, 'Blank, Mr. Henry', 'male', 40.0, 0, 0, '112277', 31.0, 'A31', 'C'),\n",
       " (211, 0, 3, 'Ali, Mr. Ahmed', 'male', 24.0, 0, 0, 'SOTON/O.Q. 3101311', 7.05, None, 'S'),\n",
       " (212, 1, 2, 'Cameron, Miss. Clear Annie', 'female', 35.0, 0, 0, 'F.C.C. 13528', 21.0, None, 'S'),\n",
       " (213, 0, 3, 'Perkin, Mr. John Henry', 'male', 22.0, 0, 0, 'A/5 21174', 7.25, None, 'S'),\n",
       " (214, 0, 2, 'Givard, Mr. Hans Kristensen', 'male', 30.0, 0, 0, '250646', 13.0, None, 'S'),\n",
       " (215, 0, 3, 'Kiernan, Mr. Philip', 'male', None, 1, 0, '367229', 7.75, None, 'Q'),\n",
       " (216, 1, 1, 'Newell, Miss. Madeleine', 'female', 31.0, 1, 0, '35273', 113.275, 'D36', 'C'),\n",
       " (217, 1, 3, 'Honkanen, Miss. Eliina', 'female', 27.0, 0, 0, 'STON/O2. 3101283', 7.925, None, 'S'),\n",
       " (218, 0, 2, 'Jacobsohn, Mr. Sidney Samuel', 'male', 42.0, 1, 0, '243847', 27.0, None, 'S'),\n",
       " (219, 1, 1, 'Bazzani, Miss. Albina', 'female', 32.0, 0, 0, '11813', 76.2917, 'D15', 'C'),\n",
       " (220, 0, 2, 'Harris, Mr. Walter', 'male', 30.0, 0, 0, 'W/C 14208', 10.5, None, 'S'),\n",
       " (221, 1, 3, 'Sunderland, Mr. Victor Francis', 'male', 16.0, 0, 0, 'SOTON/OQ 392089', 8.05, None, 'S'),\n",
       " (222, 0, 2, 'Bracken, Mr. James H', 'male', 27.0, 0, 0, '220367', 13.0, None, 'S'),\n",
       " (223, 0, 3, 'Green, Mr. George Henry', 'male', 51.0, 0, 0, '21440', 8.05, None, 'S'),\n",
       " (224, 0, 3, 'Nenkoff, Mr. Christo', 'male', None, 0, 0, '349234', 7.8958, None, 'S'),\n",
       " (225, 1, 1, 'Hoyt, Mr. Frederick Maxfield', 'male', 38.0, 1, 0, '19943', 90.0, 'C93', 'S'),\n",
       " (226, 0, 3, 'Berglund, Mr. Karl Ivar Sven', 'male', 22.0, 0, 0, 'PP 4348', 9.35, None, 'S'),\n",
       " (227, 1, 2, 'Mellors, Mr. William John', 'male', 19.0, 0, 0, 'SW/PP 751', 10.5, None, 'S'),\n",
       " (228, 0, 3, 'Lovell, Mr. John Hall (\"Henry\")', 'male', 20.5, 0, 0, 'A/5 21173', 7.25, None, 'S'),\n",
       " (229, 0, 2, 'Fahlstrom, Mr. Arne Jonas', 'male', 18.0, 0, 0, '236171', 13.0, None, 'S'),\n",
       " (230, 0, 3, 'Lefebre, Miss. Mathilde', 'female', None, 3, 1, '4133', 25.4667, None, 'S'),\n",
       " (231, 1, 1, 'Harris, Mrs. Henry Birkhardt (Irene Wallach)', 'female', 35.0, 1, 0, '36973', 83.475, 'C83', 'S'),\n",
       " (232, 0, 3, 'Larsson, Mr. Bengt Edvin', 'male', 29.0, 0, 0, '347067', 7.775, None, 'S'),\n",
       " (233, 0, 2, 'Sjostedt, Mr. Ernst Adolf', 'male', 59.0, 0, 0, '237442', 13.5, None, 'S'),\n",
       " (234, 1, 3, 'Asplund, Miss. Lillian Gertrud', 'female', 5.0, 4, 2, '347077', 31.3875, None, 'S'),\n",
       " (235, 0, 2, 'Leyson, Mr. Robert William Norman', 'male', 24.0, 0, 0, 'C.A. 29566', 10.5, None, 'S'),\n",
       " (236, 0, 3, 'Harknett, Miss. Alice Phoebe', 'female', None, 0, 0, 'W./C. 6609', 7.55, None, 'S'),\n",
       " (237, 0, 2, 'Hold, Mr. Stephen', 'male', 44.0, 1, 0, '26707', 26.0, None, 'S'),\n",
       " (238, 1, 2, 'Collyer, Miss. Marjorie \"Lottie\"', 'female', 8.0, 0, 2, 'C.A. 31921', 26.25, None, 'S'),\n",
       " (239, 0, 2, 'Pengelly, Mr. Frederick William', 'male', 19.0, 0, 0, '28665', 10.5, None, 'S'),\n",
       " (240, 0, 2, 'Hunt, Mr. George Henry', 'male', 33.0, 0, 0, 'SCO/W 1585', 12.275, None, 'S'),\n",
       " (241, 0, 3, 'Zabour, Miss. Thamine', 'female', None, 1, 0, '2665', 14.4542, None, 'C'),\n",
       " (242, 1, 3, 'Murphy, Miss. Katherine \"Kate\"', 'female', None, 1, 0, '367230', 15.5, None, 'Q'),\n",
       " (243, 0, 2, 'Coleridge, Mr. Reginald Charles', 'male', 29.0, 0, 0, 'W./C. 14263', 10.5, None, 'S'),\n",
       " (244, 0, 3, 'Maenpaa, Mr. Matti Alexanteri', 'male', 22.0, 0, 0, 'STON/O 2. 3101275', 7.125, None, 'S'),\n",
       " (245, 0, 3, 'Attalah, Mr. Sleiman', 'male', 30.0, 0, 0, '2694', 7.225, None, 'C'),\n",
       " (246, 0, 1, 'Minahan, Dr. William Edward', 'male', 44.0, 2, 0, '19928', 90.0, 'C78', 'Q'),\n",
       " (247, 0, 3, 'Lindahl, Miss. Agda Thorilda Viktoria', 'female', 25.0, 0, 0, '347071', 7.775, None, 'S'),\n",
       " (248, 1, 2, 'Hamalainen, Mrs. William (Anna)', 'female', 24.0, 0, 2, '250649', 14.5, None, 'S'),\n",
       " (249, 1, 1, 'Beckwith, Mr. Richard Leonard', 'male', 37.0, 1, 1, '11751', 52.5542, 'D35', 'S'),\n",
       " (250, 0, 2, 'Carter, Rev. Ernest Courtenay', 'male', 54.0, 1, 0, '244252', 26.0, None, 'S'),\n",
       " (251, 0, 3, 'Reed, Mr. James George', 'male', None, 0, 0, '362316', 7.25, None, 'S'),\n",
       " (252, 0, 3, 'Strom, Mrs. Wilhelm (Elna Matilda Persson)', 'female', 29.0, 1, 1, '347054', 10.4625, 'G6', 'S'),\n",
       " (253, 0, 1, 'Stead, Mr. William Thomas', 'male', 62.0, 0, 0, '113514', 26.55, 'C87', 'S'),\n",
       " (254, 0, 3, 'Lobb, Mr. William Arthur', 'male', 30.0, 1, 0, 'A/5. 3336', 16.1, None, 'S'),\n",
       " (255, 0, 3, 'Rosblom, Mrs. Viktor (Helena Wilhelmina)', 'female', 41.0, 0, 2, '370129', 20.2125, None, 'S'),\n",
       " (256, 1, 3, 'Touma, Mrs. Darwis (Hanne Youssef Razi)', 'female', 29.0, 0, 2, '2650', 15.2458, None, 'C'),\n",
       " (257, 1, 1, 'Thorne, Mrs. Gertrude Maybelle', 'female', None, 0, 0, 'PC 17585', 79.2, None, 'C'),\n",
       " (258, 1, 1, 'Cherry, Miss. Gladys', 'female', 30.0, 0, 0, '110152', 86.5, 'B77', 'S'),\n",
       " (259, 1, 1, 'Ward, Miss. Anna', 'female', 35.0, 0, 0, 'PC 17755', 512.3292, None, 'C'),\n",
       " (260, 1, 2, 'Parrish, Mrs. (Lutie Davis)', 'female', 50.0, 0, 1, '230433', 26.0, None, 'S'),\n",
       " (261, 0, 3, 'Smith, Mr. Thomas', 'male', None, 0, 0, '384461', 7.75, None, 'Q'),\n",
       " (262, 1, 3, 'Asplund, Master. Edvin Rojj Felix', 'male', 3.0, 4, 2, '347077', 31.3875, None, 'S'),\n",
       " (263, 0, 1, 'Taussig, Mr. Emil', 'male', 52.0, 1, 1, '110413', 79.65, 'E67', 'S'),\n",
       " (264, 0, 1, 'Harrison, Mr. William', 'male', 40.0, 0, 0, '112059', 0.0, 'B94', 'S'),\n",
       " (265, 0, 3, 'Henry, Miss. Delia', 'female', None, 0, 0, '382649', 7.75, None, 'Q'),\n",
       " (266, 0, 2, 'Reeves, Mr. David', 'male', 36.0, 0, 0, 'C.A. 17248', 10.5, None, 'S'),\n",
       " (267, 0, 3, 'Panula, Mr. Ernesti Arvid', 'male', 16.0, 4, 1, '3101295', 39.6875, None, 'S'),\n",
       " (268, 1, 3, 'Persson, Mr. Ernst Ulrik', 'male', 25.0, 1, 0, '347083', 7.775, None, 'S'),\n",
       " (269, 1, 1, 'Graham, Mrs. William Thompson (Edith Junkins)', 'female', 58.0, 0, 1, 'PC 17582', 153.4625, 'C125', 'S'),\n",
       " (270, 1, 1, 'Bissette, Miss. Amelia', 'female', 35.0, 0, 0, 'PC 17760', 135.6333, 'C99', 'S'),\n",
       " (271, 0, 1, 'Cairns, Mr. Alexander', 'male', None, 0, 0, '113798', 31.0, None, 'S'),\n",
       " (272, 1, 3, 'Tornquist, Mr. William Henry', 'male', 25.0, 0, 0, 'LINE', 0.0, None, 'S'),\n",
       " (273, 1, 2, 'Mellinger, Mrs. (Elizabeth Anne Maidment)', 'female', 41.0, 0, 1, '250644', 19.5, None, 'S'),\n",
       " (274, 0, 1, 'Natsch, Mr. Charles H', 'male', 37.0, 0, 1, 'PC 17596', 29.7, 'C118', 'C'),\n",
       " (275, 1, 3, 'Healy, Miss. Hanora \"Nora\"', 'female', None, 0, 0, '370375', 7.75, None, 'Q'),\n",
       " (276, 1, 1, 'Andrews, Miss. Kornelia Theodosia', 'female', 63.0, 1, 0, '13502', 77.9583, 'D7', 'S'),\n",
       " (277, 0, 3, 'Lindblom, Miss. Augusta Charlotta', 'female', 45.0, 0, 0, '347073', 7.75, None, 'S'),\n",
       " (278, 0, 2, 'Parkes, Mr. Francis \"Frank\"', 'male', None, 0, 0, '239853', 0.0, None, 'S'),\n",
       " (279, 0, 3, 'Rice, Master. Eric', 'male', 7.0, 4, 1, '382652', 29.125, None, 'Q'),\n",
       " (280, 1, 3, 'Abbott, Mrs. Stanton (Rosa Hunt)', 'female', 35.0, 1, 1, 'C.A. 2673', 20.25, None, 'S'),\n",
       " (281, 0, 3, 'Duane, Mr. Frank', 'male', 65.0, 0, 0, '336439', 7.75, None, 'Q'),\n",
       " (282, 0, 3, 'Olsson, Mr. Nils Johan Goransson', 'male', 28.0, 0, 0, '347464', 7.8542, None, 'S'),\n",
       " (283, 0, 3, 'de Pelsmaeker, Mr. Alfons', 'male', 16.0, 0, 0, '345778', 9.5, None, 'S'),\n",
       " (284, 1, 3, 'Dorking, Mr. Edward Arthur', 'male', 19.0, 0, 0, 'A/5. 10482', 8.05, None, 'S'),\n",
       " (285, 0, 1, 'Smith, Mr. Richard William', 'male', None, 0, 0, '113056', 26.0, 'A19', 'S'),\n",
       " (286, 0, 3, 'Stankovic, Mr. Ivan', 'male', 33.0, 0, 0, '349239', 8.6625, None, 'C'),\n",
       " (287, 1, 3, 'de Mulder, Mr. Theodore', 'male', 30.0, 0, 0, '345774', 9.5, None, 'S'),\n",
       " (288, 0, 3, 'Naidenoff, Mr. Penko', 'male', 22.0, 0, 0, '349206', 7.8958, None, 'S'),\n",
       " (289, 1, 2, 'Hosono, Mr. Masabumi', 'male', 42.0, 0, 0, '237798', 13.0, None, 'S'),\n",
       " (290, 1, 3, 'Connolly, Miss. Kate', 'female', 22.0, 0, 0, '370373', 7.75, None, 'Q'),\n",
       " (291, 1, 1, 'Barber, Miss. Ellen \"Nellie\"', 'female', 26.0, 0, 0, '19877', 78.85, None, 'S'),\n",
       " (292, 1, 1, 'Bishop, Mrs. Dickinson H (Helen Walton)', 'female', 19.0, 1, 0, '11967', 91.0792, 'B49', 'C'),\n",
       " (293, 0, 2, 'Levy, Mr. Rene Jacques', 'male', 36.0, 0, 0, 'SC/Paris 2163', 12.875, 'D', 'C'),\n",
       " (294, 0, 3, 'Haas, Miss. Aloisia', 'female', 24.0, 0, 0, '349236', 8.85, None, 'S'),\n",
       " (295, 0, 3, 'Mineff, Mr. Ivan', 'male', 24.0, 0, 0, '349233', 7.8958, None, 'S'),\n",
       " (296, 0, 1, 'Lewy, Mr. Ervin G', 'male', None, 0, 0, 'PC 17612', 27.7208, None, 'C'),\n",
       " (297, 0, 3, 'Hanna, Mr. Mansour', 'male', 23.5, 0, 0, '2693', 7.2292, None, 'C'),\n",
       " (298, 0, 1, 'Allison, Miss. Helen Loraine', 'female', 2.0, 1, 2, '113781', 151.55, 'C22 C26', 'S'),\n",
       " (299, 1, 1, 'Saalfeld, Mr. Adolphe', 'male', None, 0, 0, '19988', 30.5, 'C106', 'S'),\n",
       " (300, 1, 1, 'Baxter, Mrs. James (Helene DeLaudeniere Chaput)', 'female', 50.0, 0, 1, 'PC 17558', 247.5208, 'B58 B60', 'C'),\n",
       " (301, 1, 3, 'Kelly, Miss. Anna Katherine \"Annie Kate\"', 'female', None, 0, 0, '9234', 7.75, None, 'Q'),\n",
       " (302, 1, 3, 'McCoy, Mr. Bernard', 'male', None, 2, 0, '367226', 23.25, None, 'Q'),\n",
       " (303, 0, 3, 'Johnson, Mr. William Cahoone Jr', 'male', 19.0, 0, 0, 'LINE', 0.0, None, 'S'),\n",
       " (304, 1, 2, 'Keane, Miss. Nora A', 'female', None, 0, 0, '226593', 12.35, 'E101', 'Q'),\n",
       " (305, 0, 3, 'Williams, Mr. Howard Hugh \"Harry\"', 'male', None, 0, 0, 'A/5 2466', 8.05, None, 'S'),\n",
       " (306, 1, 1, 'Allison, Master. Hudson Trevor', 'male', 0.92, 1, 2, '113781', 151.55, 'C22 C26', 'S'),\n",
       " (307, 1, 1, 'Fleming, Miss. Margaret', 'female', None, 0, 0, '17421', 110.8833, None, 'C'),\n",
       " (308, 1, 1, 'Penasco y Castellana, Mrs. Victor de Satode (Maria Josefa Perez de Soto y Vallejo)', 'female', 17.0, 1, 0, 'PC 17758', 108.9, 'C65', 'C'),\n",
       " (309, 0, 2, 'Abelson, Mr. Samuel', 'male', 30.0, 1, 0, 'P/PP 3381', 24.0, None, 'C'),\n",
       " (310, 1, 1, 'Francatelli, Miss. Laura Mabel', 'female', 30.0, 0, 0, 'PC 17485', 56.9292, 'E36', 'C'),\n",
       " (311, 1, 1, 'Hays, Miss. Margaret Bechstein', 'female', 24.0, 0, 0, '11767', 83.1583, 'C54', 'C'),\n",
       " (312, 1, 1, 'Ryerson, Miss. Emily Borie', 'female', 18.0, 2, 2, 'PC 17608', 262.375, 'B57 B59 B63 B66', 'C'),\n",
       " (313, 0, 2, 'Lahtinen, Mrs. William (Anna Sylfven)', 'female', 26.0, 1, 1, '250651', 26.0, None, 'S'),\n",
       " (314, 0, 3, 'Hendekovic, Mr. Ignjac', 'male', 28.0, 0, 0, '349243', 7.8958, None, 'S'),\n",
       " (315, 0, 2, 'Hart, Mr. Benjamin', 'male', 43.0, 1, 1, 'F.C.C. 13529', 26.25, None, 'S'),\n",
       " (316, 1, 3, 'Nilsson, Miss. Helmina Josefina', 'female', 26.0, 0, 0, '347470', 7.8542, None, 'S'),\n",
       " (317, 1, 2, 'Kantor, Mrs. Sinai (Miriam Sternin)', 'female', 24.0, 1, 0, '244367', 26.0, None, 'S'),\n",
       " (318, 0, 2, 'Moraweck, Dr. Ernest', 'male', 54.0, 0, 0, '29011', 14.0, None, 'S'),\n",
       " (319, 1, 1, 'Wick, Miss. Mary Natalie', 'female', 31.0, 0, 2, '36928', 164.8667, 'C7', 'S'),\n",
       " (320, 1, 1, 'Spedden, Mrs. Frederic Oakley (Margaretta Corning Stone)', 'female', 40.0, 1, 1, '16966', 134.5, 'E34', 'C'),\n",
       " (321, 0, 3, 'Dennis, Mr. Samuel', 'male', 22.0, 0, 0, 'A/5 21172', 7.25, None, 'S'),\n",
       " (322, 0, 3, 'Danoff, Mr. Yoto', 'male', 27.0, 0, 0, '349219', 7.8958, None, 'S'),\n",
       " (323, 1, 2, 'Slayter, Miss. Hilda Mary', 'female', 30.0, 0, 0, '234818', 12.35, None, 'Q'),\n",
       " (324, 1, 2, 'Caldwell, Mrs. Albert Francis (Sylvia Mae Harbaugh)', 'female', 22.0, 1, 1, '248738', 29.0, None, 'S'),\n",
       " (325, 0, 3, 'Sage, Mr. George John Jr', 'male', None, 8, 2, 'CA. 2343', 69.55, None, 'S'),\n",
       " (326, 1, 1, 'Young, Miss. Marie Grice', 'female', 36.0, 0, 0, 'PC 17760', 135.6333, 'C32', 'C'),\n",
       " (327, 0, 3, 'Nysveen, Mr. Johan Hansen', 'male', 61.0, 0, 0, '345364', 6.2375, None, 'S'),\n",
       " (328, 1, 2, 'Ball, Mrs. (Ada E Hall)', 'female', 36.0, 0, 0, '28551', 13.0, 'D', 'S'),\n",
       " (329, 1, 3, 'Goldsmith, Mrs. Frank John (Emily Alice Brown)', 'female', 31.0, 1, 1, '363291', 20.525, None, 'S'),\n",
       " (330, 1, 1, 'Hippach, Miss. Jean Gertrude', 'female', 16.0, 0, 1, '111361', 57.9792, 'B18', 'C'),\n",
       " (331, 1, 3, 'McCoy, Miss. Agnes', 'female', None, 2, 0, '367226', 23.25, None, 'Q'),\n",
       " (332, 0, 1, 'Partner, Mr. Austen', 'male', 45.5, 0, 0, '113043', 28.5, 'C124', 'S'),\n",
       " (333, 0, 1, 'Graham, Mr. George Edward', 'male', 38.0, 0, 1, 'PC 17582', 153.4625, 'C91', 'S'),\n",
       " (334, 0, 3, 'Vander Planke, Mr. Leo Edmondus', 'male', 16.0, 2, 0, '345764', 18.0, None, 'S'),\n",
       " (335, 1, 1, 'Frauenthal, Mrs. Henry William (Clara Heinsheimer)', 'female', None, 1, 0, 'PC 17611', 133.65, None, 'S'),\n",
       " (336, 0, 3, 'Denkoff, Mr. Mitto', 'male', None, 0, 0, '349225', 7.8958, None, 'S'),\n",
       " (337, 0, 1, 'Pears, Mr. Thomas Clinton', 'male', 29.0, 1, 0, '113776', 66.6, 'C2', 'S'),\n",
       " (338, 1, 1, 'Burns, Miss. Elizabeth Margaret', 'female', 41.0, 0, 0, '16966', 134.5, 'E40', 'C'),\n",
       " (339, 1, 3, 'Dahl, Mr. Karl Edwart', 'male', 45.0, 0, 0, '7598', 8.05, None, 'S'),\n",
       " (340, 0, 1, 'Blackwell, Mr. Stephen Weart', 'male', 45.0, 0, 0, '113784', 35.5, 'T', 'S'),\n",
       " (341, 1, 2, 'Navratil, Master. Edmond Roger', 'male', 2.0, 1, 1, '230080', 26.0, 'F2', 'S'),\n",
       " (342, 1, 1, 'Fortune, Miss. Alice Elizabeth', 'female', 24.0, 3, 2, '19950', 263.0, 'C23 C25 C27', 'S'),\n",
       " (343, 0, 2, 'Collander, Mr. Erik Gustaf', 'male', 28.0, 0, 0, '248740', 13.0, None, 'S'),\n",
       " (344, 0, 2, 'Sedgwick, Mr. Charles Frederick Waddington', 'male', 25.0, 0, 0, '244361', 13.0, None, 'S'),\n",
       " (345, 0, 2, 'Fox, Mr. Stanley Hubert', 'male', 36.0, 0, 0, '229236', 13.0, None, 'S'),\n",
       " (346, 1, 2, 'Brown, Miss. Amelia \"Mildred\"', 'female', 24.0, 0, 0, '248733', 13.0, 'F33', 'S'),\n",
       " (347, 1, 2, 'Smith, Miss. Marion Elsie', 'female', 40.0, 0, 0, '31418', 13.0, None, 'S'),\n",
       " (348, 1, 3, 'Davison, Mrs. Thomas Henry (Mary E Finck)', 'female', None, 1, 0, '386525', 16.1, None, 'S'),\n",
       " (349, 1, 3, 'Coutts, Master. William Loch \"William\"', 'male', 3.0, 1, 1, 'C.A. 37671', 15.9, None, 'S'),\n",
       " (350, 0, 3, 'Dimic, Mr. Jovan', 'male', 42.0, 0, 0, '315088', 8.6625, None, 'S'),\n",
       " (351, 0, 3, 'Odahl, Mr. Nils Martin', 'male', 23.0, 0, 0, '7267', 9.225, None, 'S'),\n",
       " (352, 0, 1, 'Williams-Lambert, Mr. Fletcher Fellows', 'male', None, 0, 0, '113510', 35.0, 'C128', 'S'),\n",
       " (353, 0, 3, 'Elias, Mr. Tannous', 'male', 15.0, 1, 1, '2695', 7.2292, None, 'C'),\n",
       " (354, 0, 3, 'Arnold-Franchi, Mr. Josef', 'male', 25.0, 1, 0, '349237', 17.8, None, 'S'),\n",
       " (355, 0, 3, 'Yousif, Mr. Wazli', 'male', None, 0, 0, '2647', 7.225, None, 'C'),\n",
       " (356, 0, 3, 'Vanden Steen, Mr. Leo Peter', 'male', 28.0, 0, 0, '345783', 9.5, None, 'S'),\n",
       " (357, 1, 1, 'Bowerman, Miss. Elsie Edith', 'female', 22.0, 0, 1, '113505', 55.0, 'E33', 'S'),\n",
       " (358, 0, 2, 'Funk, Miss. Annie Clemmer', 'female', 38.0, 0, 0, '237671', 13.0, None, 'S'),\n",
       " (359, 1, 3, 'McGovern, Miss. Mary', 'female', None, 0, 0, '330931', 7.8792, None, 'Q'),\n",
       " (360, 1, 3, 'Mockler, Miss. Helen Mary \"Ellie\"', 'female', None, 0, 0, '330980', 7.8792, None, 'Q'),\n",
       " (361, 0, 3, 'Skoog, Mr. Wilhelm', 'male', 40.0, 1, 4, '347088', 27.9, None, 'S'),\n",
       " (362, 0, 2, 'del Carlo, Mr. Sebastiano', 'male', 29.0, 1, 0, 'SC/PARIS 2167', 27.7208, None, 'C'),\n",
       " (363, 0, 3, 'Barbara, Mrs. (Catherine David)', 'female', 45.0, 0, 1, '2691', 14.4542, None, 'C'),\n",
       " (364, 0, 3, 'Asim, Mr. Adola', 'male', 35.0, 0, 0, 'SOTON/O.Q. 3101310', 7.05, None, 'S'),\n",
       " (365, 0, 3, \"O'Brien, Mr. Thomas\", 'male', None, 1, 0, '370365', 15.5, None, 'Q'),\n",
       " (366, 0, 3, 'Adahl, Mr. Mauritz Nils Martin', 'male', 30.0, 0, 0, 'C 7076', 7.25, None, 'S'),\n",
       " (367, 1, 1, 'Warren, Mrs. Frank Manley (Anna Sophia Atkinson)', 'female', 60.0, 1, 0, '110813', 75.25, 'D37', 'C'),\n",
       " (368, 1, 3, 'Moussa, Mrs. (Mantoura Boulos)', 'female', None, 0, 0, '2626', 7.2292, None, 'C'),\n",
       " (369, 1, 3, 'Jermyn, Miss. Annie', 'female', None, 0, 0, '14313', 7.75, None, 'Q'),\n",
       " (370, 1, 1, 'Aubart, Mme. Leontine Pauline', 'female', 24.0, 0, 0, 'PC 17477', 69.3, 'B35', 'C'),\n",
       " (371, 1, 1, 'Harder, Mr. George Achilles', 'male', 25.0, 1, 0, '11765', 55.4417, 'E50', 'C'),\n",
       " (372, 0, 3, 'Wiklund, Mr. Jakob Alfred', 'male', 18.0, 1, 0, '3101267', 6.4958, None, 'S'),\n",
       " (373, 0, 3, 'Beavan, Mr. William Thomas', 'male', 19.0, 0, 0, '323951', 8.05, None, 'S'),\n",
       " (374, 0, 1, 'Ringhini, Mr. Sante', 'male', 22.0, 0, 0, 'PC 17760', 135.6333, None, 'C'),\n",
       " (375, 0, 3, 'Palsson, Miss. Stina Viola', 'female', 3.0, 3, 1, '349909', 21.075, None, 'S'),\n",
       " (376, 1, 1, 'Meyer, Mrs. Edgar Joseph (Leila Saks)', 'female', None, 1, 0, 'PC 17604', 82.1708, None, 'C'),\n",
       " (377, 1, 3, 'Landergren, Miss. Aurora Adelia', 'female', 22.0, 0, 0, 'C 7077', 7.25, None, 'S'),\n",
       " (378, 0, 1, 'Widener, Mr. Harry Elkins', 'male', 27.0, 0, 2, '113503', 211.5, 'C82', 'C'),\n",
       " (379, 0, 3, 'Betros, Mr. Tannous', 'male', 20.0, 0, 0, '2648', 4.0125, None, 'C'),\n",
       " (380, 0, 3, 'Gustafsson, Mr. Karl Gideon', 'male', 19.0, 0, 0, '347069', 7.775, None, 'S'),\n",
       " (381, 1, 1, 'Bidois, Miss. Rosalie', 'female', 42.0, 0, 0, 'PC 17757', 227.525, None, 'C'),\n",
       " (382, 1, 3, 'Nakid, Miss. Maria (\"Mary\")', 'female', 1.0, 0, 2, '2653', 15.7417, None, 'C'),\n",
       " (383, 0, 3, 'Tikkanen, Mr. Juho', 'male', 32.0, 0, 0, 'STON/O 2. 3101293', 7.925, None, 'S'),\n",
       " (384, 1, 1, 'Holverson, Mrs. Alexander Oskar (Mary Aline Towner)', 'female', 35.0, 1, 0, '113789', 52.0, None, 'S'),\n",
       " (385, 0, 3, 'Plotcharsky, Mr. Vasil', 'male', None, 0, 0, '349227', 7.8958, None, 'S'),\n",
       " (386, 0, 2, 'Davies, Mr. Charles Henry', 'male', 18.0, 0, 0, 'S.O.C. 14879', 73.5, None, 'S'),\n",
       " (387, 0, 3, 'Goodwin, Master. Sidney Leonard', 'male', 1.0, 5, 2, 'CA 2144', 46.9, None, 'S'),\n",
       " (388, 1, 2, 'Buss, Miss. Kate', 'female', 36.0, 0, 0, '27849', 13.0, None, 'S'),\n",
       " (389, 0, 3, 'Sadlier, Mr. Matthew', 'male', None, 0, 0, '367655', 7.7292, None, 'Q'),\n",
       " (390, 1, 2, 'Lehmann, Miss. Bertha', 'female', 17.0, 0, 0, 'SC 1748', 12.0, None, 'C'),\n",
       " (391, 1, 1, 'Carter, Mr. William Ernest', 'male', 36.0, 1, 2, '113760', 120.0, 'B96 B98', 'S'),\n",
       " (392, 1, 3, 'Jansson, Mr. Carl Olof', 'male', 21.0, 0, 0, '350034', 7.7958, None, 'S'),\n",
       " (393, 0, 3, 'Gustafsson, Mr. Johan Birger', 'male', 28.0, 2, 0, '3101277', 7.925, None, 'S'),\n",
       " (394, 1, 1, 'Newell, Miss. Marjorie', 'female', 23.0, 1, 0, '35273', 113.275, 'D36', 'C'),\n",
       " (395, 1, 3, 'Sandstrom, Mrs. Hjalmar (Agnes Charlotta Bengtsson)', 'female', 24.0, 0, 2, 'PP 9549', 16.7, 'G6', 'S'),\n",
       " (396, 0, 3, 'Johansson, Mr. Erik', 'male', 22.0, 0, 0, '350052', 7.7958, None, 'S'),\n",
       " (397, 0, 3, 'Olsson, Miss. Elina', 'female', 31.0, 0, 0, '350407', 7.8542, None, 'S'),\n",
       " (398, 0, 2, 'McKane, Mr. Peter David', 'male', 46.0, 0, 0, '28403', 26.0, None, 'S'),\n",
       " (399, 0, 2, 'Pain, Dr. Alfred', 'male', 23.0, 0, 0, '244278', 10.5, None, 'S'),\n",
       " (400, 1, 2, 'Trout, Mrs. William H (Jessie L)', 'female', 28.0, 0, 0, '240929', 12.65, None, 'S'),\n",
       " (401, 1, 3, 'Niskanen, Mr. Juha', 'male', 39.0, 0, 0, 'STON/O 2. 3101289', 7.925, None, 'S'),\n",
       " (402, 0, 3, 'Adams, Mr. John', 'male', 26.0, 0, 0, '341826', 8.05, None, 'S'),\n",
       " (403, 0, 3, 'Jussila, Miss. Mari Aina', 'female', 21.0, 1, 0, '4137', 9.825, None, 'S'),\n",
       " (404, 0, 3, 'Hakkarainen, Mr. Pekka Pietari', 'male', 28.0, 1, 0, 'STON/O2. 3101279', 15.85, None, 'S'),\n",
       " (405, 0, 3, 'Oreskovic, Miss. Marija', 'female', 20.0, 0, 0, '315096', 8.6625, None, 'S'),\n",
       " (406, 0, 2, 'Gale, Mr. Shadrach', 'male', 34.0, 1, 0, '28664', 21.0, None, 'S'),\n",
       " (407, 0, 3, 'Widegren, Mr. Carl/Charles Peter', 'male', 51.0, 0, 0, '347064', 7.75, None, 'S'),\n",
       " (408, 1, 2, 'Richards, Master. William Rowe', 'male', 3.0, 1, 1, '29106', 18.75, None, 'S'),\n",
       " (409, 0, 3, 'Birkeland, Mr. Hans Martin Monsen', 'male', 21.0, 0, 0, '312992', 7.775, None, 'S'),\n",
       " (410, 0, 3, 'Lefebre, Miss. Ida', 'female', None, 3, 1, '4133', 25.4667, None, 'S'),\n",
       " (411, 0, 3, 'Sdycoff, Mr. Todor', 'male', None, 0, 0, '349222', 7.8958, None, 'S'),\n",
       " (412, 0, 3, 'Hart, Mr. Henry', 'male', None, 0, 0, '394140', 6.8583, None, 'Q'),\n",
       " (413, 1, 1, 'Minahan, Miss. Daisy E', 'female', 33.0, 1, 0, '19928', 90.0, 'C78', 'Q'),\n",
       " (414, 0, 2, 'Cunningham, Mr. Alfred Fleming', 'male', None, 0, 0, '239853', 0.0, None, 'S'),\n",
       " (415, 1, 3, 'Sundman, Mr. Johan Julian', 'male', 44.0, 0, 0, 'STON/O 2. 3101269', 7.925, None, 'S'),\n",
       " (416, 0, 3, 'Meek, Mrs. Thomas (Annie Louise Rowley)', 'female', None, 0, 0, '343095', 8.05, None, 'S'),\n",
       " (417, 1, 2, 'Drew, Mrs. James Vivian (Lulu Thorne Christian)', 'female', 34.0, 1, 1, '28220', 32.5, None, 'S'),\n",
       " (418, 1, 2, 'Silven, Miss. Lyyli Karoliina', 'female', 18.0, 0, 2, '250652', 13.0, None, 'S'),\n",
       " (419, 0, 2, 'Matthews, Mr. William John', 'male', 30.0, 0, 0, '28228', 13.0, None, 'S'),\n",
       " (420, 0, 3, 'Van Impe, Miss. Catharina', 'female', 10.0, 0, 2, '345773', 24.15, None, 'S'),\n",
       " (421, 0, 3, 'Gheorgheff, Mr. Stanio', 'male', None, 0, 0, '349254', 7.8958, None, 'C'),\n",
       " (422, 0, 3, 'Charters, Mr. David', 'male', 21.0, 0, 0, 'A/5. 13032', 7.7333, None, 'Q'),\n",
       " (423, 0, 3, 'Zimmerman, Mr. Leo', 'male', 29.0, 0, 0, '315082', 7.875, None, 'S'),\n",
       " (424, 0, 3, 'Danbom, Mrs. Ernst Gilbert (Anna Sigrid Maria Brogren)', 'female', 28.0, 1, 1, '347080', 14.4, None, 'S'),\n",
       " (425, 0, 3, 'Rosblom, Mr. Viktor Richard', 'male', 18.0, 1, 1, '370129', 20.2125, None, 'S'),\n",
       " (426, 0, 3, 'Wiseman, Mr. Phillippe', 'male', None, 0, 0, 'A/4. 34244', 7.25, None, 'S'),\n",
       " (427, 1, 2, 'Clarke, Mrs. Charles V (Ada Maria Winfield)', 'female', 28.0, 1, 0, '2003', 26.0, None, 'S'),\n",
       " (428, 1, 2, 'Phillips, Miss. Kate Florence (\"Mrs Kate Louise Phillips Marshall\")', 'female', 19.0, 0, 0, '250655', 26.0, None, 'S'),\n",
       " (429, 0, 3, 'Flynn, Mr. James', 'male', None, 0, 0, '364851', 7.75, None, 'Q'),\n",
       " (430, 1, 3, 'Pickard, Mr. Berk (Berk Trembisky)', 'male', 32.0, 0, 0, 'SOTON/O.Q. 392078', 8.05, 'E10', 'S'),\n",
       " (431, 1, 1, 'Bjornstrom-Steffansson, Mr. Mauritz Hakan', 'male', 28.0, 0, 0, '110564', 26.55, 'C52', 'S'),\n",
       " (432, 1, 3, 'Thorneycroft, Mrs. Percival (Florence Kate White)', 'female', None, 1, 0, '376564', 16.1, None, 'S'),\n",
       " (433, 1, 2, 'Louch, Mrs. Charles Alexander (Alice Adelaide Slow)', 'female', 42.0, 1, 0, 'SC/AH 3085', 26.0, None, 'S'),\n",
       " (434, 0, 3, 'Kallio, Mr. Nikolai Erland', 'male', 17.0, 0, 0, 'STON/O 2. 3101274', 7.125, None, 'S'),\n",
       " (435, 0, 1, 'Silvey, Mr. William Baird', 'male', 50.0, 1, 0, '13507', 55.9, 'E44', 'S'),\n",
       " (436, 1, 1, 'Carter, Miss. Lucile Polk', 'female', 14.0, 1, 2, '113760', 120.0, 'B96 B98', 'S'),\n",
       " (437, 0, 3, 'Ford, Miss. Doolina Margaret \"Daisy\"', 'female', 21.0, 2, 2, 'W./C. 6608', 34.375, None, 'S'),\n",
       " (438, 1, 2, 'Richards, Mrs. Sidney (Emily Hocking)', 'female', 24.0, 2, 3, '29106', 18.75, None, 'S'),\n",
       " (439, 0, 1, 'Fortune, Mr. Mark', 'male', 64.0, 1, 4, '19950', 263.0, 'C23 C25 C27', 'S'),\n",
       " (440, 0, 2, 'Kvillner, Mr. Johan Henrik Johannesson', 'male', 31.0, 0, 0, 'C.A. 18723', 10.5, None, 'S'),\n",
       " (441, 1, 2, 'Hart, Mrs. Benjamin (Esther Ada Bloomfield)', 'female', 45.0, 1, 1, 'F.C.C. 13529', 26.25, None, 'S'),\n",
       " (442, 0, 3, 'Hampe, Mr. Leon', 'male', 20.0, 0, 0, '345769', 9.5, None, 'S'),\n",
       " (443, 0, 3, 'Petterson, Mr. Johan Emil', 'male', 25.0, 1, 0, '347076', 7.775, None, 'S'),\n",
       " (444, 1, 2, 'Reynaldo, Ms. Encarnacion', 'female', 28.0, 0, 0, '230434', 13.0, None, 'S'),\n",
       " (445, 1, 3, 'Johannesen-Bratthammer, Mr. Bernt', 'male', None, 0, 0, '65306', 8.1125, None, 'S'),\n",
       " (446, 1, 1, 'Dodge, Master. Washington', 'male', 4.0, 0, 2, '33638', 81.8583, 'A34', 'S'),\n",
       " (447, 1, 2, 'Mellinger, Miss. Madeleine Violet', 'female', 13.0, 0, 1, '250644', 19.5, None, 'S'),\n",
       " (448, 1, 1, 'Seward, Mr. Frederic Kimber', 'male', 34.0, 0, 0, '113794', 26.55, None, 'S'),\n",
       " (449, 1, 3, 'Baclini, Miss. Marie Catherine', 'female', 5.0, 2, 1, '2666', 19.2583, None, 'C'),\n",
       " (450, 1, 1, 'Peuchen, Major. Arthur Godfrey', 'male', 52.0, 0, 0, '113786', 30.5, 'C104', 'S'),\n",
       " (451, 0, 2, 'West, Mr. Edwy Arthur', 'male', 36.0, 1, 2, 'C.A. 34651', 27.75, None, 'S'),\n",
       " (452, 0, 3, 'Hagland, Mr. Ingvald Olai Olsen', 'male', None, 1, 0, '65303', 19.9667, None, 'S'),\n",
       " (453, 0, 1, 'Foreman, Mr. Benjamin Laventall', 'male', 30.0, 0, 0, '113051', 27.75, 'C111', 'C'),\n",
       " (454, 1, 1, 'Goldenberg, Mr. Samuel L', 'male', 49.0, 1, 0, '17453', 89.1042, 'C92', 'C'),\n",
       " (455, 0, 3, 'Peduzzi, Mr. Joseph', 'male', None, 0, 0, 'A/5 2817', 8.05, None, 'S'),\n",
       " (456, 1, 3, 'Jalsevac, Mr. Ivan', 'male', 29.0, 0, 0, '349240', 7.8958, None, 'C'),\n",
       " (457, 0, 1, 'Millet, Mr. Francis Davis', 'male', 65.0, 0, 0, '13509', 26.55, 'E38', 'S'),\n",
       " (458, 1, 1, 'Kenyon, Mrs. Frederick R (Marion)', 'female', None, 1, 0, '17464', 51.8625, 'D21', 'S'),\n",
       " (459, 1, 2, 'Toomey, Miss. Ellen', 'female', 50.0, 0, 0, 'F.C.C. 13531', 10.5, None, 'S'),\n",
       " (460, 0, 3, \"O'Connor, Mr. Maurice\", 'male', None, 0, 0, '371060', 7.75, None, 'Q'),\n",
       " (461, 1, 1, 'Anderson, Mr. Harry', 'male', 48.0, 0, 0, '19952', 26.55, 'E12', 'S'),\n",
       " (462, 0, 3, 'Morley, Mr. William', 'male', 34.0, 0, 0, '364506', 8.05, None, 'S'),\n",
       " (463, 0, 1, 'Gee, Mr. Arthur H', 'male', 47.0, 0, 0, '111320', 38.5, 'E63', 'S'),\n",
       " (464, 0, 2, 'Milling, Mr. Jacob Christian', 'male', 48.0, 0, 0, '234360', 13.0, None, 'S'),\n",
       " (465, 0, 3, 'Maisner, Mr. Simon', 'male', None, 0, 0, 'A/S 2816', 8.05, None, 'S'),\n",
       " (466, 0, 3, 'Goncalves, Mr. Manuel Estanslas', 'male', 38.0, 0, 0, 'SOTON/O.Q. 3101306', 7.05, None, 'S'),\n",
       " (467, 0, 2, 'Campbell, Mr. William', 'male', None, 0, 0, '239853', 0.0, None, 'S'),\n",
       " (468, 0, 1, 'Smart, Mr. John Montgomery', 'male', 56.0, 0, 0, '113792', 26.55, None, 'S'),\n",
       " (469, 0, 3, 'Scanlan, Mr. James', 'male', None, 0, 0, '36209', 7.725, None, 'Q'),\n",
       " (470, 1, 3, 'Baclini, Miss. Helene Barbara', 'female', 0.75, 2, 1, '2666', 19.2583, None, 'C'),\n",
       " (471, 0, 3, 'Keefe, Mr. Arthur', 'male', None, 0, 0, '323592', 7.25, None, 'S'),\n",
       " (472, 0, 3, 'Cacic, Mr. Luka', 'male', 38.0, 0, 0, '315089', 8.6625, None, 'S'),\n",
       " (473, 1, 2, 'West, Mrs. Edwy Arthur (Ada Mary Worth)', 'female', 33.0, 1, 2, 'C.A. 34651', 27.75, None, 'S'),\n",
       " (474, 1, 2, 'Jerwan, Mrs. Amin S (Marie Marthe Thuillard)', 'female', 23.0, 0, 0, 'SC/AH Basle 541', 13.7917, 'D', 'C'),\n",
       " (475, 0, 3, 'Strandberg, Miss. Ida Sofia', 'female', 22.0, 0, 0, '7553', 9.8375, None, 'S'),\n",
       " (476, 0, 1, 'Clifford, Mr. George Quincy', 'male', None, 0, 0, '110465', 52.0, 'A14', 'S'),\n",
       " (477, 0, 2, 'Renouf, Mr. Peter Henry', 'male', 34.0, 1, 0, '31027', 21.0, None, 'S'),\n",
       " (478, 0, 3, 'Braund, Mr. Lewis Richard', 'male', 29.0, 1, 0, '3460', 7.0458, None, 'S'),\n",
       " (479, 0, 3, 'Karlsson, Mr. Nils August', 'male', 22.0, 0, 0, '350060', 7.5208, None, 'S'),\n",
       " (480, 1, 3, 'Hirvonen, Miss. Hildur E', 'female', 2.0, 0, 1, '3101298', 12.2875, None, 'S'),\n",
       " (481, 0, 3, 'Goodwin, Master. Harold Victor', 'male', 9.0, 5, 2, 'CA 2144', 46.9, None, 'S'),\n",
       " (482, 0, 2, 'Frost, Mr. Anthony Wood \"Archie\"', 'male', None, 0, 0, '239854', 0.0, None, 'S'),\n",
       " (483, 0, 3, 'Rouse, Mr. Richard Henry', 'male', 50.0, 0, 0, 'A/5 3594', 8.05, None, 'S'),\n",
       " (484, 1, 3, 'Turkula, Mrs. (Hedwig)', 'female', 63.0, 0, 0, '4134', 9.5875, None, 'S'),\n",
       " (485, 1, 1, 'Bishop, Mr. Dickinson H', 'male', 25.0, 1, 0, '11967', 91.0792, 'B49', 'C'),\n",
       " (486, 0, 3, 'Lefebre, Miss. Jeannie', 'female', None, 3, 1, '4133', 25.4667, None, 'S'),\n",
       " (487, 1, 1, 'Hoyt, Mrs. Frederick Maxfield (Jane Anne Forby)', 'female', 35.0, 1, 0, '19943', 90.0, 'C93', 'S'),\n",
       " (488, 0, 1, 'Kent, Mr. Edward Austin', 'male', 58.0, 0, 0, '11771', 29.7, 'B37', 'C'),\n",
       " (489, 0, 3, 'Somerton, Mr. Francis William', 'male', 30.0, 0, 0, 'A.5. 18509', 8.05, None, 'S'),\n",
       " (490, 1, 3, 'Coutts, Master. Eden Leslie \"Neville\"', 'male', 9.0, 1, 1, 'C.A. 37671', 15.9, None, 'S'),\n",
       " (491, 0, 3, 'Hagland, Mr. Konrad Mathias Reiersen', 'male', None, 1, 0, '65304', 19.9667, None, 'S'),\n",
       " (492, 0, 3, 'Windelov, Mr. Einar', 'male', 21.0, 0, 0, 'SOTON/OQ 3101317', 7.25, None, 'S'),\n",
       " (493, 0, 1, 'Molson, Mr. Harry Markland', 'male', 55.0, 0, 0, '113787', 30.5, 'C30', 'S'),\n",
       " (494, 0, 1, 'Artagaveytia, Mr. Ramon', 'male', 71.0, 0, 0, 'PC 17609', 49.5042, None, 'C'),\n",
       " (495, 0, 3, 'Stanley, Mr. Edward Roland', 'male', 21.0, 0, 0, 'A/4 45380', 8.05, None, 'S'),\n",
       " (496, 0, 3, 'Yousseff, Mr. Gerious', 'male', None, 0, 0, '2627', 14.4583, None, 'C'),\n",
       " (497, 1, 1, 'Eustis, Miss. Elizabeth Mussey', 'female', 54.0, 1, 0, '36947', 78.2667, 'D20', 'C'),\n",
       " (498, 0, 3, 'Shellard, Mr. Frederick William', 'male', None, 0, 0, 'C.A. 6212', 15.1, None, 'S'),\n",
       " (499, 0, 1, 'Allison, Mrs. Hudson J C (Bessie Waldo Daniels)', 'female', 25.0, 1, 2, '113781', 151.55, 'C22 C26', 'S'),\n",
       " (500, 0, 3, 'Svensson, Mr. Olof', 'male', 24.0, 0, 0, '350035', 7.7958, None, 'S'),\n",
       " (501, 0, 3, 'Calic, Mr. Petar', 'male', 17.0, 0, 0, '315086', 8.6625, None, 'S'),\n",
       " (502, 0, 3, 'Canavan, Miss. Mary', 'female', 21.0, 0, 0, '364846', 7.75, None, 'Q'),\n",
       " (503, 0, 3, \"O'Sullivan, Miss. Bridget Mary\", 'female', None, 0, 0, '330909', 7.6292, None, 'Q'),\n",
       " (504, 0, 3, 'Laitinen, Miss. Kristina Sofia', 'female', 37.0, 0, 0, '4135', 9.5875, None, 'S'),\n",
       " (505, 1, 1, 'Maioni, Miss. Roberta', 'female', 16.0, 0, 0, '110152', 86.5, 'B79', 'S'),\n",
       " (506, 0, 1, 'Penasco y Castellana, Mr. Victor de Satode', 'male', 18.0, 1, 0, 'PC 17758', 108.9, 'C65', 'C'),\n",
       " (507, 1, 2, 'Quick, Mrs. Frederick Charles (Jane Richards)', 'female', 33.0, 0, 2, '26360', 26.0, None, 'S'),\n",
       " (508, 1, 1, 'Bradley, Mr. George (\"George Arthur Brayton\")', 'male', None, 0, 0, '111427', 26.55, None, 'S'),\n",
       " (509, 0, 3, 'Olsen, Mr. Henry Margido', 'male', 28.0, 0, 0, 'C 4001', 22.525, None, 'S'),\n",
       " (510, 1, 3, 'Lang, Mr. Fang', 'male', 26.0, 0, 0, '1601', 56.4958, None, 'S'),\n",
       " (511, 1, 3, 'Daly, Mr. Eugene Patrick', 'male', 29.0, 0, 0, '382651', 7.75, None, 'Q'),\n",
       " (512, 0, 3, 'Webber, Mr. James', 'male', None, 0, 0, 'SOTON/OQ 3101316', 8.05, None, 'S'),\n",
       " (513, 1, 1, 'McGough, Mr. James Robert', 'male', 36.0, 0, 0, 'PC 17473', 26.2875, 'E25', 'S'),\n",
       " (514, 1, 1, 'Rothschild, Mrs. Martin (Elizabeth L. Barrett)', 'female', 54.0, 1, 0, 'PC 17603', 59.4, None, 'C'),\n",
       " (515, 0, 3, 'Coleff, Mr. Satio', 'male', 24.0, 0, 0, '349209', 7.4958, None, 'S'),\n",
       " (516, 0, 1, 'Walker, Mr. William Anderson', 'male', 47.0, 0, 0, '36967', 34.0208, 'D46', 'S'),\n",
       " (517, 1, 2, 'Lemore, Mrs. (Amelia Milley)', 'female', 34.0, 0, 0, 'C.A. 34260', 10.5, 'F33', 'S'),\n",
       " (518, 0, 3, 'Ryan, Mr. Patrick', 'male', None, 0, 0, '371110', 24.15, None, 'Q'),\n",
       " (519, 1, 2, 'Angle, Mrs. William A (Florence \"Mary\" Agnes Hughes)', 'female', 36.0, 1, 0, '226875', 26.0, None, 'S'),\n",
       " (520, 0, 3, 'Pavlovic, Mr. Stefo', 'male', 32.0, 0, 0, '349242', 7.8958, None, 'S'),\n",
       " (521, 1, 1, 'Perreault, Miss. Anne', 'female', 30.0, 0, 0, '12749', 93.5, 'B73', 'S'),\n",
       " (522, 0, 3, 'Vovk, Mr. Janko', 'male', 22.0, 0, 0, '349252', 7.8958, None, 'S'),\n",
       " (523, 0, 3, 'Lahoud, Mr. Sarkis', 'male', None, 0, 0, '2624', 7.225, None, 'C'),\n",
       " (524, 1, 1, 'Hippach, Mrs. Louis Albert (Ida Sophia Fischer)', 'female', 44.0, 0, 1, '111361', 57.9792, 'B18', 'C'),\n",
       " (525, 0, 3, 'Kassem, Mr. Fared', 'male', None, 0, 0, '2700', 7.2292, None, 'C'),\n",
       " (526, 0, 3, 'Farrell, Mr. James', 'male', 40.5, 0, 0, '367232', 7.75, None, 'Q'),\n",
       " (527, 1, 2, 'Ridsdale, Miss. Lucy', 'female', 50.0, 0, 0, 'W./C. 14258', 10.5, None, 'S'),\n",
       " (528, 0, 1, 'Farthing, Mr. John', 'male', None, 0, 0, 'PC 17483', 221.7792, 'C95', 'S'),\n",
       " (529, 0, 3, 'Salonen, Mr. Johan Werner', 'male', 39.0, 0, 0, '3101296', 7.925, None, 'S'),\n",
       " (530, 0, 2, 'Hocking, Mr. Richard George', 'male', 23.0, 2, 1, '29104', 11.5, None, 'S'),\n",
       " (531, 1, 2, 'Quick, Miss. Phyllis May', 'female', 2.0, 1, 1, '26360', 26.0, None, 'S'),\n",
       " (532, 0, 3, 'Toufik, Mr. Nakli', 'male', None, 0, 0, '2641', 7.2292, None, 'C'),\n",
       " (533, 0, 3, 'Elias, Mr. Joseph Jr', 'male', 17.0, 1, 1, '2690', 7.2292, None, 'C'),\n",
       " (534, 1, 3, 'Peter, Mrs. Catherine (Catherine Rizk)', 'female', None, 0, 2, '2668', 22.3583, None, 'C'),\n",
       " (535, 0, 3, 'Cacic, Miss. Marija', 'female', 30.0, 0, 0, '315084', 8.6625, None, 'S'),\n",
       " (536, 1, 2, 'Hart, Miss. Eva Miriam', 'female', 7.0, 0, 2, 'F.C.C. 13529', 26.25, None, 'S'),\n",
       " (537, 0, 1, 'Butt, Major. Archibald Willingham', 'male', 45.0, 0, 0, '113050', 26.55, 'B38', 'S'),\n",
       " (538, 1, 1, 'LeRoy, Miss. Bertha', 'female', 30.0, 0, 0, 'PC 17761', 106.425, None, 'C'),\n",
       " (539, 0, 3, 'Risien, Mr. Samuel Beard', 'male', None, 0, 0, '364498', 14.5, None, 'S'),\n",
       " (540, 1, 1, 'Frolicher, Miss. Hedwig Margaritha', 'female', 22.0, 0, 2, '13568', 49.5, 'B39', 'C'),\n",
       " (541, 1, 1, 'Crosby, Miss. Harriet R', 'female', 36.0, 0, 2, 'WE/P 5735', 71.0, 'B22', 'S'),\n",
       " (542, 0, 3, 'Andersson, Miss. Ingeborg Constanzia', 'female', 9.0, 4, 2, '347082', 31.275, None, 'S'),\n",
       " (543, 0, 3, 'Andersson, Miss. Sigrid Elisabeth', 'female', 11.0, 4, 2, '347082', 31.275, None, 'S'),\n",
       " (544, 1, 2, 'Beane, Mr. Edward', 'male', 32.0, 1, 0, '2908', 26.0, None, 'S'),\n",
       " (545, 0, 1, 'Douglas, Mr. Walter Donald', 'male', 50.0, 1, 0, 'PC 17761', 106.425, 'C86', 'C'),\n",
       " (546, 0, 1, 'Nicholson, Mr. Arthur Ernest', 'male', 64.0, 0, 0, '693', 26.0, None, 'S'),\n",
       " (547, 1, 2, 'Beane, Mrs. Edward (Ethel Clarke)', 'female', 19.0, 1, 0, '2908', 26.0, None, 'S'),\n",
       " (548, 1, 2, 'Padro y Manent, Mr. Julian', 'male', None, 0, 0, 'SC/PARIS 2146', 13.8625, None, 'C'),\n",
       " (549, 0, 3, 'Goldsmith, Mr. Frank John', 'male', 33.0, 1, 1, '363291', 20.525, None, 'S'),\n",
       " (550, 1, 2, 'Davies, Master. John Morgan Jr', 'male', 8.0, 1, 1, 'C.A. 33112', 36.75, None, 'S'),\n",
       " (551, 1, 1, 'Thayer, Mr. John Borland Jr', 'male', 17.0, 0, 2, '17421', 110.8833, 'C70', 'C'),\n",
       " (552, 0, 2, 'Sharp, Mr. Percival James R', 'male', 27.0, 0, 0, '244358', 26.0, None, 'S'),\n",
       " (553, 0, 3, \"O'Brien, Mr. Timothy\", 'male', None, 0, 0, '330979', 7.8292, None, 'Q'),\n",
       " (554, 1, 3, 'Leeni, Mr. Fahim (\"Philip Zenni\")', 'male', 22.0, 0, 0, '2620', 7.225, None, 'C'),\n",
       " (555, 1, 3, 'Ohman, Miss. Velin', 'female', 22.0, 0, 0, '347085', 7.775, None, 'S'),\n",
       " (556, 0, 1, 'Wright, Mr. George', 'male', 62.0, 0, 0, '113807', 26.55, None, 'S'),\n",
       " (557, 1, 1, 'Duff Gordon, Lady. (Lucille Christiana Sutherland) (\"Mrs Morgan\")', 'female', 48.0, 1, 0, '11755', 39.6, 'A16', 'C'),\n",
       " (558, 0, 1, 'Robbins, Mr. Victor', 'male', None, 0, 0, 'PC 17757', 227.525, None, 'C'),\n",
       " (559, 1, 1, 'Taussig, Mrs. Emil (Tillie Mandelbaum)', 'female', 39.0, 1, 1, '110413', 79.65, 'E67', 'S'),\n",
       " (560, 1, 3, 'de Messemaeker, Mrs. Guillaume Joseph (Emma)', 'female', 36.0, 1, 0, '345572', 17.4, None, 'S'),\n",
       " (561, 0, 3, 'Morrow, Mr. Thomas Rowan', 'male', None, 0, 0, '372622', 7.75, None, 'Q'),\n",
       " (562, 0, 3, 'Sivic, Mr. Husein', 'male', 40.0, 0, 0, '349251', 7.8958, None, 'S'),\n",
       " (563, 0, 2, 'Norman, Mr. Robert Douglas', 'male', 28.0, 0, 0, '218629', 13.5, None, 'S'),\n",
       " (564, 0, 3, 'Simmons, Mr. John', 'male', None, 0, 0, 'SOTON/OQ 392082', 8.05, None, 'S'),\n",
       " (565, 0, 3, 'Meanwell, Miss. (Marion Ogden)', 'female', None, 0, 0, 'SOTON/O.Q. 392087', 8.05, None, 'S'),\n",
       " (566, 0, 3, 'Davies, Mr. Alfred J', 'male', 24.0, 2, 0, 'A/4 48871', 24.15, None, 'S'),\n",
       " (567, 0, 3, 'Stoytcheff, Mr. Ilia', 'male', 19.0, 0, 0, '349205', 7.8958, None, 'S'),\n",
       " (568, 0, 3, 'Palsson, Mrs. Nils (Alma Cornelia Berglund)', 'female', 29.0, 0, 4, '349909', 21.075, None, 'S'),\n",
       " (569, 0, 3, 'Doharr, Mr. Tannous', 'male', None, 0, 0, '2686', 7.2292, None, 'C'),\n",
       " (570, 1, 3, 'Jonsson, Mr. Carl', 'male', 32.0, 0, 0, '350417', 7.8542, None, 'S'),\n",
       " (571, 1, 2, 'Harris, Mr. George', 'male', 62.0, 0, 0, 'S.W./PP 752', 10.5, None, 'S'),\n",
       " (572, 1, 1, 'Appleton, Mrs. Edward Dale (Charlotte Lamson)', 'female', 53.0, 2, 0, '11769', 51.4792, 'C101', 'S'),\n",
       " (573, 1, 1, 'Flynn, Mr. John Irwin (\"Irving\")', 'male', 36.0, 0, 0, 'PC 17474', 26.3875, 'E25', 'S'),\n",
       " (574, 1, 3, 'Kelly, Miss. Mary', 'female', None, 0, 0, '14312', 7.75, None, 'Q'),\n",
       " (575, 0, 3, 'Rush, Mr. Alfred George John', 'male', 16.0, 0, 0, 'A/4. 20589', 8.05, None, 'S'),\n",
       " (576, 0, 3, 'Patchett, Mr. George', 'male', 19.0, 0, 0, '358585', 14.5, None, 'S'),\n",
       " (577, 1, 2, 'Garside, Miss. Ethel', 'female', 34.0, 0, 0, '243880', 13.0, None, 'S'),\n",
       " (578, 1, 1, 'Silvey, Mrs. William Baird (Alice Munger)', 'female', 39.0, 1, 0, '13507', 55.9, 'E44', 'S'),\n",
       " (579, 0, 3, 'Caram, Mrs. Joseph (Maria Elias)', 'female', None, 1, 0, '2689', 14.4583, None, 'C'),\n",
       " (580, 1, 3, 'Jussila, Mr. Eiriik', 'male', 32.0, 0, 0, 'STON/O 2. 3101286', 7.925, None, 'S'),\n",
       " (581, 1, 2, 'Christy, Miss. Julie Rachel', 'female', 25.0, 1, 1, '237789', 30.0, None, 'S'),\n",
       " (582, 1, 1, 'Thayer, Mrs. John Borland (Marian Longstreth Morris)', 'female', 39.0, 1, 1, '17421', 110.8833, 'C68', 'C'),\n",
       " (583, 0, 2, 'Downton, Mr. William James', 'male', 54.0, 0, 0, '28403', 26.0, None, 'S'),\n",
       " (584, 0, 1, 'Ross, Mr. John Hugo', 'male', 36.0, 0, 0, '13049', 40.125, 'A10', 'C'),\n",
       " (585, 0, 3, 'Paulner, Mr. Uscher', 'male', None, 0, 0, '3411', 8.7125, None, 'C'),\n",
       " (586, 1, 1, 'Taussig, Miss. Ruth', 'female', 18.0, 0, 2, '110413', 79.65, 'E68', 'S'),\n",
       " (587, 0, 2, 'Jarvis, Mr. John Denzil', 'male', 47.0, 0, 0, '237565', 15.0, None, 'S'),\n",
       " (588, 1, 1, 'Frolicher-Stehli, Mr. Maxmillian', 'male', 60.0, 1, 1, '13567', 79.2, 'B41', 'C'),\n",
       " (589, 0, 3, 'Gilinski, Mr. Eliezer', 'male', 22.0, 0, 0, '14973', 8.05, None, 'S'),\n",
       " (590, 0, 3, 'Murdlin, Mr. Joseph', 'male', None, 0, 0, 'A./5. 3235', 8.05, None, 'S'),\n",
       " (591, 0, 3, 'Rintamaki, Mr. Matti', 'male', 35.0, 0, 0, 'STON/O 2. 3101273', 7.125, None, 'S'),\n",
       " (592, 1, 1, 'Stephenson, Mrs. Walter Bertram (Martha Eustis)', 'female', 52.0, 1, 0, '36947', 78.2667, 'D20', 'C'),\n",
       " (593, 0, 3, 'Elsbury, Mr. William James', 'male', 47.0, 0, 0, 'A/5 3902', 7.25, None, 'S'),\n",
       " (594, 0, 3, 'Bourke, Miss. Mary', 'female', None, 0, 2, '364848', 7.75, None, 'Q'),\n",
       " (595, 0, 2, 'Chapman, Mr. John Henry', 'male', 37.0, 1, 0, 'SC/AH 29037', 26.0, None, 'S'),\n",
       " (596, 0, 3, 'Van Impe, Mr. Jean Baptiste', 'male', 36.0, 1, 1, '345773', 24.15, None, 'S'),\n",
       " (597, 1, 2, 'Leitch, Miss. Jessie Wills', 'female', None, 0, 0, '248727', 33.0, None, 'S'),\n",
       " (598, 0, 3, 'Johnson, Mr. Alfred', 'male', 49.0, 0, 0, 'LINE', 0.0, None, 'S'),\n",
       " (599, 0, 3, 'Boulos, Mr. Hanna', 'male', None, 0, 0, '2664', 7.225, None, 'C'),\n",
       " (600, 1, 1, 'Duff Gordon, Sir. Cosmo Edmund (\"Mr Morgan\")', 'male', 49.0, 1, 0, 'PC 17485', 56.9292, 'A20', 'C'),\n",
       " (601, 1, 2, 'Jacobsohn, Mrs. Sidney Samuel (Amy Frances Christy)', 'female', 24.0, 2, 1, '243847', 27.0, None, 'S'),\n",
       " (602, 0, 3, 'Slabenoff, Mr. Petco', 'male', None, 0, 0, '349214', 7.8958, None, 'S'),\n",
       " (603, 0, 1, 'Harrington, Mr. Charles H', 'male', None, 0, 0, '113796', 42.4, None, 'S'),\n",
       " (604, 0, 3, 'Torber, Mr. Ernst William', 'male', 44.0, 0, 0, '364511', 8.05, None, 'S'),\n",
       " (605, 1, 1, 'Homer, Mr. Harry (\"Mr E Haven\")', 'male', 35.0, 0, 0, '111426', 26.55, None, 'C'),\n",
       " (606, 0, 3, 'Lindell, Mr. Edvard Bengtsson', 'male', 36.0, 1, 0, '349910', 15.55, None, 'S'),\n",
       " (607, 0, 3, 'Karaic, Mr. Milan', 'male', 30.0, 0, 0, '349246', 7.8958, None, 'S'),\n",
       " (608, 1, 1, 'Daniel, Mr. Robert Williams', 'male', 27.0, 0, 0, '113804', 30.5, None, 'S'),\n",
       " (609, 1, 2, 'Laroche, Mrs. Joseph (Juliette Marie Louise Lafargue)', 'female', 22.0, 1, 2, 'SC/Paris 2123', 41.5792, None, 'C'),\n",
       " (610, 1, 1, 'Shutes, Miss. Elizabeth W', 'female', 40.0, 0, 0, 'PC 17582', 153.4625, 'C125', 'S'),\n",
       " (611, 0, 3, 'Andersson, Mrs. Anders Johan (Alfrida Konstantia Brogren)', 'female', 39.0, 1, 5, '347082', 31.275, None, 'S'),\n",
       " (612, 0, 3, 'Jardin, Mr. Jose Neto', 'male', None, 0, 0, 'SOTON/O.Q. 3101305', 7.05, None, 'S'),\n",
       " (613, 1, 3, 'Murphy, Miss. Margaret Jane', 'female', None, 1, 0, '367230', 15.5, None, 'Q'),\n",
       " (614, 0, 3, 'Horgan, Mr. John', 'male', None, 0, 0, '370377', 7.75, None, 'Q'),\n",
       " (615, 0, 3, 'Brocklebank, Mr. William Alfred', 'male', 35.0, 0, 0, '364512', 8.05, None, 'S'),\n",
       " (616, 1, 2, 'Herman, Miss. Alice', 'female', 24.0, 1, 2, '220845', 65.0, None, 'S'),\n",
       " (617, 0, 3, 'Danbom, Mr. Ernst Gilbert', 'male', 34.0, 1, 1, '347080', 14.4, None, 'S'),\n",
       " (618, 0, 3, 'Lobb, Mrs. William Arthur (Cordelia K Stanlick)', 'female', 26.0, 1, 0, 'A/5. 3336', 16.1, None, 'S'),\n",
       " (619, 1, 2, 'Becker, Miss. Marion Louise', 'female', 4.0, 2, 1, '230136', 39.0, 'F4', 'S'),\n",
       " (620, 0, 2, 'Gavey, Mr. Lawrence', 'male', 26.0, 0, 0, '31028', 10.5, None, 'S'),\n",
       " (621, 0, 3, 'Yasbeck, Mr. Antoni', 'male', 27.0, 1, 0, '2659', 14.4542, None, 'C'),\n",
       " (622, 1, 1, 'Kimball, Mr. Edwin Nelson Jr', 'male', 42.0, 1, 0, '11753', 52.5542, 'D19', 'S'),\n",
       " (623, 1, 3, 'Nakid, Mr. Sahid', 'male', 20.0, 1, 1, '2653', 15.7417, None, 'C'),\n",
       " (624, 0, 3, 'Hansen, Mr. Henry Damsgaard', 'male', 21.0, 0, 0, '350029', 7.8542, None, 'S'),\n",
       " (625, 0, 3, 'Bowen, Mr. David John \"Dai\"', 'male', 21.0, 0, 0, '54636', 16.1, None, 'S'),\n",
       " (626, 0, 1, 'Sutton, Mr. Frederick', 'male', 61.0, 0, 0, '36963', 32.3208, 'D50', 'S'),\n",
       " (627, 0, 2, 'Kirkland, Rev. Charles Leonard', 'male', 57.0, 0, 0, '219533', 12.35, None, 'Q'),\n",
       " (628, 1, 1, 'Longley, Miss. Gretchen Fiske', 'female', 21.0, 0, 0, '13502', 77.9583, 'D9', 'S'),\n",
       " (629, 0, 3, 'Bostandyeff, Mr. Guentcho', 'male', 26.0, 0, 0, '349224', 7.8958, None, 'S'),\n",
       " (630, 0, 3, \"O'Connell, Mr. Patrick D\", 'male', None, 0, 0, '334912', 7.7333, None, 'Q'),\n",
       " (631, 1, 1, 'Barkworth, Mr. Algernon Henry Wilson', 'male', 80.0, 0, 0, '27042', 30.0, 'A23', 'S'),\n",
       " (632, 0, 3, 'Lundahl, Mr. Johan Svensson', 'male', 51.0, 0, 0, '347743', 7.0542, None, 'S'),\n",
       " (633, 1, 1, 'Stahelin-Maeglin, Dr. Max', 'male', 32.0, 0, 0, '13214', 30.5, 'B50', 'C'),\n",
       " (634, 0, 1, 'Parr, Mr. William Henry Marsh', 'male', None, 0, 0, '112052', 0.0, None, 'S'),\n",
       " (635, 0, 3, 'Skoog, Miss. Mabel', 'female', 9.0, 3, 2, '347088', 27.9, None, 'S'),\n",
       " (636, 1, 2, 'Davis, Miss. Mary', 'female', 28.0, 0, 0, '237668', 13.0, None, 'S'),\n",
       " (637, 0, 3, 'Leinonen, Mr. Antti Gustaf', 'male', 32.0, 0, 0, 'STON/O 2. 3101292', 7.925, None, 'S'),\n",
       " (638, 0, 2, 'Collyer, Mr. Harvey', 'male', 31.0, 1, 1, 'C.A. 31921', 26.25, None, 'S'),\n",
       " (639, 0, 3, 'Panula, Mrs. Juha (Maria Emilia Ojala)', 'female', 41.0, 0, 5, '3101295', 39.6875, None, 'S'),\n",
       " (640, 0, 3, 'Thorneycroft, Mr. Percival', 'male', None, 1, 0, '376564', 16.1, None, 'S'),\n",
       " (641, 0, 3, 'Jensen, Mr. Hans Peder', 'male', 20.0, 0, 0, '350050', 7.8542, None, 'S'),\n",
       " (642, 1, 1, 'Sagesser, Mlle. Emma', 'female', 24.0, 0, 0, 'PC 17477', 69.3, 'B35', 'C'),\n",
       " (643, 0, 3, 'Skoog, Miss. Margit Elizabeth', 'female', 2.0, 3, 2, '347088', 27.9, None, 'S'),\n",
       " (644, 1, 3, 'Foo, Mr. Choong', 'male', None, 0, 0, '1601', 56.4958, None, 'S'),\n",
       " (645, 1, 3, 'Baclini, Miss. Eugenie', 'female', 0.75, 2, 1, '2666', 19.2583, None, 'C'),\n",
       " (646, 1, 1, 'Harper, Mr. Henry Sleeper', 'male', 48.0, 1, 0, 'PC 17572', 76.7292, 'D33', 'C'),\n",
       " (647, 0, 3, 'Cor, Mr. Liudevit', 'male', 19.0, 0, 0, '349231', 7.8958, None, 'S'),\n",
       " (648, 1, 1, 'Simonius-Blumer, Col. Oberst Alfons', 'male', 56.0, 0, 0, '13213', 35.5, 'A26', 'C'),\n",
       " (649, 0, 3, 'Willey, Mr. Edward', 'male', None, 0, 0, 'S.O./P.P. 751', 7.55, None, 'S'),\n",
       " (650, 1, 3, 'Stanley, Miss. Amy Zillah Elsie', 'female', 23.0, 0, 0, 'CA. 2314', 7.55, None, 'S'),\n",
       " (651, 0, 3, 'Mitkoff, Mr. Mito', 'male', None, 0, 0, '349221', 7.8958, None, 'S'),\n",
       " (652, 1, 2, 'Doling, Miss. Elsie', 'female', 18.0, 0, 1, '231919', 23.0, None, 'S'),\n",
       " (653, 0, 3, 'Kalvik, Mr. Johannes Halvorsen', 'male', 21.0, 0, 0, '8475', 8.4333, None, 'S'),\n",
       " (654, 1, 3, 'O\\'Leary, Miss. Hanora \"Norah\"', 'female', None, 0, 0, '330919', 7.8292, None, 'Q'),\n",
       " (655, 0, 3, 'Hegarty, Miss. Hanora \"Nora\"', 'female', 18.0, 0, 0, '365226', 6.75, None, 'Q'),\n",
       " (656, 0, 2, 'Hickman, Mr. Leonard Mark', 'male', 24.0, 2, 0, 'S.O.C. 14879', 73.5, None, 'S'),\n",
       " (657, 0, 3, 'Radeff, Mr. Alexander', 'male', None, 0, 0, '349223', 7.8958, None, 'S'),\n",
       " (658, 0, 3, 'Bourke, Mrs. John (Catherine)', 'female', 32.0, 1, 1, '364849', 15.5, None, 'Q'),\n",
       " (659, 0, 2, 'Eitemiller, Mr. George Floyd', 'male', 23.0, 0, 0, '29751', 13.0, None, 'S'),\n",
       " (660, 0, 1, 'Newell, Mr. Arthur Webster', 'male', 58.0, 0, 2, '35273', 113.275, 'D48', 'C'),\n",
       " (661, 1, 1, 'Frauenthal, Dr. Henry William', 'male', 50.0, 2, 0, 'PC 17611', 133.65, None, 'S'),\n",
       " (662, 0, 3, 'Badt, Mr. Mohamed', 'male', 40.0, 0, 0, '2623', 7.225, None, 'C'),\n",
       " (663, 0, 1, 'Colley, Mr. Edward Pomeroy', 'male', 47.0, 0, 0, '5727', 25.5875, 'E58', 'S'),\n",
       " (664, 0, 3, 'Coleff, Mr. Peju', 'male', 36.0, 0, 0, '349210', 7.4958, None, 'S'),\n",
       " (665, 1, 3, 'Lindqvist, Mr. Eino William', 'male', 20.0, 1, 0, 'STON/O 2. 3101285', 7.925, None, 'S'),\n",
       " (666, 0, 2, 'Hickman, Mr. Lewis', 'male', 32.0, 2, 0, 'S.O.C. 14879', 73.5, None, 'S'),\n",
       " (667, 0, 2, 'Butler, Mr. Reginald Fenton', 'male', 25.0, 0, 0, '234686', 13.0, None, 'S'),\n",
       " (668, 0, 3, 'Rommetvedt, Mr. Knud Paust', 'male', None, 0, 0, '312993', 7.775, None, 'S'),\n",
       " (669, 0, 3, 'Cook, Mr. Jacob', 'male', 43.0, 0, 0, 'A/5 3536', 8.05, None, 'S'),\n",
       " (670, 1, 1, 'Taylor, Mrs. Elmer Zebley (Juliet Cummins Wright)', 'female', None, 1, 0, '19996', 52.0, 'C126', 'S'),\n",
       " (671, 1, 2, 'Brown, Mrs. Thomas William Solomon (Elizabeth Catherine Ford)', 'female', 40.0, 1, 1, '29750', 39.0, None, 'S'),\n",
       " (672, 0, 1, 'Davidson, Mr. Thornton', 'male', 31.0, 1, 0, 'F.C. 12750', 52.0, 'B71', 'S'),\n",
       " (673, 0, 2, 'Mitchell, Mr. Henry Michael', 'male', 70.0, 0, 0, 'C.A. 24580', 10.5, None, 'S'),\n",
       " (674, 1, 2, 'Wilhelms, Mr. Charles', 'male', 31.0, 0, 0, '244270', 13.0, None, 'S'),\n",
       " (675, 0, 2, 'Watson, Mr. Ennis Hastings', 'male', None, 0, 0, '239856', 0.0, None, 'S'),\n",
       " (676, 0, 3, 'Edvardsson, Mr. Gustaf Hjalmar', 'male', 18.0, 0, 0, '349912', 7.775, None, 'S'),\n",
       " (677, 0, 3, 'Sawyer, Mr. Frederick Charles', 'male', 24.5, 0, 0, '342826', 8.05, None, 'S'),\n",
       " (678, 1, 3, 'Turja, Miss. Anna Sofia', 'female', 18.0, 0, 0, '4138', 9.8417, None, 'S'),\n",
       " (679, 0, 3, 'Goodwin, Mrs. Frederick (Augusta Tyler)', 'female', 43.0, 1, 6, 'CA 2144', 46.9, None, 'S'),\n",
       " (680, 1, 1, 'Cardeza, Mr. Thomas Drake Martinez', 'male', 36.0, 0, 1, 'PC 17755', 512.3292, 'B51 B53 B55', 'C'),\n",
       " (681, 0, 3, 'Peters, Miss. Katie', 'female', None, 0, 0, '330935', 8.1375, None, 'Q'),\n",
       " (682, 1, 1, 'Hassab, Mr. Hammad', 'male', 27.0, 0, 0, 'PC 17572', 76.7292, 'D49', 'C'),\n",
       " (683, 0, 3, 'Olsvigen, Mr. Thor Anderson', 'male', 20.0, 0, 0, '6563', 9.225, None, 'S'),\n",
       " (684, 0, 3, 'Goodwin, Mr. Charles Edward', 'male', 14.0, 5, 2, 'CA 2144', 46.9, None, 'S'),\n",
       " (685, 0, 2, 'Brown, Mr. Thomas William Solomon', 'male', 60.0, 1, 1, '29750', 39.0, None, 'S'),\n",
       " (686, 0, 2, 'Laroche, Mr. Joseph Philippe Lemercier', 'male', 25.0, 1, 2, 'SC/Paris 2123', 41.5792, None, 'C'),\n",
       " (687, 0, 3, 'Panula, Mr. Jaako Arnold', 'male', 14.0, 4, 1, '3101295', 39.6875, None, 'S'),\n",
       " (688, 0, 3, 'Dakic, Mr. Branko', 'male', 19.0, 0, 0, '349228', 10.1708, None, 'S'),\n",
       " (689, 0, 3, 'Fischer, Mr. Eberhard Thelander', 'male', 18.0, 0, 0, '350036', 7.7958, None, 'S'),\n",
       " (690, 1, 1, 'Madill, Miss. Georgette Alexandra', 'female', 15.0, 0, 1, '24160', 211.3375, 'B5', 'S'),\n",
       " (691, 1, 1, 'Dick, Mr. Albert Adrian', 'male', 31.0, 1, 0, '17474', 57.0, 'B20', 'S'),\n",
       " (692, 1, 3, 'Karun, Miss. Manca', 'female', 4.0, 0, 1, '349256', 13.4167, None, 'C'),\n",
       " (693, 1, 3, 'Lam, Mr. Ali', 'male', None, 0, 0, '1601', 56.4958, None, 'S'),\n",
       " (694, 0, 3, 'Saad, Mr. Khalil', 'male', 25.0, 0, 0, '2672', 7.225, None, 'C'),\n",
       " (695, 0, 1, 'Weir, Col. John', 'male', 60.0, 0, 0, '113800', 26.55, None, 'S'),\n",
       " (696, 0, 2, 'Chapman, Mr. Charles Henry', 'male', 52.0, 0, 0, '248731', 13.5, None, 'S'),\n",
       " (697, 0, 3, 'Kelly, Mr. James', 'male', 44.0, 0, 0, '363592', 8.05, None, 'S'),\n",
       " (698, 1, 3, 'Mullens, Miss. Katherine \"Katie\"', 'female', None, 0, 0, '35852', 7.7333, None, 'Q'),\n",
       " (699, 0, 1, 'Thayer, Mr. John Borland', 'male', 49.0, 1, 1, '17421', 110.8833, 'C68', 'C'),\n",
       " (700, 0, 3, 'Humblen, Mr. Adolf Mathias Nicolai Olsen', 'male', 42.0, 0, 0, '348121', 7.65, 'F G63', 'S'),\n",
       " (701, 1, 1, 'Astor, Mrs. John Jacob (Madeleine Talmadge Force)', 'female', 18.0, 1, 0, 'PC 17757', 227.525, 'C62 C64', 'C'),\n",
       " (702, 1, 1, 'Silverthorne, Mr. Spencer Victor', 'male', 35.0, 0, 0, 'PC 17475', 26.2875, 'E24', 'S'),\n",
       " (703, 0, 3, 'Barbara, Miss. Saiide', 'female', 18.0, 0, 1, '2691', 14.4542, None, 'C'),\n",
       " (704, 0, 3, 'Gallagher, Mr. Martin', 'male', 25.0, 0, 0, '36864', 7.7417, None, 'Q'),\n",
       " (705, 0, 3, 'Hansen, Mr. Henrik Juul', 'male', 26.0, 1, 0, '350025', 7.8542, None, 'S'),\n",
       " (706, 0, 2, 'Morley, Mr. Henry Samuel (\"Mr Henry Marshall\")', 'male', 39.0, 0, 0, '250655', 26.0, None, 'S'),\n",
       " (707, 1, 2, 'Kelly, Mrs. Florence \"Fannie\"', 'female', 45.0, 0, 0, '223596', 13.5, None, 'S'),\n",
       " (708, 1, 1, 'Calderhead, Mr. Edward Pennington', 'male', 42.0, 0, 0, 'PC 17476', 26.2875, 'E24', 'S'),\n",
       " (709, 1, 1, 'Cleaver, Miss. Alice', 'female', 22.0, 0, 0, '113781', 151.55, None, 'S'),\n",
       " (710, 1, 3, 'Moubarek, Master. Halim Gonios (\"William George\")', 'male', None, 1, 1, '2661', 15.2458, None, 'C'),\n",
       " (711, 1, 1, 'Mayne, Mlle. Berthe Antonine (\"Mrs de Villiers\")', 'female', 24.0, 0, 0, 'PC 17482', 49.5042, 'C90', 'C'),\n",
       " (712, 0, 1, 'Klaber, Mr. Herman', 'male', None, 0, 0, '113028', 26.55, 'C124', 'S'),\n",
       " (713, 1, 1, 'Taylor, Mr. Elmer Zebley', 'male', 48.0, 1, 0, '19996', 52.0, 'C126', 'S'),\n",
       " (714, 0, 3, 'Larsson, Mr. August Viktor', 'male', 29.0, 0, 0, '7545', 9.4833, None, 'S'),\n",
       " (715, 0, 2, 'Greenberg, Mr. Samuel', 'male', 52.0, 0, 0, '250647', 13.0, None, 'S'),\n",
       " (716, 0, 3, 'Soholt, Mr. Peter Andreas Lauritz Andersen', 'male', 19.0, 0, 0, '348124', 7.65, 'F G73', 'S'),\n",
       " (717, 1, 1, 'Endres, Miss. Caroline Louise', 'female', 38.0, 0, 0, 'PC 17757', 227.525, 'C45', 'C'),\n",
       " (718, 1, 2, 'Troutt, Miss. Edwina Celia \"Winnie\"', 'female', 27.0, 0, 0, '34218', 10.5, 'E101', 'S'),\n",
       " (719, 0, 3, 'McEvoy, Mr. Michael', 'male', None, 0, 0, '36568', 15.5, None, 'Q'),\n",
       " (720, 0, 3, 'Johnson, Mr. Malkolm Joackim', 'male', 33.0, 0, 0, '347062', 7.775, None, 'S'),\n",
       " (721, 1, 2, 'Harper, Miss. Annie Jessie \"Nina\"', 'female', 6.0, 0, 1, '248727', 33.0, None, 'S'),\n",
       " (722, 0, 3, 'Jensen, Mr. Svend Lauritz', 'male', 17.0, 1, 0, '350048', 7.0542, None, 'S'),\n",
       " (723, 0, 2, 'Gillespie, Mr. William Henry', 'male', 34.0, 0, 0, '12233', 13.0, None, 'S'),\n",
       " (724, 0, 2, 'Hodges, Mr. Henry Price', 'male', 50.0, 0, 0, '250643', 13.0, None, 'S'),\n",
       " (725, 1, 1, 'Chambers, Mr. Norman Campbell', 'male', 27.0, 1, 0, '113806', 53.1, 'E8', 'S'),\n",
       " (726, 0, 3, 'Oreskovic, Mr. Luka', 'male', 20.0, 0, 0, '315094', 8.6625, None, 'S'),\n",
       " (727, 1, 2, 'Renouf, Mrs. Peter Henry (Lillian Jefferys)', 'female', 30.0, 3, 0, '31027', 21.0, None, 'S'),\n",
       " (728, 1, 3, 'Mannion, Miss. Margareth', 'female', None, 0, 0, '36866', 7.7375, None, 'Q'),\n",
       " (729, 0, 2, 'Bryhl, Mr. Kurt Arnold Gottfrid', 'male', 25.0, 1, 0, '236853', 26.0, None, 'S'),\n",
       " (730, 0, 3, 'Ilmakangas, Miss. Pieta Sofia', 'female', 25.0, 1, 0, 'STON/O2. 3101271', 7.925, None, 'S'),\n",
       " (731, 1, 1, 'Allen, Miss. Elisabeth Walton', 'female', 29.0, 0, 0, '24160', 211.3375, 'B5', 'S'),\n",
       " (732, 0, 3, 'Hassan, Mr. Houssein G N', 'male', 11.0, 0, 0, '2699', 18.7875, None, 'C'),\n",
       " (733, 0, 2, 'Knight, Mr. Robert J', 'male', None, 0, 0, '239855', 0.0, None, 'S'),\n",
       " (734, 0, 2, 'Berriman, Mr. William John', 'male', 23.0, 0, 0, '28425', 13.0, None, 'S'),\n",
       " (735, 0, 2, 'Troupiansky, Mr. Moses Aaron', 'male', 23.0, 0, 0, '233639', 13.0, None, 'S'),\n",
       " (736, 0, 3, 'Williams, Mr. Leslie', 'male', 28.5, 0, 0, '54636', 16.1, None, 'S'),\n",
       " (737, 0, 3, 'Ford, Mrs. Edward (Margaret Ann Watson)', 'female', 48.0, 1, 3, 'W./C. 6608', 34.375, None, 'S'),\n",
       " (738, 1, 1, 'Lesurer, Mr. Gustave J', 'male', 35.0, 0, 0, 'PC 17755', 512.3292, 'B101', 'C'),\n",
       " (739, 0, 3, 'Ivanoff, Mr. Kanio', 'male', None, 0, 0, '349201', 7.8958, None, 'S'),\n",
       " (740, 0, 3, 'Nankoff, Mr. Minko', 'male', None, 0, 0, '349218', 7.8958, None, 'S'),\n",
       " (741, 1, 1, 'Hawksford, Mr. Walter James', 'male', None, 0, 0, '16988', 30.0, 'D45', 'S'),\n",
       " (742, 0, 1, 'Cavendish, Mr. Tyrell William', 'male', 36.0, 1, 0, '19877', 78.85, 'C46', 'S'),\n",
       " (743, 1, 1, 'Ryerson, Miss. Susan Parker \"Suzette\"', 'female', 21.0, 2, 2, 'PC 17608', 262.375, 'B57 B59 B63 B66', 'C'),\n",
       " (744, 0, 3, 'McNamee, Mr. Neal', 'male', 24.0, 1, 0, '376566', 16.1, None, 'S'),\n",
       " (745, 1, 3, 'Stranden, Mr. Juho', 'male', 31.0, 0, 0, 'STON/O 2. 3101288', 7.925, None, 'S'),\n",
       " (746, 0, 1, 'Crosby, Capt. Edward Gifford', 'male', 70.0, 1, 1, 'WE/P 5735', 71.0, 'B22', 'S'),\n",
       " (747, 0, 3, 'Abbott, Mr. Rossmore Edward', 'male', 16.0, 1, 1, 'C.A. 2673', 20.25, None, 'S'),\n",
       " (748, 1, 2, 'Sinkkonen, Miss. Anna', 'female', 30.0, 0, 0, '250648', 13.0, None, 'S'),\n",
       " (749, 0, 1, 'Marvin, Mr. Daniel Warner', 'male', 19.0, 1, 0, '113773', 53.1, 'D30', 'S'),\n",
       " (750, 0, 3, 'Connaghton, Mr. Michael', 'male', 31.0, 0, 0, '335097', 7.75, None, 'Q'),\n",
       " (751, 1, 2, 'Wells, Miss. Joan', 'female', 4.0, 1, 1, '29103', 23.0, None, 'S'),\n",
       " (752, 1, 3, 'Moor, Master. Meier', 'male', 6.0, 0, 1, '392096', 12.475, 'E121', 'S'),\n",
       " (753, 0, 3, 'Vande Velde, Mr. Johannes Joseph', 'male', 33.0, 0, 0, '345780', 9.5, None, 'S'),\n",
       " (754, 0, 3, 'Jonkoff, Mr. Lalio', 'male', 23.0, 0, 0, '349204', 7.8958, None, 'S'),\n",
       " (755, 1, 2, 'Herman, Mrs. Samuel (Jane Laver)', 'female', 48.0, 1, 2, '220845', 65.0, None, 'S'),\n",
       " (756, 1, 2, 'Hamalainen, Master. Viljo', 'male', 0.67, 1, 1, '250649', 14.5, None, 'S'),\n",
       " (757, 0, 3, 'Carlsson, Mr. August Sigfrid', 'male', 28.0, 0, 0, '350042', 7.7958, None, 'S'),\n",
       " (758, 0, 2, 'Bailey, Mr. Percy Andrew', 'male', 18.0, 0, 0, '29108', 11.5, None, 'S'),\n",
       " (759, 0, 3, 'Theobald, Mr. Thomas Leonard', 'male', 34.0, 0, 0, '363294', 8.05, None, 'S'),\n",
       " (760, 1, 1, 'Rothes, the Countess. of (Lucy Noel Martha Dyer-Edwards)', 'female', 33.0, 0, 0, '110152', 86.5, 'B77', 'S'),\n",
       " (761, 0, 3, 'Garfirth, Mr. John', 'male', None, 0, 0, '358585', 14.5, None, 'S'),\n",
       " (762, 0, 3, 'Nirva, Mr. Iisakki Antino Aijo', 'male', 41.0, 0, 0, 'SOTON/O2 3101272', 7.125, None, 'S'),\n",
       " (763, 1, 3, 'Barah, Mr. Hanna Assi', 'male', 20.0, 0, 0, '2663', 7.2292, None, 'C'),\n",
       " (764, 1, 1, 'Carter, Mrs. William Ernest (Lucile Polk)', 'female', 36.0, 1, 2, '113760', 120.0, 'B96 B98', 'S'),\n",
       " (765, 0, 3, 'Eklund, Mr. Hans Linus', 'male', 16.0, 0, 0, '347074', 7.775, None, 'S'),\n",
       " (766, 1, 1, 'Hogeboom, Mrs. John C (Anna Andrews)', 'female', 51.0, 1, 0, '13502', 77.9583, 'D11', 'S'),\n",
       " (767, 0, 1, 'Brewe, Dr. Arthur Jackson', 'male', None, 0, 0, '112379', 39.6, None, 'C'),\n",
       " (768, 0, 3, 'Mangan, Miss. Mary', 'female', 30.5, 0, 0, '364850', 7.75, None, 'Q'),\n",
       " (769, 0, 3, 'Moran, Mr. Daniel J', 'male', None, 1, 0, '371110', 24.15, None, 'Q'),\n",
       " (770, 0, 3, 'Gronnestad, Mr. Daniel Danielsen', 'male', 32.0, 0, 0, '8471', 8.3625, None, 'S'),\n",
       " (771, 0, 3, 'Lievens, Mr. Rene Aime', 'male', 24.0, 0, 0, '345781', 9.5, None, 'S'),\n",
       " (772, 0, 3, 'Jensen, Mr. Niels Peder', 'male', 48.0, 0, 0, '350047', 7.8542, None, 'S'),\n",
       " (773, 0, 2, 'Mack, Mrs. (Mary)', 'female', 57.0, 0, 0, 'S.O./P.P. 3', 10.5, 'E77', 'S'),\n",
       " (774, 0, 3, 'Elias, Mr. Dibo', 'male', None, 0, 0, '2674', 7.225, None, 'C'),\n",
       " (775, 1, 2, 'Hocking, Mrs. Elizabeth (Eliza Needs)', 'female', 54.0, 1, 3, '29105', 23.0, None, 'S'),\n",
       " (776, 0, 3, 'Myhrman, Mr. Pehr Fabian Oliver Malkolm', 'male', 18.0, 0, 0, '347078', 7.75, None, 'S'),\n",
       " (777, 0, 3, 'Tobin, Mr. Roger', 'male', None, 0, 0, '383121', 7.75, 'F38', 'Q'),\n",
       " (778, 1, 3, 'Emanuel, Miss. Virginia Ethel', 'female', 5.0, 0, 0, '364516', 12.475, None, 'S'),\n",
       " (779, 0, 3, 'Kilgannon, Mr. Thomas J', 'male', None, 0, 0, '36865', 7.7375, None, 'Q'),\n",
       " (780, 1, 1, 'Robert, Mrs. Edward Scott (Elisabeth Walton McMillan)', 'female', 43.0, 0, 1, '24160', 211.3375, 'B3', 'S'),\n",
       " (781, 1, 3, 'Ayoub, Miss. Banoura', 'female', 13.0, 0, 0, '2687', 7.2292, None, 'C'),\n",
       " (782, 1, 1, 'Dick, Mrs. Albert Adrian (Vera Gillespie)', 'female', 17.0, 1, 0, '17474', 57.0, 'B20', 'S'),\n",
       " (783, 0, 1, 'Long, Mr. Milton Clyde', 'male', 29.0, 0, 0, '113501', 30.0, 'D6', 'S'),\n",
       " (784, 0, 3, 'Johnston, Mr. Andrew G', 'male', None, 1, 2, 'W./C. 6607', 23.45, None, 'S'),\n",
       " (785, 0, 3, 'Ali, Mr. William', 'male', 25.0, 0, 0, 'SOTON/O.Q. 3101312', 7.05, None, 'S'),\n",
       " (786, 0, 3, 'Harmer, Mr. Abraham (David Lishin)', 'male', 25.0, 0, 0, '374887', 7.25, None, 'S'),\n",
       " (787, 1, 3, 'Sjoblom, Miss. Anna Sofia', 'female', 18.0, 0, 0, '3101265', 7.4958, None, 'S'),\n",
       " (788, 0, 3, 'Rice, Master. George Hugh', 'male', 8.0, 4, 1, '382652', 29.125, None, 'Q'),\n",
       " (789, 1, 3, 'Dean, Master. Bertram Vere', 'male', 1.0, 1, 2, 'C.A. 2315', 20.575, None, 'S'),\n",
       " (790, 0, 1, 'Guggenheim, Mr. Benjamin', 'male', 46.0, 0, 0, 'PC 17593', 79.2, 'B82 B84', 'C'),\n",
       " (791, 0, 3, 'Keane, Mr. Andrew \"Andy\"', 'male', None, 0, 0, '12460', 7.75, None, 'Q'),\n",
       " (792, 0, 2, 'Gaskell, Mr. Alfred', 'male', 16.0, 0, 0, '239865', 26.0, None, 'S'),\n",
       " (793, 0, 3, 'Sage, Miss. Stella Anna', 'female', None, 8, 2, 'CA. 2343', 69.55, None, 'S'),\n",
       " (794, 0, 1, 'Hoyt, Mr. William Fisher', 'male', None, 0, 0, 'PC 17600', 30.6958, None, 'C'),\n",
       " (795, 0, 3, 'Dantcheff, Mr. Ristiu', 'male', 25.0, 0, 0, '349203', 7.8958, None, 'S'),\n",
       " (796, 0, 2, 'Otter, Mr. Richard', 'male', 39.0, 0, 0, '28213', 13.0, None, 'S'),\n",
       " (797, 1, 1, 'Leader, Dr. Alice (Farnham)', 'female', 49.0, 0, 0, '17465', 25.9292, 'D17', 'S'),\n",
       " (798, 1, 3, 'Osman, Mrs. Mara', 'female', 31.0, 0, 0, '349244', 8.6833, None, 'S'),\n",
       " (799, 0, 3, 'Ibrahim Shawah, Mr. Yousseff', 'male', 30.0, 0, 0, '2685', 7.2292, None, 'C'),\n",
       " (800, 0, 3, 'Van Impe, Mrs. Jean Baptiste (Rosalie Paula Govaert)', 'female', 30.0, 1, 1, '345773', 24.15, None, 'S'),\n",
       " (801, 0, 2, 'Ponesell, Mr. Martin', 'male', 34.0, 0, 0, '250647', 13.0, None, 'S'),\n",
       " (802, 1, 2, 'Collyer, Mrs. Harvey (Charlotte Annie Tate)', 'female', 31.0, 1, 1, 'C.A. 31921', 26.25, None, 'S'),\n",
       " (803, 1, 1, 'Carter, Master. William Thornton II', 'male', 11.0, 1, 2, '113760', 120.0, 'B96 B98', 'S'),\n",
       " (804, 1, 3, 'Thomas, Master. Assad Alexander', 'male', 0.42, 0, 1, '2625', 8.5167, None, 'C'),\n",
       " (805, 1, 3, 'Hedman, Mr. Oskar Arvid', 'male', 27.0, 0, 0, '347089', 6.975, None, 'S'),\n",
       " (806, 0, 3, 'Johansson, Mr. Karl Johan', 'male', 31.0, 0, 0, '347063', 7.775, None, 'S'),\n",
       " (807, 0, 1, 'Andrews, Mr. Thomas Jr', 'male', 39.0, 0, 0, '112050', 0.0, 'A36', 'S'),\n",
       " (808, 0, 3, 'Pettersson, Miss. Ellen Natalia', 'female', 18.0, 0, 0, '347087', 7.775, None, 'S'),\n",
       " (809, 0, 2, 'Meyer, Mr. August', 'male', 39.0, 0, 0, '248723', 13.0, None, 'S'),\n",
       " (810, 1, 1, 'Chambers, Mrs. Norman Campbell (Bertha Griggs)', 'female', 33.0, 1, 0, '113806', 53.1, 'E8', 'S'),\n",
       " (811, 0, 3, 'Alexander, Mr. William', 'male', 26.0, 0, 0, '3474', 7.8875, None, 'S'),\n",
       " (812, 0, 3, 'Lester, Mr. James', 'male', 39.0, 0, 0, 'A/4 48871', 24.15, None, 'S'),\n",
       " (813, 0, 2, 'Slemen, Mr. Richard James', 'male', 35.0, 0, 0, '28206', 10.5, None, 'S'),\n",
       " (814, 0, 3, 'Andersson, Miss. Ebba Iris Alfrida', 'female', 6.0, 4, 2, '347082', 31.275, None, 'S'),\n",
       " (815, 0, 3, 'Tomlin, Mr. Ernest Portage', 'male', 30.5, 0, 0, '364499', 8.05, None, 'S'),\n",
       " (816, 0, 1, 'Fry, Mr. Richard', 'male', None, 0, 0, '112058', 0.0, 'B102', 'S'),\n",
       " (817, 0, 3, 'Heininen, Miss. Wendla Maria', 'female', 23.0, 0, 0, 'STON/O2. 3101290', 7.925, None, 'S'),\n",
       " (818, 0, 2, 'Mallet, Mr. Albert', 'male', 31.0, 1, 1, 'S.C./PARIS 2079', 37.0042, None, 'C'),\n",
       " (819, 0, 3, 'Holm, Mr. John Fredrik Alexander', 'male', 43.0, 0, 0, 'C 7075', 6.45, None, 'S'),\n",
       " (820, 0, 3, 'Skoog, Master. Karl Thorsten', 'male', 10.0, 3, 2, '347088', 27.9, None, 'S'),\n",
       " (821, 1, 1, 'Hays, Mrs. Charles Melville (Clara Jennings Gregg)', 'female', 52.0, 1, 1, '12749', 93.5, 'B69', 'S'),\n",
       " (822, 1, 3, 'Lulic, Mr. Nikola', 'male', 27.0, 0, 0, '315098', 8.6625, None, 'S'),\n",
       " (823, 0, 1, 'Reuchlin, Jonkheer. John George', 'male', 38.0, 0, 0, '19972', 0.0, None, 'S'),\n",
       " (824, 1, 3, 'Moor, Mrs. (Beila)', 'female', 27.0, 0, 1, '392096', 12.475, 'E121', 'S'),\n",
       " (825, 0, 3, 'Panula, Master. Urho Abraham', 'male', 2.0, 4, 1, '3101295', 39.6875, None, 'S'),\n",
       " (826, 0, 3, 'Flynn, Mr. John', 'male', None, 0, 0, '368323', 6.95, None, 'Q'),\n",
       " (827, 0, 3, 'Lam, Mr. Len', 'male', None, 0, 0, '1601', 56.4958, None, 'S'),\n",
       " (828, 1, 2, 'Mallet, Master. Andre', 'male', 1.0, 0, 2, 'S.C./PARIS 2079', 37.0042, None, 'C'),\n",
       " (829, 1, 3, 'McCormack, Mr. Thomas Joseph', 'male', None, 0, 0, '367228', 7.75, None, 'Q'),\n",
       " (830, 1, 1, 'Stone, Mrs. George Nelson (Martha Evelyn)', 'female', 62.0, 0, 0, '113572', 80.0, 'B28', None),\n",
       " (831, 1, 3, 'Yasbeck, Mrs. Antoni (Selini Alexander)', 'female', 15.0, 1, 0, '2659', 14.4542, None, 'C'),\n",
       " (832, 1, 2, 'Richards, Master. George Sibley', 'male', 0.83, 1, 1, '29106', 18.75, None, 'S'),\n",
       " (833, 0, 3, 'Saad, Mr. Amin', 'male', None, 0, 0, '2671', 7.2292, None, 'C'),\n",
       " (834, 0, 3, 'Augustsson, Mr. Albert', 'male', 23.0, 0, 0, '347468', 7.8542, None, 'S'),\n",
       " (835, 0, 3, 'Allum, Mr. Owen George', 'male', 18.0, 0, 0, '2223', 8.3, None, 'S'),\n",
       " (836, 1, 1, 'Compton, Miss. Sara Rebecca', 'female', 39.0, 1, 1, 'PC 17756', 83.1583, 'E49', 'C'),\n",
       " (837, 0, 3, 'Pasic, Mr. Jakob', 'male', 21.0, 0, 0, '315097', 8.6625, None, 'S'),\n",
       " (838, 0, 3, 'Sirota, Mr. Maurice', 'male', None, 0, 0, '392092', 8.05, None, 'S'),\n",
       " (839, 1, 3, 'Chip, Mr. Chang', 'male', 32.0, 0, 0, '1601', 56.4958, None, 'S'),\n",
       " (840, 1, 1, 'Marechal, Mr. Pierre', 'male', None, 0, 0, '11774', 29.7, 'C47', 'C'),\n",
       " (841, 0, 3, 'Alhomaki, Mr. Ilmari Rudolf', 'male', 20.0, 0, 0, 'SOTON/O2 3101287', 7.925, None, 'S'),\n",
       " (842, 0, 2, 'Mudd, Mr. Thomas Charles', 'male', 16.0, 0, 0, 'S.O./P.P. 3', 10.5, None, 'S'),\n",
       " (843, 1, 1, 'Serepeca, Miss. Augusta', 'female', 30.0, 0, 0, '113798', 31.0, None, 'C'),\n",
       " (844, 0, 3, 'Lemberopolous, Mr. Peter L', 'male', 34.5, 0, 0, '2683', 6.4375, None, 'C'),\n",
       " (845, 0, 3, 'Culumovic, Mr. Jeso', 'male', 17.0, 0, 0, '315090', 8.6625, None, 'S'),\n",
       " (846, 0, 3, 'Abbing, Mr. Anthony', 'male', 42.0, 0, 0, 'C.A. 5547', 7.55, None, 'S'),\n",
       " (847, 0, 3, 'Sage, Mr. Douglas Bullen', 'male', None, 8, 2, 'CA. 2343', 69.55, None, 'S'),\n",
       " (848, 0, 3, 'Markoff, Mr. Marin', 'male', 35.0, 0, 0, '349213', 7.8958, None, 'C'),\n",
       " (849, 0, 2, 'Harper, Rev. John', 'male', 28.0, 0, 1, '248727', 33.0, None, 'S'),\n",
       " (850, 1, 1, 'Goldenberg, Mrs. Samuel L (Edwiga Grabowska)', 'female', None, 1, 0, '17453', 89.1042, 'C92', 'C'),\n",
       " (851, 0, 3, 'Andersson, Master. Sigvard Harald Elias', 'male', 4.0, 4, 2, '347082', 31.275, None, 'S'),\n",
       " (852, 0, 3, 'Svensson, Mr. Johan', 'male', 74.0, 0, 0, '347060', 7.775, None, 'S'),\n",
       " (853, 0, 3, 'Boulos, Miss. Nourelain', 'female', 9.0, 1, 1, '2678', 15.2458, None, 'C'),\n",
       " (854, 1, 1, 'Lines, Miss. Mary Conover', 'female', 16.0, 0, 1, 'PC 17592', 39.4, 'D28', 'S'),\n",
       " (855, 0, 2, 'Carter, Mrs. Ernest Courtenay (Lilian Hughes)', 'female', 44.0, 1, 0, '244252', 26.0, None, 'S'),\n",
       " (856, 1, 3, 'Aks, Mrs. Sam (Leah Rosen)', 'female', 18.0, 0, 1, '392091', 9.35, None, 'S'),\n",
       " (857, 1, 1, 'Wick, Mrs. George Dennick (Mary Hitchcock)', 'female', 45.0, 1, 1, '36928', 164.8667, None, 'S'),\n",
       " (858, 1, 1, 'Daly, Mr. Peter Denis ', 'male', 51.0, 0, 0, '113055', 26.55, 'E17', 'S'),\n",
       " (859, 1, 3, 'Baclini, Mrs. Solomon (Latifa Qurban)', 'female', 24.0, 0, 3, '2666', 19.2583, None, 'C'),\n",
       " (860, 0, 3, 'Razi, Mr. Raihed', 'male', None, 0, 0, '2629', 7.2292, None, 'C'),\n",
       " (861, 0, 3, 'Hansen, Mr. Claus Peter', 'male', 41.0, 2, 0, '350026', 14.1083, None, 'S'),\n",
       " (862, 0, 2, 'Giles, Mr. Frederick Edward', 'male', 21.0, 1, 0, '28134', 11.5, None, 'S'),\n",
       " (863, 1, 1, 'Swift, Mrs. Frederick Joel (Margaret Welles Barron)', 'female', 48.0, 0, 0, '17466', 25.9292, 'D17', 'S'),\n",
       " (864, 0, 3, 'Sage, Miss. Dorothy Edith \"Dolly\"', 'female', None, 8, 2, 'CA. 2343', 69.55, None, 'S'),\n",
       " (865, 0, 2, 'Gill, Mr. John William', 'male', 24.0, 0, 0, '233866', 13.0, None, 'S'),\n",
       " (866, 1, 2, 'Bystrom, Mrs. (Karolina)', 'female', 42.0, 0, 0, '236852', 13.0, None, 'S'),\n",
       " (867, 1, 2, 'Duran y More, Miss. Asuncion', 'female', 27.0, 1, 0, 'SC/PARIS 2149', 13.8583, None, 'C'),\n",
       " (868, 0, 1, 'Roebling, Mr. Washington Augustus II', 'male', 31.0, 0, 0, 'PC 17590', 50.4958, 'A24', 'S'),\n",
       " (869, 0, 3, 'van Melkebeke, Mr. Philemon', 'male', None, 0, 0, '345777', 9.5, None, 'S'),\n",
       " (870, 1, 3, 'Johnson, Master. Harold Theodor', 'male', 4.0, 1, 1, '347742', 11.1333, None, 'S'),\n",
       " (871, 0, 3, 'Balkic, Mr. Cerin', 'male', 26.0, 0, 0, '349248', 7.8958, None, 'S'),\n",
       " (872, 1, 1, 'Beckwith, Mrs. Richard Leonard (Sallie Monypeny)', 'female', 47.0, 1, 1, '11751', 52.5542, 'D35', 'S'),\n",
       " (873, 0, 1, 'Carlsson, Mr. Frans Olof', 'male', 33.0, 0, 0, '695', 5.0, 'B51 B53 B55', 'S'),\n",
       " (874, 0, 3, 'Vander Cruyssen, Mr. Victor', 'male', 47.0, 0, 0, '345765', 9.0, None, 'S'),\n",
       " (875, 1, 2, 'Abelson, Mrs. Samuel (Hannah Wizosky)', 'female', 28.0, 1, 0, 'P/PP 3381', 24.0, None, 'C'),\n",
       " (876, 1, 3, 'Najib, Miss. Adele Kiamie \"Jane\"', 'female', 15.0, 0, 0, '2667', 7.225, None, 'C'),\n",
       " (877, 0, 3, 'Gustafsson, Mr. Alfred Ossian', 'male', 20.0, 0, 0, '7534', 9.8458, None, 'S'),\n",
       " (878, 0, 3, 'Petroff, Mr. Nedelio', 'male', 19.0, 0, 0, '349212', 7.8958, None, 'S'),\n",
       " (879, 0, 3, 'Laleff, Mr. Kristo', 'male', None, 0, 0, '349217', 7.8958, None, 'S'),\n",
       " (880, 1, 1, 'Potter, Mrs. Thomas Jr (Lily Alexenia Wilson)', 'female', 56.0, 0, 1, '11767', 83.1583, 'C50', 'C'),\n",
       " (881, 1, 2, 'Shelley, Mrs. William (Imanita Parrish Hall)', 'female', 25.0, 0, 1, '230433', 26.0, None, 'S'),\n",
       " (882, 0, 3, 'Markun, Mr. Johann', 'male', 33.0, 0, 0, '349257', 7.8958, None, 'S'),\n",
       " (883, 0, 3, 'Dahlberg, Miss. Gerda Ulrika', 'female', 22.0, 0, 0, '7552', 10.5167, None, 'S'),\n",
       " (884, 0, 2, 'Banfield, Mr. Frederick James', 'male', 28.0, 0, 0, 'C.A./SOTON 34068', 10.5, None, 'S'),\n",
       " (885, 0, 3, 'Sutehall, Mr. Henry Jr', 'male', 25.0, 0, 0, 'SOTON/OQ 392076', 7.05, None, 'S'),\n",
       " (886, 0, 3, 'Rice, Mrs. William (Margaret Norton)', 'female', 39.0, 0, 5, '382652', 29.125, None, 'Q'),\n",
       " (887, 0, 2, 'Montvila, Rev. Juozas', 'male', 27.0, 0, 0, '211536', 13.0, None, 'S'),\n",
       " (888, 1, 1, 'Graham, Miss. Margaret Edith', 'female', 19.0, 0, 0, '112053', 30.0, 'B42', 'S'),\n",
       " (889, 0, 3, 'Johnston, Miss. Catherine Helen \"Carrie\"', 'female', None, 1, 2, 'W./C. 6607', 23.45, None, 'S'),\n",
       " (890, 1, 1, 'Behr, Mr. Karl Howell', 'male', 26.0, 0, 0, '111369', 30.0, 'C148', 'C'),\n",
       " (891, 0, 3, 'Dooley, Mr. Patrick', 'male', 32.0, 0, 0, '370376', 7.75, None, 'Q')]"
      ]
     },
     "execution_count": 20,
     "metadata": {},
     "output_type": "execute_result"
    }
   ],
   "source": [
    "engine.execute(\"SELECT * FROM users\").fetchall()"
   ]
  },
  {
   "cell_type": "markdown",
   "metadata": {
    "papermill": {
     "duration": 0.056246,
     "end_time": "2021-01-12T00:33:46.514025",
     "exception": false,
     "start_time": "2021-01-12T00:33:46.457779",
     "status": "completed"
    },
    "tags": []
   },
   "source": [
    "Some data of train DataFrame."
   ]
  },
  {
   "cell_type": "code",
   "execution_count": 8,
   "metadata": {
    "execution": {
     "iopub.execute_input": "2021-01-12T00:33:46.650419Z",
     "iopub.status.busy": "2021-01-12T00:33:46.637908Z",
     "iopub.status.idle": "2021-01-12T00:33:46.664599Z",
     "shell.execute_reply": "2021-01-12T00:33:46.663888Z"
    },
    "papermill": {
     "duration": 0.093811,
     "end_time": "2021-01-12T00:33:46.664715",
     "exception": false,
     "start_time": "2021-01-12T00:33:46.570904",
     "status": "completed"
    },
    "tags": []
   },
   "outputs": [
    {
     "data": {
      "text/html": [
       "<div>\n",
       "<style scoped>\n",
       "    .dataframe tbody tr th:only-of-type {\n",
       "        vertical-align: middle;\n",
       "    }\n",
       "\n",
       "    .dataframe tbody tr th {\n",
       "        vertical-align: top;\n",
       "    }\n",
       "\n",
       "    .dataframe thead th {\n",
       "        text-align: right;\n",
       "    }\n",
       "</style>\n",
       "<table border=\"1\" class=\"dataframe\">\n",
       "  <thead>\n",
       "    <tr style=\"text-align: right;\">\n",
       "      <th></th>\n",
       "      <th>PassengerId</th>\n",
       "      <th>Survived</th>\n",
       "      <th>Pclass</th>\n",
       "      <th>Name</th>\n",
       "      <th>Sex</th>\n",
       "      <th>Age</th>\n",
       "      <th>SibSp</th>\n",
       "      <th>Parch</th>\n",
       "      <th>Ticket</th>\n",
       "      <th>Fare</th>\n",
       "      <th>Cabin</th>\n",
       "      <th>Embarked</th>\n",
       "    </tr>\n",
       "  </thead>\n",
       "  <tbody>\n",
       "    <tr>\n",
       "      <th>0</th>\n",
       "      <td>1</td>\n",
       "      <td>0</td>\n",
       "      <td>3</td>\n",
       "      <td>Braund, Mr. Owen Harris</td>\n",
       "      <td>male</td>\n",
       "      <td>22.0</td>\n",
       "      <td>1</td>\n",
       "      <td>0</td>\n",
       "      <td>A/5 21171</td>\n",
       "      <td>7.2500</td>\n",
       "      <td>NaN</td>\n",
       "      <td>S</td>\n",
       "    </tr>\n",
       "    <tr>\n",
       "      <th>1</th>\n",
       "      <td>2</td>\n",
       "      <td>1</td>\n",
       "      <td>1</td>\n",
       "      <td>Cumings, Mrs. John Bradley (Florence Briggs Th...</td>\n",
       "      <td>female</td>\n",
       "      <td>38.0</td>\n",
       "      <td>1</td>\n",
       "      <td>0</td>\n",
       "      <td>PC 17599</td>\n",
       "      <td>71.2833</td>\n",
       "      <td>C85</td>\n",
       "      <td>C</td>\n",
       "    </tr>\n",
       "    <tr>\n",
       "      <th>2</th>\n",
       "      <td>3</td>\n",
       "      <td>1</td>\n",
       "      <td>3</td>\n",
       "      <td>Heikkinen, Miss. Laina</td>\n",
       "      <td>female</td>\n",
       "      <td>26.0</td>\n",
       "      <td>0</td>\n",
       "      <td>0</td>\n",
       "      <td>STON/O2. 3101282</td>\n",
       "      <td>7.9250</td>\n",
       "      <td>NaN</td>\n",
       "      <td>S</td>\n",
       "    </tr>\n",
       "    <tr>\n",
       "      <th>3</th>\n",
       "      <td>4</td>\n",
       "      <td>1</td>\n",
       "      <td>1</td>\n",
       "      <td>Futrelle, Mrs. Jacques Heath (Lily May Peel)</td>\n",
       "      <td>female</td>\n",
       "      <td>35.0</td>\n",
       "      <td>1</td>\n",
       "      <td>0</td>\n",
       "      <td>113803</td>\n",
       "      <td>53.1000</td>\n",
       "      <td>C123</td>\n",
       "      <td>S</td>\n",
       "    </tr>\n",
       "    <tr>\n",
       "      <th>4</th>\n",
       "      <td>5</td>\n",
       "      <td>0</td>\n",
       "      <td>3</td>\n",
       "      <td>Allen, Mr. William Henry</td>\n",
       "      <td>male</td>\n",
       "      <td>35.0</td>\n",
       "      <td>0</td>\n",
       "      <td>0</td>\n",
       "      <td>373450</td>\n",
       "      <td>8.0500</td>\n",
       "      <td>NaN</td>\n",
       "      <td>S</td>\n",
       "    </tr>\n",
       "  </tbody>\n",
       "</table>\n",
       "</div>"
      ],
      "text/plain": [
       "   PassengerId  Survived  Pclass  \\\n",
       "0            1         0       3   \n",
       "1            2         1       1   \n",
       "2            3         1       3   \n",
       "3            4         1       1   \n",
       "4            5         0       3   \n",
       "\n",
       "                                                Name     Sex   Age  SibSp  \\\n",
       "0                            Braund, Mr. Owen Harris    male  22.0      1   \n",
       "1  Cumings, Mrs. John Bradley (Florence Briggs Th...  female  38.0      1   \n",
       "2                             Heikkinen, Miss. Laina  female  26.0      0   \n",
       "3       Futrelle, Mrs. Jacques Heath (Lily May Peel)  female  35.0      1   \n",
       "4                           Allen, Mr. William Henry    male  35.0      0   \n",
       "\n",
       "   Parch            Ticket     Fare Cabin Embarked  \n",
       "0      0         A/5 21171   7.2500   NaN        S  \n",
       "1      0          PC 17599  71.2833   C85        C  \n",
       "2      0  STON/O2. 3101282   7.9250   NaN        S  \n",
       "3      0            113803  53.1000  C123        S  \n",
       "4      0            373450   8.0500   NaN        S  "
      ]
     },
     "execution_count": 8,
     "metadata": {},
     "output_type": "execute_result"
    }
   ],
   "source": [
    "df_train.head()"
   ]
  },
  {
   "cell_type": "markdown",
   "metadata": {
    "papermill": {
     "duration": 0.056481,
     "end_time": "2021-01-12T00:33:46.778189",
     "exception": false,
     "start_time": "2021-01-12T00:33:46.721708",
     "status": "completed"
    },
    "tags": []
   },
   "source": [
    "## Describing Data\n",
    "\n",
    "Let's begin with some statistics."
   ]
  },
  {
   "cell_type": "code",
   "execution_count": 5,
   "metadata": {
    "execution": {
     "iopub.execute_input": "2021-01-12T00:33:46.907514Z",
     "iopub.status.busy": "2021-01-12T00:33:46.906757Z",
     "iopub.status.idle": "2021-01-12T00:33:46.937076Z",
     "shell.execute_reply": "2021-01-12T00:33:46.936339Z"
    },
    "papermill": {
     "duration": 0.099651,
     "end_time": "2021-01-12T00:33:46.937195",
     "exception": false,
     "start_time": "2021-01-12T00:33:46.837544",
     "status": "completed"
    },
    "tags": []
   },
   "outputs": [
    {
     "data": {
      "text/html": [
       "<div>\n",
       "<style scoped>\n",
       "    .dataframe tbody tr th:only-of-type {\n",
       "        vertical-align: middle;\n",
       "    }\n",
       "\n",
       "    .dataframe tbody tr th {\n",
       "        vertical-align: top;\n",
       "    }\n",
       "\n",
       "    .dataframe thead th {\n",
       "        text-align: right;\n",
       "    }\n",
       "</style>\n",
       "<table border=\"1\" class=\"dataframe\">\n",
       "  <thead>\n",
       "    <tr style=\"text-align: right;\">\n",
       "      <th></th>\n",
       "      <th>count</th>\n",
       "      <th>mean</th>\n",
       "      <th>std</th>\n",
       "      <th>min</th>\n",
       "      <th>25%</th>\n",
       "      <th>50%</th>\n",
       "      <th>75%</th>\n",
       "      <th>max</th>\n",
       "    </tr>\n",
       "  </thead>\n",
       "  <tbody>\n",
       "    <tr>\n",
       "      <th>PassengerId</th>\n",
       "      <td>891.0</td>\n",
       "      <td>446.000000</td>\n",
       "      <td>257.353842</td>\n",
       "      <td>1.00</td>\n",
       "      <td>223.5000</td>\n",
       "      <td>446.0000</td>\n",
       "      <td>668.5</td>\n",
       "      <td>891.0000</td>\n",
       "    </tr>\n",
       "    <tr>\n",
       "      <th>Survived</th>\n",
       "      <td>891.0</td>\n",
       "      <td>0.383838</td>\n",
       "      <td>0.486592</td>\n",
       "      <td>0.00</td>\n",
       "      <td>0.0000</td>\n",
       "      <td>0.0000</td>\n",
       "      <td>1.0</td>\n",
       "      <td>1.0000</td>\n",
       "    </tr>\n",
       "    <tr>\n",
       "      <th>Pclass</th>\n",
       "      <td>891.0</td>\n",
       "      <td>2.308642</td>\n",
       "      <td>0.836071</td>\n",
       "      <td>1.00</td>\n",
       "      <td>2.0000</td>\n",
       "      <td>3.0000</td>\n",
       "      <td>3.0</td>\n",
       "      <td>3.0000</td>\n",
       "    </tr>\n",
       "    <tr>\n",
       "      <th>Age</th>\n",
       "      <td>714.0</td>\n",
       "      <td>29.699118</td>\n",
       "      <td>14.526497</td>\n",
       "      <td>0.42</td>\n",
       "      <td>20.1250</td>\n",
       "      <td>28.0000</td>\n",
       "      <td>38.0</td>\n",
       "      <td>80.0000</td>\n",
       "    </tr>\n",
       "    <tr>\n",
       "      <th>SibSp</th>\n",
       "      <td>891.0</td>\n",
       "      <td>0.523008</td>\n",
       "      <td>1.102743</td>\n",
       "      <td>0.00</td>\n",
       "      <td>0.0000</td>\n",
       "      <td>0.0000</td>\n",
       "      <td>1.0</td>\n",
       "      <td>8.0000</td>\n",
       "    </tr>\n",
       "    <tr>\n",
       "      <th>Parch</th>\n",
       "      <td>891.0</td>\n",
       "      <td>0.381594</td>\n",
       "      <td>0.806057</td>\n",
       "      <td>0.00</td>\n",
       "      <td>0.0000</td>\n",
       "      <td>0.0000</td>\n",
       "      <td>0.0</td>\n",
       "      <td>6.0000</td>\n",
       "    </tr>\n",
       "    <tr>\n",
       "      <th>Fare</th>\n",
       "      <td>891.0</td>\n",
       "      <td>32.204208</td>\n",
       "      <td>49.693429</td>\n",
       "      <td>0.00</td>\n",
       "      <td>7.9104</td>\n",
       "      <td>14.4542</td>\n",
       "      <td>31.0</td>\n",
       "      <td>512.3292</td>\n",
       "    </tr>\n",
       "  </tbody>\n",
       "</table>\n",
       "</div>"
      ],
      "text/plain": [
       "             count        mean         std   min       25%       50%    75%  \\\n",
       "PassengerId  891.0  446.000000  257.353842  1.00  223.5000  446.0000  668.5   \n",
       "Survived     891.0    0.383838    0.486592  0.00    0.0000    0.0000    1.0   \n",
       "Pclass       891.0    2.308642    0.836071  1.00    2.0000    3.0000    3.0   \n",
       "Age          714.0   29.699118   14.526497  0.42   20.1250   28.0000   38.0   \n",
       "SibSp        891.0    0.523008    1.102743  0.00    0.0000    0.0000    1.0   \n",
       "Parch        891.0    0.381594    0.806057  0.00    0.0000    0.0000    0.0   \n",
       "Fare         891.0   32.204208   49.693429  0.00    7.9104   14.4542   31.0   \n",
       "\n",
       "                  max  \n",
       "PassengerId  891.0000  \n",
       "Survived       1.0000  \n",
       "Pclass         3.0000  \n",
       "Age           80.0000  \n",
       "SibSp          8.0000  \n",
       "Parch          6.0000  \n",
       "Fare         512.3292  "
      ]
     },
     "execution_count": 5,
     "metadata": {},
     "output_type": "execute_result"
    }
   ],
   "source": [
    "df_train.describe().transpose()"
   ]
  },
  {
   "cell_type": "markdown",
   "metadata": {
    "papermill": {
     "duration": 0.058024,
     "end_time": "2021-01-12T00:33:47.053702",
     "exception": false,
     "start_time": "2021-01-12T00:33:46.995678",
     "status": "completed"
    },
    "tags": []
   },
   "source": [
    "Realize that there's some missing values on the data, we have to handle with them. Also, 38.38% of passengers survived, so let's compare the survival rate with the others columns."
   ]
  },
  {
   "cell_type": "code",
   "execution_count": 6,
   "metadata": {
    "execution": {
     "iopub.execute_input": "2021-01-12T00:33:47.184727Z",
     "iopub.status.busy": "2021-01-12T00:33:47.183760Z",
     "iopub.status.idle": "2021-01-12T00:33:47.214395Z",
     "shell.execute_reply": "2021-01-12T00:33:47.213811Z"
    },
    "papermill": {
     "duration": 0.101845,
     "end_time": "2021-01-12T00:33:47.214524",
     "exception": false,
     "start_time": "2021-01-12T00:33:47.112679",
     "status": "completed"
    },
    "tags": []
   },
   "outputs": [
    {
     "data": {
      "text/plain": [
       "Pclass\n",
       "1    62.962963\n",
       "2    47.282609\n",
       "3    24.236253\n",
       "Name: Survived, dtype: float64"
      ]
     },
     "execution_count": 6,
     "metadata": {},
     "output_type": "execute_result"
    }
   ],
   "source": [
    "df_train.groupby('Pclass').mean()['Survived']*100"
   ]
  },
  {
   "cell_type": "markdown",
   "metadata": {
    "papermill": {
     "duration": 0.057443,
     "end_time": "2021-01-12T00:33:47.333315",
     "exception": false,
     "start_time": "2021-01-12T00:33:47.275872",
     "status": "completed"
    },
    "tags": []
   },
   "source": [
    "Notice that, the survival rate grow with de class of the passager. "
   ]
  },
  {
   "cell_type": "markdown",
   "metadata": {
    "papermill": {
     "duration": 0.057937,
     "end_time": "2021-01-12T00:33:47.449903",
     "exception": false,
     "start_time": "2021-01-12T00:33:47.391966",
     "status": "completed"
    },
    "tags": []
   },
   "source": [
    "Moreover, the data have some missing data values e we'll handle with them."
   ]
  },
  {
   "cell_type": "code",
   "execution_count": 7,
   "metadata": {
    "execution": {
     "iopub.execute_input": "2021-01-12T00:33:47.578892Z",
     "iopub.status.busy": "2021-01-12T00:33:47.578067Z",
     "iopub.status.idle": "2021-01-12T00:33:47.582629Z",
     "shell.execute_reply": "2021-01-12T00:33:47.582086Z"
    },
    "papermill": {
     "duration": 0.073387,
     "end_time": "2021-01-12T00:33:47.582759",
     "exception": false,
     "start_time": "2021-01-12T00:33:47.509372",
     "status": "completed"
    },
    "tags": []
   },
   "outputs": [
    {
     "data": {
      "text/plain": [
       "PassengerId      0\n",
       "Survived         0\n",
       "Pclass           0\n",
       "Name             0\n",
       "Sex              0\n",
       "Age            177\n",
       "SibSp            0\n",
       "Parch            0\n",
       "Ticket           0\n",
       "Fare             0\n",
       "Cabin          687\n",
       "Embarked         2\n",
       "dtype: int64"
      ]
     },
     "execution_count": 7,
     "metadata": {},
     "output_type": "execute_result"
    }
   ],
   "source": [
    "df_train.isna().sum()"
   ]
  },
  {
   "cell_type": "markdown",
   "metadata": {
    "papermill": {
     "duration": 0.06028,
     "end_time": "2021-01-12T00:33:47.702320",
     "exception": false,
     "start_time": "2021-01-12T00:33:47.642040",
     "status": "completed"
    },
    "tags": []
   },
   "source": [
    "The correlation is"
   ]
  },
  {
   "cell_type": "code",
   "execution_count": 8,
   "metadata": {
    "execution": {
     "iopub.execute_input": "2021-01-12T00:33:47.829864Z",
     "iopub.status.busy": "2021-01-12T00:33:47.828771Z",
     "iopub.status.idle": "2021-01-12T00:33:47.843055Z",
     "shell.execute_reply": "2021-01-12T00:33:47.843689Z"
    },
    "papermill": {
     "duration": 0.082104,
     "end_time": "2021-01-12T00:33:47.843834",
     "exception": false,
     "start_time": "2021-01-12T00:33:47.761730",
     "status": "completed"
    },
    "tags": []
   },
   "outputs": [
    {
     "data": {
      "text/html": [
       "<div>\n",
       "<style scoped>\n",
       "    .dataframe tbody tr th:only-of-type {\n",
       "        vertical-align: middle;\n",
       "    }\n",
       "\n",
       "    .dataframe tbody tr th {\n",
       "        vertical-align: top;\n",
       "    }\n",
       "\n",
       "    .dataframe thead th {\n",
       "        text-align: right;\n",
       "    }\n",
       "</style>\n",
       "<table border=\"1\" class=\"dataframe\">\n",
       "  <thead>\n",
       "    <tr style=\"text-align: right;\">\n",
       "      <th></th>\n",
       "      <th>PassengerId</th>\n",
       "      <th>Survived</th>\n",
       "      <th>Pclass</th>\n",
       "      <th>Age</th>\n",
       "      <th>SibSp</th>\n",
       "      <th>Parch</th>\n",
       "      <th>Fare</th>\n",
       "    </tr>\n",
       "  </thead>\n",
       "  <tbody>\n",
       "    <tr>\n",
       "      <th>PassengerId</th>\n",
       "      <td>1.000000</td>\n",
       "      <td>-0.005007</td>\n",
       "      <td>-0.035144</td>\n",
       "      <td>0.036847</td>\n",
       "      <td>-0.057527</td>\n",
       "      <td>-0.001652</td>\n",
       "      <td>0.012658</td>\n",
       "    </tr>\n",
       "    <tr>\n",
       "      <th>Survived</th>\n",
       "      <td>-0.005007</td>\n",
       "      <td>1.000000</td>\n",
       "      <td>-0.338481</td>\n",
       "      <td>-0.077221</td>\n",
       "      <td>-0.035322</td>\n",
       "      <td>0.081629</td>\n",
       "      <td>0.257307</td>\n",
       "    </tr>\n",
       "    <tr>\n",
       "      <th>Pclass</th>\n",
       "      <td>-0.035144</td>\n",
       "      <td>-0.338481</td>\n",
       "      <td>1.000000</td>\n",
       "      <td>-0.369226</td>\n",
       "      <td>0.083081</td>\n",
       "      <td>0.018443</td>\n",
       "      <td>-0.549500</td>\n",
       "    </tr>\n",
       "    <tr>\n",
       "      <th>Age</th>\n",
       "      <td>0.036847</td>\n",
       "      <td>-0.077221</td>\n",
       "      <td>-0.369226</td>\n",
       "      <td>1.000000</td>\n",
       "      <td>-0.308247</td>\n",
       "      <td>-0.189119</td>\n",
       "      <td>0.096067</td>\n",
       "    </tr>\n",
       "    <tr>\n",
       "      <th>SibSp</th>\n",
       "      <td>-0.057527</td>\n",
       "      <td>-0.035322</td>\n",
       "      <td>0.083081</td>\n",
       "      <td>-0.308247</td>\n",
       "      <td>1.000000</td>\n",
       "      <td>0.414838</td>\n",
       "      <td>0.159651</td>\n",
       "    </tr>\n",
       "    <tr>\n",
       "      <th>Parch</th>\n",
       "      <td>-0.001652</td>\n",
       "      <td>0.081629</td>\n",
       "      <td>0.018443</td>\n",
       "      <td>-0.189119</td>\n",
       "      <td>0.414838</td>\n",
       "      <td>1.000000</td>\n",
       "      <td>0.216225</td>\n",
       "    </tr>\n",
       "    <tr>\n",
       "      <th>Fare</th>\n",
       "      <td>0.012658</td>\n",
       "      <td>0.257307</td>\n",
       "      <td>-0.549500</td>\n",
       "      <td>0.096067</td>\n",
       "      <td>0.159651</td>\n",
       "      <td>0.216225</td>\n",
       "      <td>1.000000</td>\n",
       "    </tr>\n",
       "  </tbody>\n",
       "</table>\n",
       "</div>"
      ],
      "text/plain": [
       "             PassengerId  Survived    Pclass       Age     SibSp     Parch  \\\n",
       "PassengerId     1.000000 -0.005007 -0.035144  0.036847 -0.057527 -0.001652   \n",
       "Survived       -0.005007  1.000000 -0.338481 -0.077221 -0.035322  0.081629   \n",
       "Pclass         -0.035144 -0.338481  1.000000 -0.369226  0.083081  0.018443   \n",
       "Age             0.036847 -0.077221 -0.369226  1.000000 -0.308247 -0.189119   \n",
       "SibSp          -0.057527 -0.035322  0.083081 -0.308247  1.000000  0.414838   \n",
       "Parch          -0.001652  0.081629  0.018443 -0.189119  0.414838  1.000000   \n",
       "Fare            0.012658  0.257307 -0.549500  0.096067  0.159651  0.216225   \n",
       "\n",
       "                 Fare  \n",
       "PassengerId  0.012658  \n",
       "Survived     0.257307  \n",
       "Pclass      -0.549500  \n",
       "Age          0.096067  \n",
       "SibSp        0.159651  \n",
       "Parch        0.216225  \n",
       "Fare         1.000000  "
      ]
     },
     "execution_count": 8,
     "metadata": {},
     "output_type": "execute_result"
    }
   ],
   "source": [
    "df_train.corr()"
   ]
  },
  {
   "cell_type": "markdown",
   "metadata": {
    "papermill": {
     "duration": 0.061666,
     "end_time": "2021-01-12T00:33:47.964604",
     "exception": false,
     "start_time": "2021-01-12T00:33:47.902938",
     "status": "completed"
    },
    "tags": []
   },
   "source": [
    "But, this is hard to vizualize, then, let's see this using an heatmap plot from seaborn."
   ]
  },
  {
   "cell_type": "markdown",
   "metadata": {
    "papermill": {
     "duration": 0.059123,
     "end_time": "2021-01-12T00:33:48.086939",
     "exception": false,
     "start_time": "2021-01-12T00:33:48.027816",
     "status": "completed"
    },
    "tags": []
   },
   "source": [
    "## Ploting Data"
   ]
  },
  {
   "cell_type": "markdown",
   "metadata": {
    "papermill": {
     "duration": 0.059069,
     "end_time": "2021-01-12T00:33:48.204820",
     "exception": false,
     "start_time": "2021-01-12T00:33:48.145751",
     "status": "completed"
    },
    "tags": []
   },
   "source": [
    "Heatmap of correlation"
   ]
  },
  {
   "cell_type": "code",
   "execution_count": 9,
   "metadata": {
    "execution": {
     "iopub.execute_input": "2021-01-12T00:33:48.327024Z",
     "iopub.status.busy": "2021-01-12T00:33:48.325902Z",
     "iopub.status.idle": "2021-01-12T00:33:48.871579Z",
     "shell.execute_reply": "2021-01-12T00:33:48.870645Z"
    },
    "papermill": {
     "duration": 0.607905,
     "end_time": "2021-01-12T00:33:48.871706",
     "exception": false,
     "start_time": "2021-01-12T00:33:48.263801",
     "status": "completed"
    },
    "tags": []
   },
   "outputs": [
    {
     "data": {
      "image/png": "[encoded data removed]",
      "text/plain": [
       "<Figure size 1152x648 with 2 Axes>"
      ]
     },
     "metadata": {
      "needs_background": "light"
     },
     "output_type": "display_data"
    }
   ],
   "source": [
    "plt.figure(figsize=(16,9))\n",
    "sns.heatmap(df_train.corr(), annot=True, cmap='viridis')\n",
    "plt.show()"
   ]
  },
  {
   "cell_type": "markdown",
   "metadata": {
    "papermill": {
     "duration": 0.061399,
     "end_time": "2021-01-12T00:33:49.004074",
     "exception": false,
     "start_time": "2021-01-12T00:33:48.942675",
     "status": "completed"
    },
    "tags": []
   },
   "source": [
    "With this correlation map maybe:\n",
    "\n",
    "\n",
    "* Fare is inverse of Pclass, then passagers of low class paid less for the trip;\n",
    "* SibSp is proportional to Parch, this is expected;\n",
    "* Age is inversely proportional to class, maybe the upper class is more elderly than the lower, we'll se it below;\n",
    "* Pclass is inverse of Survived, this is alredy expected once the class 1 have 62.96% rate of survived;\n",
    "* Fare is proportional to Survived, maybe who paid more for the trip belong to class 1, thus have more chances to survive;"
   ]
  },
  {
   "cell_type": "markdown",
   "metadata": {
    "papermill": {
     "duration": 0.060668,
     "end_time": "2021-01-12T00:33:49.126092",
     "exception": false,
     "start_time": "2021-01-12T00:33:49.065424",
     "status": "completed"
    },
    "tags": []
   },
   "source": [
    "  Let's response these questions."
   ]
  },
  {
   "cell_type": "markdown",
   "metadata": {
    "papermill": {
     "duration": 0.061339,
     "end_time": "2021-01-12T00:33:49.248341",
     "exception": false,
     "start_time": "2021-01-12T00:33:49.187002",
     "status": "completed"
    },
    "tags": []
   },
   "source": [
    "* Fare is inverse of Pclass, then passagers of low class paid less for the trip;\n",
    "\n",
    "\n",
    "YES, as you can see, classes 2 and 3 paid less for the trip. Moreover, for the class 1 there's some peoples that paid over than 200."
   ]
  },
  {
   "cell_type": "code",
   "execution_count": 10,
   "metadata": {
    "execution": {
     "iopub.execute_input": "2021-01-12T00:33:49.374163Z",
     "iopub.status.busy": "2021-01-12T00:33:49.373140Z",
     "iopub.status.idle": "2021-01-12T00:33:49.550435Z",
     "shell.execute_reply": "2021-01-12T00:33:49.551035Z"
    },
    "papermill": {
     "duration": 0.242049,
     "end_time": "2021-01-12T00:33:49.551241",
     "exception": false,
     "start_time": "2021-01-12T00:33:49.309192",
     "status": "completed"
    },
    "tags": []
   },
   "outputs": [
    {
     "name": "stdout",
     "output_type": "stream",
     "text": [
      "Pclass\n",
      "1    84.154687\n",
      "2    20.662183\n",
      "3    13.675550\n",
      "Name: Fare, dtype: float64\n"
     ]
    },
    {
     "data": {
      "image/png": "[encoded data removed]",
      "text/plain": [
       "<Figure size 720x576 with 1 Axes>"
      ]
     },
     "metadata": {
      "needs_background": "light"
     },
     "output_type": "display_data"
    }
   ],
   "source": [
    "print(df_train.groupby('Pclass').mean()['Fare'])\n",
    "plt.figure(figsize=(10,8))\n",
    "sns.boxplot(x='Pclass', y='Fare', data=df_train)\n",
    "plt.title('Pclass x Fare')\n",
    "plt.show()"
   ]
  },
  {
   "cell_type": "markdown",
   "metadata": {
    "papermill": {
     "duration": 0.063397,
     "end_time": "2021-01-12T00:33:49.681203",
     "exception": false,
     "start_time": "2021-01-12T00:33:49.617806",
     "status": "completed"
    },
    "tags": []
   },
   "source": [
    "* SibSp is proportional to Parch, this is expected;\n"
   ]
  },
  {
   "cell_type": "code",
   "execution_count": 11,
   "metadata": {
    "execution": {
     "iopub.execute_input": "2021-01-12T00:33:49.822991Z",
     "iopub.status.busy": "2021-01-12T00:33:49.822139Z",
     "iopub.status.idle": "2021-01-12T00:33:50.250115Z",
     "shell.execute_reply": "2021-01-12T00:33:50.249420Z"
    },
    "papermill": {
     "duration": 0.498321,
     "end_time": "2021-01-12T00:33:50.250238",
     "exception": false,
     "start_time": "2021-01-12T00:33:49.751917",
     "status": "completed"
    },
    "tags": []
   },
   "outputs": [
    {
     "data": {
      "image/png": "[encoded data removed]",
      "text/plain": [
       "<Figure size 1152x648 with 1 Axes>"
      ]
     },
     "metadata": {
      "needs_background": "light"
     },
     "output_type": "display_data"
    }
   ],
   "source": [
    "plt.figure(figsize=(16,9))\n",
    "sns.barplot(x='SibSp', y='Parch', data=df_train)\n",
    "plt.title('SubSp x Parch')\n",
    "plt.show()"
   ]
  },
  {
   "cell_type": "markdown",
   "metadata": {
    "papermill": {
     "duration": 0.062354,
     "end_time": "2021-01-12T00:33:50.376373",
     "exception": false,
     "start_time": "2021-01-12T00:33:50.314019",
     "status": "completed"
    },
    "tags": []
   },
   "source": [
    "* Age is inversely proportional to class, maybe the upper class is more elderly than the lower, we'll se it below;\n",
    "\n",
    "\n",
    "Affirmative. As you can see, the age is inversely proportinal to class."
   ]
  },
  {
   "cell_type": "code",
   "execution_count": 12,
   "metadata": {
    "execution": {
     "iopub.execute_input": "2021-01-12T00:33:50.514202Z",
     "iopub.status.busy": "2021-01-12T00:33:50.513499Z",
     "iopub.status.idle": "2021-01-12T00:33:50.783706Z",
     "shell.execute_reply": "2021-01-12T00:33:50.783142Z"
    },
    "papermill": {
     "duration": 0.34202,
     "end_time": "2021-01-12T00:33:50.783825",
     "exception": false,
     "start_time": "2021-01-12T00:33:50.441805",
     "status": "completed"
    },
    "tags": []
   },
   "outputs": [
    {
     "name": "stdout",
     "output_type": "stream",
     "text": [
      "Pclass\n",
      "1    38.233441\n",
      "2    29.877630\n",
      "3    25.140620\n",
      "Name: Age, dtype: float64\n"
     ]
    },
    {
     "data": {
      "image/png": "[encoded data removed]",
      "text/plain": [
       "<Figure size 1152x648 with 1 Axes>"
      ]
     },
     "metadata": {
      "needs_background": "light"
     },
     "output_type": "display_data"
    }
   ],
   "source": [
    "print(df_train.groupby('Pclass').mean()['Age'])\n",
    "plt.figure(figsize=(16,9))\n",
    "sns.barplot(x='Pclass', y='Age', data=df_train)\n",
    "plt.title('Pclass x Age')\n",
    "plt.show()"
   ]
  },
  {
   "cell_type": "markdown",
   "metadata": {
    "papermill": {
     "duration": 0.064688,
     "end_time": "2021-01-12T00:33:50.913815",
     "exception": false,
     "start_time": "2021-01-12T00:33:50.849127",
     "status": "completed"
    },
    "tags": []
   },
   "source": [
    "Pclass is inverse of Survived, this is alredy expected once the class 1 have 62.96% rate of survived;\n",
    "\n",
    "As alredy expected."
   ]
  },
  {
   "cell_type": "code",
   "execution_count": 13,
   "metadata": {
    "execution": {
     "iopub.execute_input": "2021-01-12T00:33:51.056065Z",
     "iopub.status.busy": "2021-01-12T00:33:51.054978Z",
     "iopub.status.idle": "2021-01-12T00:33:51.439783Z",
     "shell.execute_reply": "2021-01-12T00:33:51.440305Z"
    },
    "papermill": {
     "duration": 0.461365,
     "end_time": "2021-01-12T00:33:51.440465",
     "exception": false,
     "start_time": "2021-01-12T00:33:50.979100",
     "status": "completed"
    },
    "tags": []
   },
   "outputs": [
    {
     "name": "stdout",
     "output_type": "stream",
     "text": [
      "Pclass\n",
      "1    0.629630\n",
      "2    0.472826\n",
      "3    0.242363\n",
      "Name: Survived, dtype: float64\n"
     ]
    },
    {
     "data": {
      "image/png": "[encoded data removed]",
      "text/plain": [
       "<Figure size 1152x648 with 1 Axes>"
      ]
     },
     "metadata": {
      "needs_background": "light"
     },
     "output_type": "display_data"
    }
   ],
   "source": [
    "print(df_train.groupby('Pclass').mean()['Survived'])\n",
    "plt.figure(figsize=(16,9))\n",
    "sns.barplot(x='Pclass', y='Survived', data=df_train)\n",
    "plt.title('Pclass x Survived')\n",
    "plt.show()"
   ]
  },
  {
   "cell_type": "markdown",
   "metadata": {
    "papermill": {
     "duration": 0.066563,
     "end_time": "2021-01-12T00:33:51.572729",
     "exception": false,
     "start_time": "2021-01-12T00:33:51.506166",
     "status": "completed"
    },
    "tags": []
   },
   "source": [
    "* Fare is proportional to Survived, maybe who paid more for the trip belong to class 1, thus have more chances to suvive;\n",
    "\n",
    "Again, yes. But, realize that the columns, Fare and Pclass have strong relationship with Survived. Thus, Who belongs to the upper class or paid more for the trip probably survived."
   ]
  },
  {
   "cell_type": "code",
   "execution_count": 14,
   "metadata": {
    "execution": {
     "iopub.execute_input": "2021-01-12T00:33:51.708678Z",
     "iopub.status.busy": "2021-01-12T00:33:51.707564Z",
     "iopub.status.idle": "2021-01-12T00:33:52.320722Z",
     "shell.execute_reply": "2021-01-12T00:33:52.320149Z"
    },
    "papermill": {
     "duration": 0.68251,
     "end_time": "2021-01-12T00:33:52.320846",
     "exception": false,
     "start_time": "2021-01-12T00:33:51.638336",
     "status": "completed"
    },
    "tags": []
   },
   "outputs": [
    {
     "name": "stdout",
     "output_type": "stream",
     "text": [
      "Pclass  Survived\n",
      "1       0           64.684008\n",
      "        1           95.608029\n",
      "2       0           19.412328\n",
      "        1           22.055700\n",
      "3       0           13.669364\n",
      "        1           13.694887\n",
      "Name: Fare, dtype: float64\n"
     ]
    },
    {
     "data": {
      "image/png": "[encoded data removed]",
      "text/plain": [
       "<Figure size 1440x360 with 3 Axes>"
      ]
     },
     "metadata": {
      "needs_background": "light"
     },
     "output_type": "display_data"
    }
   ],
   "source": [
    "print(df_train.groupby(['Pclass', 'Survived']).mean()['Fare'])\n",
    "sns.FacetGrid(df_train, col='Pclass', height=5, aspect=4/3).map(sns.barplot, 'Survived', 'Fare', order=[0, 1])\n",
    "plt.show()"
   ]
  },
  {
   "cell_type": "markdown",
   "metadata": {
    "papermill": {
     "duration": 0.068068,
     "end_time": "2021-01-12T00:33:52.456075",
     "exception": false,
     "start_time": "2021-01-12T00:33:52.388007",
     "status": "completed"
    },
    "tags": []
   },
   "source": [
    "They are very correlated, almost linear, that means that the feature importance is directly related to the outcome. Certainly Pclass and Fare have lot importance for predict who survived. Therefore, our model need to learn this."
   ]
  },
  {
   "cell_type": "code",
   "execution_count": 15,
   "metadata": {
    "execution": {
     "iopub.execute_input": "2021-01-12T00:33:52.608208Z",
     "iopub.status.busy": "2021-01-12T00:33:52.600723Z",
     "iopub.status.idle": "2021-01-12T00:33:52.805181Z",
     "shell.execute_reply": "2021-01-12T00:33:52.805918Z"
    },
    "papermill": {
     "duration": 0.282787,
     "end_time": "2021-01-12T00:33:52.806092",
     "exception": false,
     "start_time": "2021-01-12T00:33:52.523305",
     "status": "completed"
    },
    "tags": []
   },
   "outputs": [
    {
     "data": {
      "image/png": "[encoded data removed]",
      "text/plain": [
       "<Figure size 768x432 with 2 Axes>"
      ]
     },
     "metadata": {
      "needs_background": "light"
     },
     "output_type": "display_data"
    }
   ],
   "source": [
    "plt.figure(figsize=(16*(2/3),9*(2/3)))\n",
    "sns.heatmap(df_train[['Fare', 'Survived', 'Pclass']].corr(), cmap='viridis', annot=True)\n",
    "plt.title('Correlation: Fare x Survived x Pclass')\n",
    "plt.show()"
   ]
  },
  {
   "cell_type": "markdown",
   "metadata": {
    "papermill": {
     "duration": 0.068674,
     "end_time": "2021-01-12T00:33:52.942593",
     "exception": false,
     "start_time": "2021-01-12T00:33:52.873919",
     "status": "completed"
    },
    "tags": []
   },
   "source": [
    "Also, most of survived is woman (74.20%)."
   ]
  },
  {
   "cell_type": "code",
   "execution_count": 16,
   "metadata": {
    "execution": {
     "iopub.execute_input": "2021-01-12T00:33:53.100988Z",
     "iopub.status.busy": "2021-01-12T00:33:53.096855Z",
     "iopub.status.idle": "2021-01-12T00:33:53.270976Z",
     "shell.execute_reply": "2021-01-12T00:33:53.270165Z"
    },
    "papermill": {
     "duration": 0.257872,
     "end_time": "2021-01-12T00:33:53.271108",
     "exception": false,
     "start_time": "2021-01-12T00:33:53.013236",
     "status": "completed"
    },
    "tags": []
   },
   "outputs": [
    {
     "name": "stdout",
     "output_type": "stream",
     "text": [
      "         Survived\n",
      "Sex              \n",
      "female  74.203822\n",
      "male    18.890815\n"
     ]
    },
    {
     "data": {
      "image/png": "[encoded data removed]",
      "text/plain": [
       "<Figure size 1152x648 with 1 Axes>"
      ]
     },
     "metadata": {
      "needs_background": "light"
     },
     "output_type": "display_data"
    }
   ],
   "source": [
    "print(df_train.groupby('Sex').mean()[['Survived']]*100)\n",
    "plt.figure(figsize=(16,9))\n",
    "sns.countplot(x='Sex', hue='Survived', data=df_train, palette='viridis')\n",
    "plt.title('Count of Survive by Sex')\n",
    "plt.show()"
   ]
  },
  {
   "cell_type": "markdown",
   "metadata": {
    "papermill": {
     "duration": 0.072595,
     "end_time": "2021-01-12T00:33:53.415138",
     "exception": false,
     "start_time": "2021-01-12T00:33:53.342543",
     "status": "completed"
    },
    "tags": []
   },
   "source": [
    "## Treating Missing Values\n",
    "\n",
    "We have to handle with these missing values, let's see this again."
   ]
  },
  {
   "cell_type": "code",
   "execution_count": 17,
   "metadata": {
    "execution": {
     "iopub.execute_input": "2021-01-12T00:33:53.572987Z",
     "iopub.status.busy": "2021-01-12T00:33:53.569741Z",
     "iopub.status.idle": "2021-01-12T00:33:53.578958Z",
     "shell.execute_reply": "2021-01-12T00:33:53.579847Z"
    },
    "papermill": {
     "duration": 0.087357,
     "end_time": "2021-01-12T00:33:53.580099",
     "exception": false,
     "start_time": "2021-01-12T00:33:53.492742",
     "status": "completed"
    },
    "tags": []
   },
   "outputs": [
    {
     "name": "stdout",
     "output_type": "stream",
     "text": [
      "PassengerId      0\n",
      "Survived         0\n",
      "Pclass           0\n",
      "Name             0\n",
      "Sex              0\n",
      "Age            177\n",
      "SibSp            0\n",
      "Parch            0\n",
      "Ticket           0\n",
      "Fare             0\n",
      "Cabin          687\n",
      "Embarked         2\n",
      "dtype: int64 \n",
      "\n",
      " PassengerId      0\n",
      "Pclass           0\n",
      "Name             0\n",
      "Sex              0\n",
      "Age             86\n",
      "SibSp            0\n",
      "Parch            0\n",
      "Ticket           0\n",
      "Fare             1\n",
      "Cabin          327\n",
      "Embarked         0\n",
      "dtype: int64\n"
     ]
    }
   ],
   "source": [
    "print(df_train.isna().sum(),'\\n\\n',df_test.isna().sum())"
   ]
  },
  {
   "cell_type": "markdown",
   "metadata": {
    "papermill": {
     "duration": 0.073581,
     "end_time": "2021-01-12T00:33:53.728047",
     "exception": false,
     "start_time": "2021-01-12T00:33:53.654466",
     "status": "completed"
    },
    "tags": []
   },
   "source": [
    "Begin treating the column Embarked."
   ]
  },
  {
   "cell_type": "markdown",
   "metadata": {
    "papermill": {
     "duration": 0.069025,
     "end_time": "2021-01-12T00:33:53.870442",
     "exception": false,
     "start_time": "2021-01-12T00:33:53.801417",
     "status": "completed"
    },
    "tags": []
   },
   "source": [
    "Let's try to fit the NaN into a Embarked."
   ]
  },
  {
   "cell_type": "code",
   "execution_count": 18,
   "metadata": {
    "execution": {
     "iopub.execute_input": "2021-01-12T00:33:54.031570Z",
     "iopub.status.busy": "2021-01-12T00:33:54.030458Z",
     "iopub.status.idle": "2021-01-12T00:33:54.035072Z",
     "shell.execute_reply": "2021-01-12T00:33:54.034441Z"
    },
    "papermill": {
     "duration": 0.094041,
     "end_time": "2021-01-12T00:33:54.035201",
     "exception": false,
     "start_time": "2021-01-12T00:33:53.941160",
     "status": "completed"
    },
    "tags": []
   },
   "outputs": [
    {
     "data": {
      "text/html": [
       "<div>\n",
       "<style scoped>\n",
       "    .dataframe tbody tr th:only-of-type {\n",
       "        vertical-align: middle;\n",
       "    }\n",
       "\n",
       "    .dataframe tbody tr th {\n",
       "        vertical-align: top;\n",
       "    }\n",
       "\n",
       "    .dataframe thead th {\n",
       "        text-align: right;\n",
       "    }\n",
       "</style>\n",
       "<table border=\"1\" class=\"dataframe\">\n",
       "  <thead>\n",
       "    <tr style=\"text-align: right;\">\n",
       "      <th></th>\n",
       "      <th>PassengerId</th>\n",
       "      <th>Survived</th>\n",
       "      <th>Pclass</th>\n",
       "      <th>Name</th>\n",
       "      <th>Sex</th>\n",
       "      <th>Age</th>\n",
       "      <th>SibSp</th>\n",
       "      <th>Parch</th>\n",
       "      <th>Ticket</th>\n",
       "      <th>Fare</th>\n",
       "      <th>Cabin</th>\n",
       "      <th>Embarked</th>\n",
       "    </tr>\n",
       "  </thead>\n",
       "  <tbody>\n",
       "    <tr>\n",
       "      <th>61</th>\n",
       "      <td>62</td>\n",
       "      <td>1</td>\n",
       "      <td>1</td>\n",
       "      <td>Icard, Miss. Amelie</td>\n",
       "      <td>female</td>\n",
       "      <td>38.0</td>\n",
       "      <td>0</td>\n",
       "      <td>0</td>\n",
       "      <td>113572</td>\n",
       "      <td>80.0</td>\n",
       "      <td>B28</td>\n",
       "      <td>NaN</td>\n",
       "    </tr>\n",
       "    <tr>\n",
       "      <th>829</th>\n",
       "      <td>830</td>\n",
       "      <td>1</td>\n",
       "      <td>1</td>\n",
       "      <td>Stone, Mrs. George Nelson (Martha Evelyn)</td>\n",
       "      <td>female</td>\n",
       "      <td>62.0</td>\n",
       "      <td>0</td>\n",
       "      <td>0</td>\n",
       "      <td>113572</td>\n",
       "      <td>80.0</td>\n",
       "      <td>B28</td>\n",
       "      <td>NaN</td>\n",
       "    </tr>\n",
       "  </tbody>\n",
       "</table>\n",
       "</div>"
      ],
      "text/plain": [
       "     PassengerId  Survived  Pclass                                       Name  \\\n",
       "61            62         1       1                        Icard, Miss. Amelie   \n",
       "829          830         1       1  Stone, Mrs. George Nelson (Martha Evelyn)   \n",
       "\n",
       "        Sex   Age  SibSp  Parch  Ticket  Fare Cabin Embarked  \n",
       "61   female  38.0      0      0  113572  80.0   B28      NaN  \n",
       "829  female  62.0      0      0  113572  80.0   B28      NaN  "
      ]
     },
     "execution_count": 18,
     "metadata": {},
     "output_type": "execute_result"
    }
   ],
   "source": [
    "df_train[df_train['Embarked'].isna() == True]"
   ]
  },
  {
   "cell_type": "markdown",
   "metadata": {
    "papermill": {
     "duration": 0.070461,
     "end_time": "2021-01-12T00:33:54.175810",
     "exception": false,
     "start_time": "2021-01-12T00:33:54.105349",
     "status": "completed"
    },
    "tags": []
   },
   "source": [
    "Using a barplot to vizualize some columns. We can't label the missing data on 'S', 'C' or 'Q'. Let's try other way to do this."
   ]
  },
  {
   "cell_type": "code",
   "execution_count": 19,
   "metadata": {
    "execution": {
     "iopub.execute_input": "2021-01-12T00:33:54.340077Z",
     "iopub.status.busy": "2021-01-12T00:33:54.330109Z",
     "iopub.status.idle": "2021-01-12T00:33:55.782345Z",
     "shell.execute_reply": "2021-01-12T00:33:55.781667Z"
    },
    "papermill": {
     "duration": 1.533339,
     "end_time": "2021-01-12T00:33:55.782458",
     "exception": false,
     "start_time": "2021-01-12T00:33:54.249119",
     "status": "completed"
    },
    "tags": []
   },
   "outputs": [
    {
     "data": {
      "text/plain": [
       "<Figure size 1152x648 with 0 Axes>"
      ]
     },
     "metadata": {},
     "output_type": "display_data"
    },
    {
     "data": {
      "image/png": "[encoded data removed]",
      "text/plain": [
       "<Figure size 691.2x576 with 6 Axes>"
      ]
     },
     "metadata": {
      "needs_background": "light"
     },
     "output_type": "display_data"
    }
   ],
   "source": [
    "plt.figure(figsize=(16,9))\n",
    "sns.FacetGrid(df_train, col='Embarked', row='Sex', height=4, aspect=.8).map(sns.barplot, 'Pclass', 'Fare', order=[1, 2, 3])\n",
    "plt.show()"
   ]
  },
  {
   "cell_type": "markdown",
   "metadata": {
    "papermill": {
     "duration": 0.071489,
     "end_time": "2021-01-12T00:33:55.925579",
     "exception": false,
     "start_time": "2021-01-12T00:33:55.854090",
     "status": "completed"
    },
    "tags": []
   },
   "source": [
    "As you can see below, most of people who embark in the \"Q\" belong to class 3 and have paid 13.28 $\\pm$ 14.18, may the missing data not belong to \"Q\". But is not possible to go so far, then the missing data values will fit in Embarked \"S\", because this is more commom than Embarked \"C\"."
   ]
  },
  {
   "cell_type": "code",
   "execution_count": 20,
   "metadata": {
    "execution": {
     "iopub.execute_input": "2021-01-12T00:33:56.086788Z",
     "iopub.status.busy": "2021-01-12T00:33:56.080232Z",
     "iopub.status.idle": "2021-01-12T00:33:56.117259Z",
     "shell.execute_reply": "2021-01-12T00:33:56.117769Z"
    },
    "papermill": {
     "duration": 0.120221,
     "end_time": "2021-01-12T00:33:56.117921",
     "exception": false,
     "start_time": "2021-01-12T00:33:55.997700",
     "status": "completed"
    },
    "tags": []
   },
   "outputs": [
    {
     "data": {
      "text/html": [
       "<div>\n",
       "<style scoped>\n",
       "    .dataframe tbody tr th:only-of-type {\n",
       "        vertical-align: middle;\n",
       "    }\n",
       "\n",
       "    .dataframe tbody tr th {\n",
       "        vertical-align: top;\n",
       "    }\n",
       "\n",
       "    .dataframe thead tr th {\n",
       "        text-align: left;\n",
       "    }\n",
       "\n",
       "    .dataframe thead tr:last-of-type th {\n",
       "        text-align: right;\n",
       "    }\n",
       "</style>\n",
       "<table border=\"1\" class=\"dataframe\">\n",
       "  <thead>\n",
       "    <tr>\n",
       "      <th></th>\n",
       "      <th colspan=\"2\" halign=\"left\">Survived</th>\n",
       "      <th colspan=\"2\" halign=\"left\">Pclass</th>\n",
       "      <th colspan=\"2\" halign=\"left\">Age</th>\n",
       "      <th colspan=\"2\" halign=\"left\">SibSp</th>\n",
       "      <th colspan=\"2\" halign=\"left\">Parch</th>\n",
       "      <th colspan=\"2\" halign=\"left\">Fare</th>\n",
       "    </tr>\n",
       "    <tr>\n",
       "      <th></th>\n",
       "      <th>mean</th>\n",
       "      <th>std</th>\n",
       "      <th>mean</th>\n",
       "      <th>std</th>\n",
       "      <th>mean</th>\n",
       "      <th>std</th>\n",
       "      <th>mean</th>\n",
       "      <th>std</th>\n",
       "      <th>mean</th>\n",
       "      <th>std</th>\n",
       "      <th>mean</th>\n",
       "      <th>std</th>\n",
       "    </tr>\n",
       "    <tr>\n",
       "      <th>Embarked</th>\n",
       "      <th></th>\n",
       "      <th></th>\n",
       "      <th></th>\n",
       "      <th></th>\n",
       "      <th></th>\n",
       "      <th></th>\n",
       "      <th></th>\n",
       "      <th></th>\n",
       "      <th></th>\n",
       "      <th></th>\n",
       "      <th></th>\n",
       "      <th></th>\n",
       "    </tr>\n",
       "  </thead>\n",
       "  <tbody>\n",
       "    <tr>\n",
       "      <th>C</th>\n",
       "      <td>0.553571</td>\n",
       "      <td>0.498608</td>\n",
       "      <td>1.886905</td>\n",
       "      <td>0.944100</td>\n",
       "      <td>30.814769</td>\n",
       "      <td>15.434860</td>\n",
       "      <td>0.386905</td>\n",
       "      <td>0.557213</td>\n",
       "      <td>0.363095</td>\n",
       "      <td>0.660481</td>\n",
       "      <td>59.954144</td>\n",
       "      <td>83.912994</td>\n",
       "    </tr>\n",
       "    <tr>\n",
       "      <th>Q</th>\n",
       "      <td>0.389610</td>\n",
       "      <td>0.490860</td>\n",
       "      <td>2.909091</td>\n",
       "      <td>0.369274</td>\n",
       "      <td>28.089286</td>\n",
       "      <td>16.915396</td>\n",
       "      <td>0.428571</td>\n",
       "      <td>0.979105</td>\n",
       "      <td>0.168831</td>\n",
       "      <td>0.656999</td>\n",
       "      <td>13.276030</td>\n",
       "      <td>14.188047</td>\n",
       "    </tr>\n",
       "    <tr>\n",
       "      <th>S</th>\n",
       "      <td>0.336957</td>\n",
       "      <td>0.473037</td>\n",
       "      <td>2.350932</td>\n",
       "      <td>0.789402</td>\n",
       "      <td>29.445397</td>\n",
       "      <td>14.143192</td>\n",
       "      <td>0.571429</td>\n",
       "      <td>1.216600</td>\n",
       "      <td>0.413043</td>\n",
       "      <td>0.853253</td>\n",
       "      <td>27.079812</td>\n",
       "      <td>35.887993</td>\n",
       "    </tr>\n",
       "  </tbody>\n",
       "</table>\n",
       "</div>"
      ],
      "text/plain": [
       "          Survived              Pclass                  Age             \\\n",
       "              mean       std      mean       std       mean        std   \n",
       "Embarked                                                                 \n",
       "C         0.553571  0.498608  1.886905  0.944100  30.814769  15.434860   \n",
       "Q         0.389610  0.490860  2.909091  0.369274  28.089286  16.915396   \n",
       "S         0.336957  0.473037  2.350932  0.789402  29.445397  14.143192   \n",
       "\n",
       "             SibSp               Parch                 Fare             \n",
       "              mean       std      mean       std       mean        std  \n",
       "Embarked                                                                \n",
       "C         0.386905  0.557213  0.363095  0.660481  59.954144  83.912994  \n",
       "Q         0.428571  0.979105  0.168831  0.656999  13.276030  14.188047  \n",
       "S         0.571429  1.216600  0.413043  0.853253  27.079812  35.887993  "
      ]
     },
     "execution_count": 20,
     "metadata": {},
     "output_type": "execute_result"
    }
   ],
   "source": [
    "df_train.groupby('Embarked').agg(['mean', 'std']).drop('PassengerId', axis=1)"
   ]
  },
  {
   "cell_type": "code",
   "execution_count": 21,
   "metadata": {
    "execution": {
     "iopub.execute_input": "2021-01-12T00:33:56.276190Z",
     "iopub.status.busy": "2021-01-12T00:33:56.275160Z",
     "iopub.status.idle": "2021-01-12T00:33:56.279202Z",
     "shell.execute_reply": "2021-01-12T00:33:56.278610Z"
    },
    "papermill": {
     "duration": 0.08799,
     "end_time": "2021-01-12T00:33:56.279327",
     "exception": false,
     "start_time": "2021-01-12T00:33:56.191337",
     "status": "completed"
    },
    "tags": []
   },
   "outputs": [],
   "source": [
    "#For train data\n",
    "df_train['Embarked'] = df_train['Embarked'].fillna(value='S')\n",
    "\n",
    "#For test data\n",
    "df_test['Embarked'] = df_test['Embarked'].fillna(value='S')"
   ]
  },
  {
   "cell_type": "markdown",
   "metadata": {
    "papermill": {
     "duration": 0.07182,
     "end_time": "2021-01-12T00:33:56.424354",
     "exception": false,
     "start_time": "2021-01-12T00:33:56.352534",
     "status": "completed"
    },
    "tags": []
   },
   "source": [
    "Then, apply get_dummies to separete the Embarked colum."
   ]
  },
  {
   "cell_type": "code",
   "execution_count": 22,
   "metadata": {
    "execution": {
     "iopub.execute_input": "2021-01-12T00:33:56.619885Z",
     "iopub.status.busy": "2021-01-12T00:33:56.613793Z",
     "iopub.status.idle": "2021-01-12T00:33:56.627533Z",
     "shell.execute_reply": "2021-01-12T00:33:56.626938Z"
    },
    "papermill": {
     "duration": 0.115365,
     "end_time": "2021-01-12T00:33:56.627658",
     "exception": false,
     "start_time": "2021-01-12T00:33:56.512293",
     "status": "completed"
    },
    "tags": []
   },
   "outputs": [],
   "source": [
    "df_train = pd.get_dummies(df_train, columns=['Embarked'], drop_first=True)\n",
    "df_test = pd.get_dummies(df_test, columns=['Embarked'], drop_first=True)"
   ]
  },
  {
   "cell_type": "markdown",
   "metadata": {
    "papermill": {
     "duration": 0.074039,
     "end_time": "2021-01-12T00:33:56.776220",
     "exception": false,
     "start_time": "2021-01-12T00:33:56.702181",
     "status": "completed"
    },
    "tags": []
   },
   "source": [
    "Now, let's handle with Cabin column. Couting the NaN data."
   ]
  },
  {
   "cell_type": "code",
   "execution_count": 23,
   "metadata": {
    "execution": {
     "iopub.execute_input": "2021-01-12T00:33:56.929906Z",
     "iopub.status.busy": "2021-01-12T00:33:56.928833Z",
     "iopub.status.idle": "2021-01-12T00:33:56.932825Z",
     "shell.execute_reply": "2021-01-12T00:33:56.933371Z"
    },
    "papermill": {
     "duration": 0.084623,
     "end_time": "2021-01-12T00:33:56.933544",
     "exception": false,
     "start_time": "2021-01-12T00:33:56.848921",
     "status": "completed"
    },
    "tags": []
   },
   "outputs": [
    {
     "data": {
      "text/plain": [
       "687"
      ]
     },
     "execution_count": 23,
     "metadata": {},
     "output_type": "execute_result"
    }
   ],
   "source": [
    "df_train.Cabin.isna().sum()"
   ]
  },
  {
   "cell_type": "markdown",
   "metadata": {
    "papermill": {
     "duration": 0.074175,
     "end_time": "2021-01-12T00:33:57.081112",
     "exception": false,
     "start_time": "2021-01-12T00:33:57.006937",
     "status": "completed"
    },
    "tags": []
   },
   "source": [
    "There's some repeated values."
   ]
  },
  {
   "cell_type": "code",
   "execution_count": 24,
   "metadata": {
    "execution": {
     "iopub.execute_input": "2021-01-12T00:33:57.243902Z",
     "iopub.status.busy": "2021-01-12T00:33:57.242832Z",
     "iopub.status.idle": "2021-01-12T00:33:57.248576Z",
     "shell.execute_reply": "2021-01-12T00:33:57.247900Z"
    },
    "papermill": {
     "duration": 0.092786,
     "end_time": "2021-01-12T00:33:57.248690",
     "exception": false,
     "start_time": "2021-01-12T00:33:57.155904",
     "status": "completed"
    },
    "tags": []
   },
   "outputs": [
    {
     "data": {
      "text/plain": [
       "G6             4\n",
       "C23 C25 C27    4\n",
       "B96 B98        4\n",
       "F33            3\n",
       "D              3\n",
       "              ..\n",
       "A6             1\n",
       "B80            1\n",
       "A5             1\n",
       "E63            1\n",
       "D28            1\n",
       "Name: Cabin, Length: 147, dtype: int64"
      ]
     },
     "execution_count": 24,
     "metadata": {},
     "output_type": "execute_result"
    }
   ],
   "source": [
    "df_train.Cabin.value_counts()"
   ]
  },
  {
   "cell_type": "markdown",
   "metadata": {
    "papermill": {
     "duration": 0.073643,
     "end_time": "2021-01-12T00:33:57.398425",
     "exception": false,
     "start_time": "2021-01-12T00:33:57.324782",
     "status": "completed"
    },
    "tags": []
   },
   "source": [
    "As you can see 77.10% of da Cabin column is missing data and apparently there's no relationship between this column and the Survived, so let's just drop it."
   ]
  },
  {
   "cell_type": "code",
   "execution_count": 25,
   "metadata": {
    "execution": {
     "iopub.execute_input": "2021-01-12T00:33:57.570462Z",
     "iopub.status.busy": "2021-01-12T00:33:57.569533Z",
     "iopub.status.idle": "2021-01-12T00:33:57.574725Z",
     "shell.execute_reply": "2021-01-12T00:33:57.574141Z"
    },
    "papermill": {
     "duration": 0.087454,
     "end_time": "2021-01-12T00:33:57.574841",
     "exception": false,
     "start_time": "2021-01-12T00:33:57.487387",
     "status": "completed"
    },
    "tags": []
   },
   "outputs": [
    {
     "data": {
      "text/plain": [
       "77.10437710437711"
      ]
     },
     "execution_count": 25,
     "metadata": {},
     "output_type": "execute_result"
    }
   ],
   "source": [
    "df_train.Cabin.isna().sum() / len(df_train.Cabin) * 100"
   ]
  },
  {
   "cell_type": "markdown",
   "metadata": {
    "papermill": {
     "duration": 0.07586,
     "end_time": "2021-01-12T00:33:57.726157",
     "exception": false,
     "start_time": "2021-01-12T00:33:57.650297",
     "status": "completed"
    },
    "tags": []
   },
   "source": [
    "Then, we drop this for train and test data."
   ]
  },
  {
   "cell_type": "code",
   "execution_count": 26,
   "metadata": {
    "execution": {
     "iopub.execute_input": "2021-01-12T00:33:57.880947Z",
     "iopub.status.busy": "2021-01-12T00:33:57.880262Z",
     "iopub.status.idle": "2021-01-12T00:33:57.886096Z",
     "shell.execute_reply": "2021-01-12T00:33:57.886608Z"
    },
    "papermill": {
     "duration": 0.086212,
     "end_time": "2021-01-12T00:33:57.886769",
     "exception": false,
     "start_time": "2021-01-12T00:33:57.800557",
     "status": "completed"
    },
    "tags": []
   },
   "outputs": [],
   "source": [
    "#For train and test data\n",
    "df_train = df_train.drop('Cabin', axis=1)\n",
    "df_test = df_test.drop('Cabin', axis=1)"
   ]
  },
  {
   "cell_type": "markdown",
   "metadata": {
    "papermill": {
     "duration": 0.074103,
     "end_time": "2021-01-12T00:33:58.036806",
     "exception": false,
     "start_time": "2021-01-12T00:33:57.962703",
     "status": "completed"
    },
    "tags": []
   },
   "source": [
    "Now, we treating the colum Sex using get_dummies."
   ]
  },
  {
   "cell_type": "code",
   "execution_count": 27,
   "metadata": {
    "execution": {
     "iopub.execute_input": "2021-01-12T00:33:58.190684Z",
     "iopub.status.busy": "2021-01-12T00:33:58.189994Z",
     "iopub.status.idle": "2021-01-12T00:33:58.205174Z",
     "shell.execute_reply": "2021-01-12T00:33:58.204612Z"
    },
    "papermill": {
     "duration": 0.093111,
     "end_time": "2021-01-12T00:33:58.205295",
     "exception": false,
     "start_time": "2021-01-12T00:33:58.112184",
     "status": "completed"
    },
    "tags": []
   },
   "outputs": [],
   "source": [
    "#for train data\n",
    "df_train = pd.get_dummies(df_train, columns=['Sex'], drop_first=True)\n",
    "\n",
    "#for test data\n",
    "df_test = pd.get_dummies(df_test, columns=['Sex'], drop_first=True)"
   ]
  },
  {
   "cell_type": "markdown",
   "metadata": {
    "papermill": {
     "duration": 0.07382,
     "end_time": "2021-01-12T00:33:58.353195",
     "exception": false,
     "start_time": "2021-01-12T00:33:58.279375",
     "status": "completed"
    },
    "tags": []
   },
   "source": [
    "At leats, let's handle with Age missing data.\n",
    "\n",
    "Highest class is more elders."
   ]
  },
  {
   "cell_type": "code",
   "execution_count": 28,
   "metadata": {
    "execution": {
     "iopub.execute_input": "2021-01-12T00:33:58.504668Z",
     "iopub.status.busy": "2021-01-12T00:33:58.503966Z",
     "iopub.status.idle": "2021-01-12T00:33:58.696846Z",
     "shell.execute_reply": "2021-01-12T00:33:58.697756Z"
    },
    "papermill": {
     "duration": 0.270814,
     "end_time": "2021-01-12T00:33:58.697977",
     "exception": false,
     "start_time": "2021-01-12T00:33:58.427163",
     "status": "completed"
    },
    "tags": []
   },
   "outputs": [
    {
     "data": {
      "image/png": "[encoded data removed]",
      "text/plain": [
       "<Figure size 1152x648 with 1 Axes>"
      ]
     },
     "metadata": {
      "needs_background": "light"
     },
     "output_type": "display_data"
    }
   ],
   "source": [
    "plt.figure(figsize=(16,9))\n",
    "sns.boxplot(x='Pclass', y='Age', data=df_train)\n",
    "plt.title('Pclass x Age')\n",
    "plt.show()"
   ]
  },
  {
   "cell_type": "markdown",
   "metadata": {
    "papermill": {
     "duration": 0.076884,
     "end_time": "2021-01-12T00:33:58.860004",
     "exception": false,
     "start_time": "2021-01-12T00:33:58.783120",
     "status": "completed"
    },
    "tags": []
   },
   "source": [
    "To solve missing data problem, let's build up a regression model using Keras from Tensorflow."
   ]
  },
  {
   "cell_type": "markdown",
   "metadata": {
    "papermill": {
     "duration": 0.075288,
     "end_time": "2021-01-12T00:33:59.010842",
     "exception": false,
     "start_time": "2021-01-12T00:33:58.935554",
     "status": "completed"
    },
    "tags": []
   },
   "source": [
    "But before drop columns of string type."
   ]
  },
  {
   "cell_type": "code",
   "execution_count": 29,
   "metadata": {
    "execution": {
     "iopub.execute_input": "2021-01-12T00:33:59.170951Z",
     "iopub.status.busy": "2021-01-12T00:33:59.170240Z",
     "iopub.status.idle": "2021-01-12T00:33:59.177256Z",
     "shell.execute_reply": "2021-01-12T00:33:59.176648Z"
    },
    "papermill": {
     "duration": 0.08857,
     "end_time": "2021-01-12T00:33:59.177368",
     "exception": false,
     "start_time": "2021-01-12T00:33:59.088798",
     "status": "completed"
    },
    "tags": []
   },
   "outputs": [],
   "source": [
    "df_train = df_train.drop(['PassengerId', 'Name', 'Ticket'], axis=1)\n",
    "df_test = df_test.drop(['PassengerId', 'Name', 'Ticket'], axis=1)"
   ]
  },
  {
   "cell_type": "code",
   "execution_count": 30,
   "metadata": {
    "execution": {
     "iopub.execute_input": "2021-01-12T00:33:59.332886Z",
     "iopub.status.busy": "2021-01-12T00:33:59.332173Z",
     "iopub.status.idle": "2021-01-12T00:34:00.554148Z",
     "shell.execute_reply": "2021-01-12T00:34:00.553633Z"
    },
    "papermill": {
     "duration": 1.301538,
     "end_time": "2021-01-12T00:34:00.554267",
     "exception": false,
     "start_time": "2021-01-12T00:33:59.252729",
     "status": "completed"
    },
    "tags": []
   },
   "outputs": [
    {
     "data": {
      "text/plain": [
       "array([[<matplotlib.axes._subplots.AxesSubplot object at 0x7f6c7ab09050>,\n",
       "        <matplotlib.axes._subplots.AxesSubplot object at 0x7f6c77b26410>,\n",
       "        <matplotlib.axes._subplots.AxesSubplot object at 0x7f6c77adda90>],\n",
       "       [<matplotlib.axes._subplots.AxesSubplot object at 0x7f6c77a9d150>,\n",
       "        <matplotlib.axes._subplots.AxesSubplot object at 0x7f6c77a587d0>,\n",
       "        <matplotlib.axes._subplots.AxesSubplot object at 0x7f6c77a8ce50>],\n",
       "       [<matplotlib.axes._subplots.AxesSubplot object at 0x7f6c77a4e510>,\n",
       "        <matplotlib.axes._subplots.AxesSubplot object at 0x7f6c77a07ad0>,\n",
       "        <matplotlib.axes._subplots.AxesSubplot object at 0x7f6c77998e90>]],\n",
       "      dtype=object)"
      ]
     },
     "execution_count": 30,
     "metadata": {},
     "output_type": "execute_result"
    },
    {
     "data": {
      "image/png": "[encoded data removed]",
      "text/plain": [
       "<Figure size 432x288 with 9 Axes>"
      ]
     },
     "metadata": {
      "needs_background": "light"
     },
     "output_type": "display_data"
    }
   ],
   "source": [
    "df_train.hist()"
   ]
  },
  {
   "cell_type": "code",
   "execution_count": 31,
   "metadata": {
    "execution": {
     "iopub.execute_input": "2021-01-12T00:34:00.712680Z",
     "iopub.status.busy": "2021-01-12T00:34:00.711758Z",
     "iopub.status.idle": "2021-01-12T00:34:00.858751Z",
     "shell.execute_reply": "2021-01-12T00:34:00.857882Z"
    },
    "papermill": {
     "duration": 0.228222,
     "end_time": "2021-01-12T00:34:00.858876",
     "exception": false,
     "start_time": "2021-01-12T00:34:00.630654",
     "status": "completed"
    },
    "tags": []
   },
   "outputs": [],
   "source": [
    "from sklearn.model_selection import train_test_split\n",
    "from sklearn.preprocessing import MinMaxScaler"
   ]
  },
  {
   "cell_type": "markdown",
   "metadata": {
    "papermill": {
     "duration": 0.077761,
     "end_time": "2021-01-12T00:34:01.014399",
     "exception": false,
     "start_time": "2021-01-12T00:34:00.936638",
     "status": "completed"
    },
    "tags": []
   },
   "source": [
    "Use Normalizer to normalize data, this bring all variable to same range [0,1]."
   ]
  },
  {
   "cell_type": "code",
   "execution_count": 32,
   "metadata": {
    "execution": {
     "iopub.execute_input": "2021-01-12T00:34:01.177269Z",
     "iopub.status.busy": "2021-01-12T00:34:01.176517Z",
     "iopub.status.idle": "2021-01-12T00:34:01.178552Z",
     "shell.execute_reply": "2021-01-12T00:34:01.179173Z"
    },
    "papermill": {
     "duration": 0.087604,
     "end_time": "2021-01-12T00:34:01.179314",
     "exception": false,
     "start_time": "2021-01-12T00:34:01.091710",
     "status": "completed"
    },
    "tags": []
   },
   "outputs": [],
   "source": [
    "norm = MinMaxScaler()"
   ]
  },
  {
   "cell_type": "markdown",
   "metadata": {
    "papermill": {
     "duration": 0.076924,
     "end_time": "2021-01-12T00:34:01.337359",
     "exception": false,
     "start_time": "2021-01-12T00:34:01.260435",
     "status": "completed"
    },
    "tags": []
   },
   "source": [
    "We use the train DataFrame with not missing data to do regression, then we apply it on de missing values of train and test DataFrame."
   ]
  },
  {
   "cell_type": "code",
   "execution_count": 33,
   "metadata": {
    "execution": {
     "iopub.execute_input": "2021-01-12T00:34:01.521001Z",
     "iopub.status.busy": "2021-01-12T00:34:01.519948Z",
     "iopub.status.idle": "2021-01-12T00:34:01.531348Z",
     "shell.execute_reply": "2021-01-12T00:34:01.532208Z"
    },
    "papermill": {
     "duration": 0.108876,
     "end_time": "2021-01-12T00:34:01.532450",
     "exception": false,
     "start_time": "2021-01-12T00:34:01.423574",
     "status": "completed"
    },
    "tags": []
   },
   "outputs": [],
   "source": [
    "df_train_notna = df_train[df_train['Age'].notna() == True].drop(['Survived'], axis=1)\n",
    "\n",
    "df_X = df_train_notna.drop(['Age'], axis=1)\n",
    "df_y = df_train_notna['Age']"
   ]
  },
  {
   "cell_type": "markdown",
   "metadata": {
    "papermill": {
     "duration": 0.101283,
     "end_time": "2021-01-12T00:34:01.717977",
     "exception": false,
     "start_time": "2021-01-12T00:34:01.616694",
     "status": "completed"
    },
    "tags": []
   },
   "source": [
    "Split the data into train data and test data."
   ]
  },
  {
   "cell_type": "code",
   "execution_count": 34,
   "metadata": {
    "execution": {
     "iopub.execute_input": "2021-01-12T00:34:01.880031Z",
     "iopub.status.busy": "2021-01-12T00:34:01.879297Z",
     "iopub.status.idle": "2021-01-12T00:34:01.888501Z",
     "shell.execute_reply": "2021-01-12T00:34:01.889113Z"
    },
    "papermill": {
     "duration": 0.092011,
     "end_time": "2021-01-12T00:34:01.889275",
     "exception": false,
     "start_time": "2021-01-12T00:34:01.797264",
     "status": "completed"
    },
    "tags": []
   },
   "outputs": [],
   "source": [
    "X_train, X_test, y_train, y_test = train_test_split(df_X, df_y, test_size=0.2, random_state=72)"
   ]
  },
  {
   "cell_type": "markdown",
   "metadata": {
    "papermill": {
     "duration": 0.080407,
     "end_time": "2021-01-12T00:34:02.051249",
     "exception": false,
     "start_time": "2021-01-12T00:34:01.970842",
     "status": "completed"
    },
    "tags": []
   },
   "source": [
    "Apply normalization into X_train and X_test."
   ]
  },
  {
   "cell_type": "code",
   "execution_count": 35,
   "metadata": {
    "execution": {
     "iopub.execute_input": "2021-01-12T00:34:02.217149Z",
     "iopub.status.busy": "2021-01-12T00:34:02.216470Z",
     "iopub.status.idle": "2021-01-12T00:34:02.227380Z",
     "shell.execute_reply": "2021-01-12T00:34:02.227986Z"
    },
    "papermill": {
     "duration": 0.096039,
     "end_time": "2021-01-12T00:34:02.228148",
     "exception": false,
     "start_time": "2021-01-12T00:34:02.132109",
     "status": "completed"
    },
    "tags": []
   },
   "outputs": [],
   "source": [
    "norm.fit(X_train)\n",
    "X_train = norm.transform(X_train)\n",
    "X_test = norm.transform(X_test)"
   ]
  },
  {
   "cell_type": "markdown",
   "metadata": {
    "papermill": {
     "duration": 0.077684,
     "end_time": "2021-01-12T00:34:02.384355",
     "exception": false,
     "start_time": "2021-01-12T00:34:02.306671",
     "status": "completed"
    },
    "tags": []
   },
   "source": [
    "Import TensorFlow, for training a deep neural networks to predict the age."
   ]
  },
  {
   "cell_type": "code",
   "execution_count": 36,
   "metadata": {
    "execution": {
     "iopub.execute_input": "2021-01-12T00:34:02.544947Z",
     "iopub.status.busy": "2021-01-12T00:34:02.544216Z",
     "iopub.status.idle": "2021-01-12T00:34:09.109771Z",
     "shell.execute_reply": "2021-01-12T00:34:09.109206Z"
    },
    "papermill": {
     "duration": 6.647593,
     "end_time": "2021-01-12T00:34:09.109895",
     "exception": false,
     "start_time": "2021-01-12T00:34:02.462302",
     "status": "completed"
    },
    "tags": []
   },
   "outputs": [],
   "source": [
    "import tensorflow as tf"
   ]
  },
  {
   "cell_type": "code",
   "execution_count": 37,
   "metadata": {
    "execution": {
     "iopub.execute_input": "2021-01-12T00:34:09.276230Z",
     "iopub.status.busy": "2021-01-12T00:34:09.275527Z",
     "iopub.status.idle": "2021-01-12T00:34:09.472993Z",
     "shell.execute_reply": "2021-01-12T00:34:09.472315Z"
    },
    "papermill": {
     "duration": 0.284369,
     "end_time": "2021-01-12T00:34:09.473120",
     "exception": false,
     "start_time": "2021-01-12T00:34:09.188751",
     "status": "completed"
    },
    "tags": []
   },
   "outputs": [],
   "source": [
    "model = tf.keras.models.Sequential([\n",
    "    tf.keras.layers.Dense(10, activation='relu', input_shape=[7]),\n",
    "    #This sequential begin with 10 neurons, the activation is ReLu and the input shape is the number of columns of our training dataset.\n",
    "    \n",
    "    tf.keras.layers.BatchNormalization(),\n",
    "    #Batch normalization applies a transformation that maintains the mean output close to 0 and the output standard deviation close to 1.\n",
    "    \n",
    "    tf.keras.layers.Dense(15, activation='relu'),\n",
    "    #Add 15 neurons using ReLu as activation function\n",
    "    \n",
    "    tf.keras.layers.Dense(1)\n",
    "    #The output must be 1 label for a regression model\n",
    "])"
   ]
  },
  {
   "cell_type": "markdown",
   "metadata": {
    "papermill": {
     "duration": 0.077154,
     "end_time": "2021-01-12T00:34:09.628422",
     "exception": false,
     "start_time": "2021-01-12T00:34:09.551268",
     "status": "completed"
    },
    "tags": []
   },
   "source": [
    "A summary of our model."
   ]
  },
  {
   "cell_type": "code",
   "execution_count": 38,
   "metadata": {
    "execution": {
     "iopub.execute_input": "2021-01-12T00:34:09.794242Z",
     "iopub.status.busy": "2021-01-12T00:34:09.793455Z",
     "iopub.status.idle": "2021-01-12T00:34:09.800029Z",
     "shell.execute_reply": "2021-01-12T00:34:09.800597Z"
    },
    "papermill": {
     "duration": 0.094733,
     "end_time": "2021-01-12T00:34:09.800757",
     "exception": false,
     "start_time": "2021-01-12T00:34:09.706024",
     "status": "completed"
    },
    "tags": []
   },
   "outputs": [
    {
     "name": "stdout",
     "output_type": "stream",
     "text": [
      "Model: \"sequential\"\n",
      "_________________________________________________________________\n",
      "Layer (type)                 Output Shape              Param #   \n",
      "=================================================================\n",
      "dense (Dense)                (None, 10)                80        \n",
      "_________________________________________________________________\n",
      "batch_normalization (BatchNo (None, 10)                40        \n",
      "_________________________________________________________________\n",
      "dense_1 (Dense)              (None, 15)                165       \n",
      "_________________________________________________________________\n",
      "dense_2 (Dense)              (None, 1)                 16        \n",
      "=================================================================\n",
      "Total params: 301\n",
      "Trainable params: 281\n",
      "Non-trainable params: 20\n",
      "_________________________________________________________________\n"
     ]
    }
   ],
   "source": [
    "model.summary()"
   ]
  },
  {
   "cell_type": "markdown",
   "metadata": {
    "papermill": {
     "duration": 0.08049,
     "end_time": "2021-01-12T00:34:09.960371",
     "exception": false,
     "start_time": "2021-01-12T00:34:09.879881",
     "status": "completed"
    },
    "tags": []
   },
   "source": [
    "* SGD, stochastic gradient descent, optimizer is a method used to minimize the cost fuction;\n",
    "* Mean squared logarithmic error, MSLE is a function that measure the ration between the true and predict values;\n",
    "* The metrics accuracy and MSE(Mean Squared Error) measure the behavior of test and validation data along the fitting;\n",
    "* EarlyStopping is a callback used to avoid overfitting of the data;"
   ]
  },
  {
   "cell_type": "code",
   "execution_count": 39,
   "metadata": {
    "execution": {
     "iopub.execute_input": "2021-01-12T00:34:10.139344Z",
     "iopub.status.busy": "2021-01-12T00:34:10.138045Z",
     "iopub.status.idle": "2021-01-12T00:34:14.572226Z",
     "shell.execute_reply": "2021-01-12T00:34:14.572802Z"
    },
    "papermill": {
     "duration": 4.529168,
     "end_time": "2021-01-12T00:34:14.572967",
     "exception": false,
     "start_time": "2021-01-12T00:34:10.043799",
     "status": "completed"
    },
    "tags": []
   },
   "outputs": [
    {
     "name": "stdout",
     "output_type": "stream",
     "text": [
      "Epoch 1/1000\n",
      "18/18 [==============================] - 0s 13ms/step - loss: 8.3824 - accuracy: 0.0000e+00 - MSE: 1091.7380 - val_loss: 5.8841 - val_accuracy: 0.0053 - val_MSE: 1018.7649\n",
      "Epoch 2/1000\n",
      "18/18 [==============================] - 0s 3ms/step - loss: 6.5142 - accuracy: 0.0035 - MSE: 1014.2921 - val_loss: 4.2243 - val_accuracy: 0.0053 - val_MSE: 943.7316\n",
      "Epoch 3/1000\n",
      "18/18 [==============================] - 0s 3ms/step - loss: 5.7525 - accuracy: 0.0035 - MSE: 945.5588 - val_loss: 3.3476 - val_accuracy: 0.0053 - val_MSE: 879.8864\n",
      "Epoch 4/1000\n",
      "18/18 [==============================] - 0s 3ms/step - loss: 5.2672 - accuracy: 0.0035 - MSE: 887.3057 - val_loss: 2.8724 - val_accuracy: 0.0053 - val_MSE: 830.1240\n",
      "Epoch 5/1000\n",
      "18/18 [==============================] - 0s 3ms/step - loss: 4.6865 - accuracy: 0.0035 - MSE: 824.8694 - val_loss: 2.3384 - val_accuracy: 0.0053 - val_MSE: 779.0980\n",
      "Epoch 6/1000\n",
      "18/18 [==============================] - 0s 3ms/step - loss: 3.0710 - accuracy: 0.0035 - MSE: 744.3133 - val_loss: 1.8786 - val_accuracy: 0.0053 - val_MSE: 728.4284\n",
      "Epoch 7/1000\n",
      "18/18 [==============================] - 0s 3ms/step - loss: 1.8869 - accuracy: 0.0053 - MSE: 671.3519 - val_loss: 1.5094 - val_accuracy: 0.0053 - val_MSE: 669.4944\n",
      "Epoch 8/1000\n",
      "18/18 [==============================] - 0s 3ms/step - loss: 1.4111 - accuracy: 0.0053 - MSE: 612.3801 - val_loss: 1.2063 - val_accuracy: 0.0053 - val_MSE: 603.5257\n",
      "Epoch 9/1000\n",
      "18/18 [==============================] - 0s 3ms/step - loss: 1.1255 - accuracy: 0.0053 - MSE: 551.7837 - val_loss: 1.0000 - val_accuracy: 0.0053 - val_MSE: 547.4323\n",
      "Epoch 10/1000\n",
      "18/18 [==============================] - 0s 3ms/step - loss: 0.9358 - accuracy: 0.0053 - MSE: 504.0679 - val_loss: 0.8552 - val_accuracy: 0.0053 - val_MSE: 500.2687\n",
      "Epoch 11/1000\n",
      "18/18 [==============================] - 0s 3ms/step - loss: 0.7909 - accuracy: 0.0053 - MSE: 460.4008 - val_loss: 0.7543 - val_accuracy: 0.0053 - val_MSE: 461.9687\n",
      "Epoch 12/1000\n",
      "18/18 [==============================] - 0s 3ms/step - loss: 0.6985 - accuracy: 0.0053 - MSE: 424.6954 - val_loss: 0.6759 - val_accuracy: 0.0053 - val_MSE: 428.1069\n",
      "Epoch 13/1000\n",
      "18/18 [==============================] - 0s 3ms/step - loss: 0.6231 - accuracy: 0.0053 - MSE: 391.5130 - val_loss: 0.6157 - val_accuracy: 0.0053 - val_MSE: 398.7920\n",
      "Epoch 14/1000\n",
      "18/18 [==============================] - 0s 3ms/step - loss: 0.5728 - accuracy: 0.0053 - MSE: 366.1676 - val_loss: 0.5696 - val_accuracy: 0.0053 - val_MSE: 374.0577\n",
      "Epoch 15/1000\n",
      "18/18 [==============================] - 0s 3ms/step - loss: 0.5244 - accuracy: 0.0053 - MSE: 339.9137 - val_loss: 0.5307 - val_accuracy: 0.0053 - val_MSE: 351.1474\n",
      "Epoch 16/1000\n",
      "18/18 [==============================] - 0s 3ms/step - loss: 0.4940 - accuracy: 0.0053 - MSE: 322.1605 - val_loss: 0.5005 - val_accuracy: 0.0053 - val_MSE: 331.8296\n",
      "Epoch 17/1000\n",
      "18/18 [==============================] - 0s 3ms/step - loss: 0.4667 - accuracy: 0.0053 - MSE: 304.4322 - val_loss: 0.4760 - val_accuracy: 0.0053 - val_MSE: 315.0541\n",
      "Epoch 18/1000\n",
      "18/18 [==============================] - 0s 3ms/step - loss: 0.4450 - accuracy: 0.0053 - MSE: 288.4154 - val_loss: 0.4570 - val_accuracy: 0.0053 - val_MSE: 301.1501\n",
      "Epoch 19/1000\n",
      "18/18 [==============================] - 0s 3ms/step - loss: 0.4277 - accuracy: 0.0053 - MSE: 274.8010 - val_loss: 0.4402 - val_accuracy: 0.0053 - val_MSE: 287.9955\n",
      "Epoch 20/1000\n",
      "18/18 [==============================] - 0s 3ms/step - loss: 0.4138 - accuracy: 0.0053 - MSE: 263.2009 - val_loss: 0.4267 - val_accuracy: 0.0053 - val_MSE: 276.9926\n",
      "Epoch 21/1000\n",
      "18/18 [==============================] - 0s 3ms/step - loss: 0.3992 - accuracy: 0.0053 - MSE: 253.4999 - val_loss: 0.4159 - val_accuracy: 0.0053 - val_MSE: 268.0515\n",
      "Epoch 22/1000\n",
      "18/18 [==============================] - 0s 3ms/step - loss: 0.3940 - accuracy: 0.0053 - MSE: 244.5680 - val_loss: 0.4064 - val_accuracy: 0.0053 - val_MSE: 259.8887\n",
      "Epoch 23/1000\n",
      "18/18 [==============================] - 0s 3ms/step - loss: 0.3852 - accuracy: 0.0053 - MSE: 236.6396 - val_loss: 0.3974 - val_accuracy: 0.0053 - val_MSE: 251.8521\n",
      "Epoch 24/1000\n",
      "18/18 [==============================] - 0s 3ms/step - loss: 0.3810 - accuracy: 0.0053 - MSE: 232.9983 - val_loss: 0.3900 - val_accuracy: 0.0053 - val_MSE: 245.1705\n",
      "Epoch 25/1000\n",
      "18/18 [==============================] - 0s 3ms/step - loss: 0.3726 - accuracy: 0.0053 - MSE: 225.2347 - val_loss: 0.3833 - val_accuracy: 0.0053 - val_MSE: 238.7608\n",
      "Epoch 26/1000\n",
      "18/18 [==============================] - 0s 3ms/step - loss: 0.3705 - accuracy: 0.0053 - MSE: 219.9811 - val_loss: 0.3779 - val_accuracy: 0.0053 - val_MSE: 233.9461\n",
      "Epoch 27/1000\n",
      "18/18 [==============================] - 0s 4ms/step - loss: 0.3605 - accuracy: 0.0053 - MSE: 216.1306 - val_loss: 0.3729 - val_accuracy: 0.0053 - val_MSE: 229.4018\n",
      "Epoch 28/1000\n",
      "18/18 [==============================] - 0s 3ms/step - loss: 0.3624 - accuracy: 0.0053 - MSE: 214.5993 - val_loss: 0.3684 - val_accuracy: 0.0053 - val_MSE: 225.2312\n",
      "Epoch 29/1000\n",
      "18/18 [==============================] - 0s 3ms/step - loss: 0.3579 - accuracy: 0.0053 - MSE: 210.1610 - val_loss: 0.3638 - val_accuracy: 0.0053 - val_MSE: 220.6697\n",
      "Epoch 30/1000\n",
      "18/18 [==============================] - 0s 3ms/step - loss: 0.3524 - accuracy: 0.0053 - MSE: 203.8378 - val_loss: 0.3599 - val_accuracy: 0.0053 - val_MSE: 216.4071\n",
      "Epoch 31/1000\n",
      "18/18 [==============================] - 0s 3ms/step - loss: 0.3555 - accuracy: 0.0053 - MSE: 204.0090 - val_loss: 0.3567 - val_accuracy: 0.0053 - val_MSE: 212.7907\n",
      "Epoch 32/1000\n",
      "18/18 [==============================] - 0s 3ms/step - loss: 0.3462 - accuracy: 0.0053 - MSE: 198.8681 - val_loss: 0.3538 - val_accuracy: 0.0053 - val_MSE: 209.8407\n",
      "Epoch 33/1000\n",
      "18/18 [==============================] - 0s 3ms/step - loss: 0.3477 - accuracy: 0.0053 - MSE: 198.3028 - val_loss: 0.3517 - val_accuracy: 0.0053 - val_MSE: 207.8165\n",
      "Epoch 34/1000\n",
      "18/18 [==============================] - 0s 3ms/step - loss: 0.3487 - accuracy: 0.0053 - MSE: 196.4535 - val_loss: 0.3495 - val_accuracy: 0.0053 - val_MSE: 205.4988\n",
      "Epoch 35/1000\n",
      "18/18 [==============================] - 0s 3ms/step - loss: 0.3433 - accuracy: 0.0053 - MSE: 194.4709 - val_loss: 0.3473 - val_accuracy: 0.0053 - val_MSE: 203.2044\n",
      "Epoch 36/1000\n",
      "18/18 [==============================] - 0s 3ms/step - loss: 0.3362 - accuracy: 0.0053 - MSE: 190.9990 - val_loss: 0.3449 - val_accuracy: 0.0053 - val_MSE: 199.8644\n",
      "Epoch 37/1000\n",
      "18/18 [==============================] - 0s 3ms/step - loss: 0.3384 - accuracy: 0.0053 - MSE: 188.3162 - val_loss: 0.3431 - val_accuracy: 0.0053 - val_MSE: 197.7872\n",
      "Epoch 38/1000\n",
      "18/18 [==============================] - 0s 3ms/step - loss: 0.3429 - accuracy: 0.0053 - MSE: 189.6958 - val_loss: 0.3411 - val_accuracy: 0.0053 - val_MSE: 195.0581\n",
      "Epoch 39/1000\n",
      "18/18 [==============================] - 0s 3ms/step - loss: 0.3378 - accuracy: 0.0053 - MSE: 186.2219 - val_loss: 0.3400 - val_accuracy: 0.0053 - val_MSE: 194.5234\n",
      "Epoch 40/1000\n",
      "18/18 [==============================] - 0s 3ms/step - loss: 0.3434 - accuracy: 0.0053 - MSE: 188.8887 - val_loss: 0.3393 - val_accuracy: 0.0053 - val_MSE: 194.2138\n",
      "Epoch 41/1000\n",
      "18/18 [==============================] - 0s 3ms/step - loss: 0.3363 - accuracy: 0.0053 - MSE: 186.0461 - val_loss: 0.3379 - val_accuracy: 0.0053 - val_MSE: 193.1300\n",
      "Epoch 42/1000\n",
      "18/18 [==============================] - 0s 3ms/step - loss: 0.3333 - accuracy: 0.0053 - MSE: 185.7891 - val_loss: 0.3369 - val_accuracy: 0.0053 - val_MSE: 191.9262\n",
      "Epoch 43/1000\n",
      "18/18 [==============================] - 0s 3ms/step - loss: 0.3379 - accuracy: 0.0053 - MSE: 184.0761 - val_loss: 0.3357 - val_accuracy: 0.0053 - val_MSE: 191.3132\n",
      "Epoch 44/1000\n",
      "18/18 [==============================] - 0s 4ms/step - loss: 0.3388 - accuracy: 0.0053 - MSE: 184.7347 - val_loss: 0.3344 - val_accuracy: 0.0053 - val_MSE: 190.0403\n",
      "Epoch 45/1000\n",
      "18/18 [==============================] - 0s 3ms/step - loss: 0.3313 - accuracy: 0.0053 - MSE: 182.0613 - val_loss: 0.3336 - val_accuracy: 0.0053 - val_MSE: 189.9122\n",
      "Epoch 46/1000\n",
      "18/18 [==============================] - 0s 3ms/step - loss: 0.3318 - accuracy: 0.0053 - MSE: 181.4803 - val_loss: 0.3325 - val_accuracy: 0.0053 - val_MSE: 189.4147\n",
      "Epoch 47/1000\n",
      "18/18 [==============================] - 0s 3ms/step - loss: 0.3313 - accuracy: 0.0053 - MSE: 181.4330 - val_loss: 0.3312 - val_accuracy: 0.0053 - val_MSE: 187.8729\n",
      "Epoch 48/1000\n",
      "18/18 [==============================] - 0s 3ms/step - loss: 0.3294 - accuracy: 0.0053 - MSE: 180.3250 - val_loss: 0.3304 - val_accuracy: 0.0053 - val_MSE: 188.0128\n",
      "Epoch 49/1000\n",
      "18/18 [==============================] - 0s 3ms/step - loss: 0.3318 - accuracy: 0.0053 - MSE: 183.8533 - val_loss: 0.3290 - val_accuracy: 0.0053 - val_MSE: 187.0885\n",
      "Epoch 50/1000\n",
      "18/18 [==============================] - 0s 3ms/step - loss: 0.3250 - accuracy: 0.0053 - MSE: 179.4855 - val_loss: 0.3284 - val_accuracy: 0.0053 - val_MSE: 187.5934\n",
      "Epoch 51/1000\n",
      "18/18 [==============================] - 0s 3ms/step - loss: 0.3202 - accuracy: 0.0053 - MSE: 176.3910 - val_loss: 0.3266 - val_accuracy: 0.0053 - val_MSE: 185.9429\n",
      "Epoch 52/1000\n",
      "18/18 [==============================] - 0s 3ms/step - loss: 0.3322 - accuracy: 0.0053 - MSE: 183.5866 - val_loss: 0.3267 - val_accuracy: 0.0053 - val_MSE: 187.6572\n"
     ]
    }
   ],
   "source": [
    "model.compile(optimizer='SGD',loss='mean_squared_logarithmic_error',metrics=['accuracy', 'MSE'])\n",
    "history = model.fit(X_train, y_train, epochs=1000, validation_data=(X_train, y_train), callbacks=tf.keras.callbacks.EarlyStopping(monitor='val_loss'))"
   ]
  },
  {
   "cell_type": "code",
   "execution_count": 40,
   "metadata": {
    "execution": {
     "iopub.execute_input": "2021-01-12T00:34:14.820469Z",
     "iopub.status.busy": "2021-01-12T00:34:14.819349Z",
     "iopub.status.idle": "2021-01-12T00:34:15.352670Z",
     "shell.execute_reply": "2021-01-12T00:34:15.351732Z"
    },
    "papermill": {
     "duration": 0.662768,
     "end_time": "2021-01-12T00:34:15.352816",
     "exception": false,
     "start_time": "2021-01-12T00:34:14.690048",
     "status": "completed"
    },
    "tags": []
   },
   "outputs": [
    {
     "data": {
      "image/png": "[encoded data removed]",
      "text/plain": [
       "<Figure size 806.4x453.6 with 1 Axes>"
      ]
     },
     "metadata": {
      "needs_background": "light"
     },
     "output_type": "display_data"
    },
    {
     "data": {
      "image/png": "[encoded data removed]",
      "text/plain": [
       "<Figure size 806.4x453.6 with 1 Axes>"
      ]
     },
     "metadata": {
      "needs_background": "light"
     },
     "output_type": "display_data"
    },
    {
     "data": {
      "image/png": "[encoded data removed]",
      "text/plain": [
       "<Figure size 806.4x453.6 with 1 Axes>"
      ]
     },
     "metadata": {
      "needs_background": "light"
     },
     "output_type": "display_data"
    }
   ],
   "source": [
    "plt.figure(figsize=(16*.7,9*.7))\n",
    "plt.plot(history.history['loss'], 'r', label='loss')\n",
    "plt.plot(history.history['val_loss'], 'b', label='val_loss')\n",
    "plt.title('Loss')\n",
    "plt.legend()\n",
    "plt.show()\n",
    "\n",
    "plt.figure(figsize=(16*.7,9*.7))\n",
    "plt.plot(history.history['accuracy'], 'r', label='accuracy')\n",
    "plt.plot(history.history['val_accuracy'], 'b', label='val_accuracy')\n",
    "plt.title('Accuracy')\n",
    "plt.legend()\n",
    "plt.show()\n",
    "\n",
    "plt.figure(figsize=(16*.7,9*.7))\n",
    "plt.plot(history.history['MSE'], 'r', label='MSE')\n",
    "plt.plot(history.history['val_MSE'], 'b', label='val_MSE')\n",
    "plt.title('MSE')\n",
    "plt.legend()\n",
    "plt.show()"
   ]
  },
  {
   "cell_type": "markdown",
   "metadata": {
    "papermill": {
     "duration": 0.117372,
     "end_time": "2021-01-12T00:34:15.588937",
     "exception": false,
     "start_time": "2021-01-12T00:34:15.471565",
     "status": "completed"
    },
    "tags": []
   },
   "source": [
    "This is a little bad, but is the best that we have. There's three ways to continue, use this regreesion for age on the missing data, use mean age to fill them or delete them. At the end of the notebook we'll try these three ways to handle with this, but now with notebook using regression."
   ]
  },
  {
   "cell_type": "code",
   "execution_count": 41,
   "metadata": {
    "execution": {
     "iopub.execute_input": "2021-01-12T00:34:15.842685Z",
     "iopub.status.busy": "2021-01-12T00:34:15.841582Z",
     "iopub.status.idle": "2021-01-12T00:34:17.192506Z",
     "shell.execute_reply": "2021-01-12T00:34:17.193086Z"
    },
    "papermill": {
     "duration": 1.483951,
     "end_time": "2021-01-12T00:34:17.193250",
     "exception": false,
     "start_time": "2021-01-12T00:34:15.709299",
     "status": "completed"
    },
    "tags": []
   },
   "outputs": [
    {
     "name": "stdout",
     "output_type": "stream",
     "text": [
      "Correlation Matrix:\n",
      "[[1.         0.44636493]\n",
      " [0.44636493 1.        ]]\n"
     ]
    },
    {
     "data": {
      "image/png": "[encoded data removed]",
      "text/plain": [
       "<Figure size 1152x648 with 1 Axes>"
      ]
     },
     "metadata": {
      "needs_background": "light"
     },
     "output_type": "display_data"
    }
   ],
   "source": [
    "classifications = model.predict(X_test)\n",
    "print(f'Correlation Matrix:\\n{np.corrcoef(classifications[:,0], y_test)}')\n",
    "plt.figure(figsize=(16,9))\n",
    "sns.scatterplot(x = classifications[:,0], y = y_test)\n",
    "sns.lineplot(x = y_test, y = y_test, color='b')\n",
    "plt.xlim(.94*min(classifications[:,0]), 1.02*max(classifications[:,0]))\n",
    "plt.xlabel('Predicted Age')\n",
    "plt.ylabel('Real Age')\n",
    "plt.show()"
   ]
  },
  {
   "cell_type": "markdown",
   "metadata": {
    "papermill": {
     "duration": 0.119039,
     "end_time": "2021-01-12T00:34:17.431276",
     "exception": false,
     "start_time": "2021-01-12T00:34:17.312237",
     "status": "completed"
    },
    "tags": []
   },
   "source": [
    "Then, we apply our model into our train and test data."
   ]
  },
  {
   "cell_type": "code",
   "execution_count": 42,
   "metadata": {
    "execution": {
     "iopub.execute_input": "2021-01-12T00:34:17.687175Z",
     "iopub.status.busy": "2021-01-12T00:34:17.684406Z",
     "iopub.status.idle": "2021-01-12T00:34:17.800759Z",
     "shell.execute_reply": "2021-01-12T00:34:17.800017Z"
    },
    "papermill": {
     "duration": 0.246797,
     "end_time": "2021-01-12T00:34:17.800880",
     "exception": false,
     "start_time": "2021-01-12T00:34:17.554083",
     "status": "completed"
    },
    "tags": []
   },
   "outputs": [],
   "source": [
    "df_train['Age'] = df_train['Age'].replace({np.nan: np.array(model.predict(norm.fit_transform(df_train.drop(['Age', 'Survived'], axis=1))))})\n",
    "df_test['Age'] = df_test['Age'].replace({np.nan: np.array(model.predict(norm.fit_transform(df_test.drop(['Age'], axis=1))))})"
   ]
  },
  {
   "cell_type": "code",
   "execution_count": 43,
   "metadata": {
    "execution": {
     "iopub.execute_input": "2021-01-12T00:34:18.064171Z",
     "iopub.status.busy": "2021-01-12T00:34:18.063127Z",
     "iopub.status.idle": "2021-01-12T00:34:18.078942Z",
     "shell.execute_reply": "2021-01-12T00:34:18.079978Z"
    },
    "papermill": {
     "duration": 0.161912,
     "end_time": "2021-01-12T00:34:18.080236",
     "exception": false,
     "start_time": "2021-01-12T00:34:17.918324",
     "status": "completed"
    },
    "tags": []
   },
   "outputs": [
    {
     "name": "stdout",
     "output_type": "stream",
     "text": [
      "Survived      0\n",
      "Pclass        0\n",
      "Age           0\n",
      "SibSp         0\n",
      "Parch         0\n",
      "Fare          0\n",
      "Embarked_Q    0\n",
      "Embarked_S    0\n",
      "Sex_male      0\n",
      "dtype: int64 \n",
      "\n",
      " Pclass        0\n",
      "Age           0\n",
      "SibSp         0\n",
      "Parch         0\n",
      "Fare          1\n",
      "Embarked_Q    0\n",
      "Embarked_S    0\n",
      "Sex_male      0\n",
      "dtype: int64\n"
     ]
    }
   ],
   "source": [
    "print(df_train.isna().sum(),'\\n\\n',df_test.isna().sum())"
   ]
  },
  {
   "cell_type": "markdown",
   "metadata": {
    "papermill": {
     "duration": 0.118071,
     "end_time": "2021-01-12T00:34:18.338974",
     "exception": false,
     "start_time": "2021-01-12T00:34:18.220903",
     "status": "completed"
    },
    "tags": []
   },
   "source": [
    "Let's just use mean values on the Fare missing data."
   ]
  },
  {
   "cell_type": "code",
   "execution_count": 44,
   "metadata": {
    "execution": {
     "iopub.execute_input": "2021-01-12T00:34:18.591926Z",
     "iopub.status.busy": "2021-01-12T00:34:18.591128Z",
     "iopub.status.idle": "2021-01-12T00:34:18.597507Z",
     "shell.execute_reply": "2021-01-12T00:34:18.598068Z"
    },
    "papermill": {
     "duration": 0.139635,
     "end_time": "2021-01-12T00:34:18.598214",
     "exception": false,
     "start_time": "2021-01-12T00:34:18.458579",
     "status": "completed"
    },
    "tags": []
   },
   "outputs": [],
   "source": [
    "df_test['Fare'] = df_test['Fare'].fillna((df_test.Fare.mean()))\n",
    "df_train['Fare'] = df_train['Fare'].fillna((df_train.Fare.mean()))"
   ]
  },
  {
   "cell_type": "markdown",
   "metadata": {
    "papermill": {
     "duration": 0.120055,
     "end_time": "2021-01-12T00:34:18.838702",
     "exception": false,
     "start_time": "2021-01-12T00:34:18.718647",
     "status": "completed"
    },
    "tags": []
   },
   "source": [
    "## Modelling Deep Neural Network for Predict Survival"
   ]
  },
  {
   "cell_type": "markdown",
   "metadata": {
    "papermill": {
     "duration": 0.118349,
     "end_time": "2021-01-12T00:34:19.075222",
     "exception": false,
     "start_time": "2021-01-12T00:34:18.956873",
     "status": "completed"
    },
    "tags": []
   },
   "source": [
    "We begin sorting out train and test data."
   ]
  },
  {
   "cell_type": "code",
   "execution_count": 45,
   "metadata": {
    "execution": {
     "iopub.execute_input": "2021-01-12T00:34:19.317177Z",
     "iopub.status.busy": "2021-01-12T00:34:19.316375Z",
     "iopub.status.idle": "2021-01-12T00:34:19.321767Z",
     "shell.execute_reply": "2021-01-12T00:34:19.322405Z"
    },
    "papermill": {
     "duration": 0.128904,
     "end_time": "2021-01-12T00:34:19.322586",
     "exception": false,
     "start_time": "2021-01-12T00:34:19.193682",
     "status": "completed"
    },
    "tags": []
   },
   "outputs": [],
   "source": [
    "X_train = df_train.drop('Survived',axis=1)\n",
    "y_train = df_train['Survived']\n",
    "X_test = df_test"
   ]
  },
  {
   "cell_type": "markdown",
   "metadata": {
    "papermill": {
     "duration": 0.119685,
     "end_time": "2021-01-12T00:34:19.561873",
     "exception": false,
     "start_time": "2021-01-12T00:34:19.442188",
     "status": "completed"
    },
    "tags": []
   },
   "source": [
    "Normalizing data."
   ]
  },
  {
   "cell_type": "code",
   "execution_count": 46,
   "metadata": {
    "execution": {
     "iopub.execute_input": "2021-01-12T00:34:19.811105Z",
     "iopub.status.busy": "2021-01-12T00:34:19.810298Z",
     "iopub.status.idle": "2021-01-12T00:34:19.823725Z",
     "shell.execute_reply": "2021-01-12T00:34:19.822980Z"
    },
    "papermill": {
     "duration": 0.140449,
     "end_time": "2021-01-12T00:34:19.823854",
     "exception": false,
     "start_time": "2021-01-12T00:34:19.683405",
     "status": "completed"
    },
    "tags": []
   },
   "outputs": [],
   "source": [
    "norm = MinMaxScaler()\n",
    "norm.fit(X_train)\n",
    "X_train = norm.transform(X_train)\n",
    "X_test = norm.transform(X_test)"
   ]
  },
  {
   "cell_type": "markdown",
   "metadata": {
    "papermill": {
     "duration": 0.119374,
     "end_time": "2021-01-12T00:34:20.065775",
     "exception": false,
     "start_time": "2021-01-12T00:34:19.946401",
     "status": "completed"
    },
    "tags": []
   },
   "source": [
    "Let's build model using keras."
   ]
  },
  {
   "cell_type": "code",
   "execution_count": 47,
   "metadata": {
    "execution": {
     "iopub.execute_input": "2021-01-12T00:34:20.322969Z",
     "iopub.status.busy": "2021-01-12T00:34:20.321853Z",
     "iopub.status.idle": "2021-01-12T00:34:20.369847Z",
     "shell.execute_reply": "2021-01-12T00:34:20.369112Z"
    },
    "papermill": {
     "duration": 0.183197,
     "end_time": "2021-01-12T00:34:20.369969",
     "exception": false,
     "start_time": "2021-01-12T00:34:20.186772",
     "status": "completed"
    },
    "tags": []
   },
   "outputs": [],
   "source": [
    "model = tf.keras.models.Sequential([\n",
    "    tf.keras.layers.Dense(10, activation='relu', input_shape=[8]),\n",
    "    #This sequential begin with 10 neurons, the activation is ReLu and the input shape is the number of columns of our training dataset.\n",
    "    \n",
    "    tf.keras.layers.BatchNormalization(),\n",
    "    #Batch normalization applies a transformation that maintains the mean output close to 0 and the output standard deviation close to 1.\n",
    "    \n",
    "    tf.keras.layers.Dense(14, activation='relu'),\n",
    "    #Add 14 neurons using ReLu as activation function\n",
    "    \n",
    "    tf.keras.layers.Dense(1, activation='sigmoid')\n",
    "    #The output must be 1 label and de activation is a sigmoid function for binary classification\n",
    "])"
   ]
  },
  {
   "cell_type": "code",
   "execution_count": 48,
   "metadata": {
    "execution": {
     "iopub.execute_input": "2021-01-12T00:34:20.618977Z",
     "iopub.status.busy": "2021-01-12T00:34:20.618169Z",
     "iopub.status.idle": "2021-01-12T00:34:20.624140Z",
     "shell.execute_reply": "2021-01-12T00:34:20.623273Z"
    },
    "papermill": {
     "duration": 0.13429,
     "end_time": "2021-01-12T00:34:20.624329",
     "exception": false,
     "start_time": "2021-01-12T00:34:20.490039",
     "status": "completed"
    },
    "tags": []
   },
   "outputs": [
    {
     "name": "stdout",
     "output_type": "stream",
     "text": [
      "Model: \"sequential_1\"\n",
      "_________________________________________________________________\n",
      "Layer (type)                 Output Shape              Param #   \n",
      "=================================================================\n",
      "dense_3 (Dense)              (None, 10)                90        \n",
      "_________________________________________________________________\n",
      "batch_normalization_1 (Batch (None, 10)                40        \n",
      "_________________________________________________________________\n",
      "dense_4 (Dense)              (None, 14)                154       \n",
      "_________________________________________________________________\n",
      "dense_5 (Dense)              (None, 1)                 15        \n",
      "=================================================================\n",
      "Total params: 299\n",
      "Trainable params: 279\n",
      "Non-trainable params: 20\n",
      "_________________________________________________________________\n"
     ]
    }
   ],
   "source": [
    "model.summary()"
   ]
  },
  {
   "cell_type": "markdown",
   "metadata": {
    "papermill": {
     "duration": 0.123707,
     "end_time": "2021-01-12T00:34:20.873594",
     "exception": false,
     "start_time": "2021-01-12T00:34:20.749887",
     "status": "completed"
    },
    "tags": []
   },
   "source": [
    "* Binary crossentropy is a loss function/\n",
    "* SGD, stochastic gradient descent, optimizer is a method used to minimize the cost fuction;\n",
    "* The metrics accuracy and MSE(Mean Squared Error) measure the behavior of test and validation data along the fitting;\n",
    "* EarlyStopping is a callback used to avoid overfitting of the data monitoring the value of loss;"
   ]
  },
  {
   "cell_type": "code",
   "execution_count": 49,
   "metadata": {
    "execution": {
     "iopub.execute_input": "2021-01-12T00:34:21.129151Z",
     "iopub.status.busy": "2021-01-12T00:34:21.127996Z",
     "iopub.status.idle": "2021-01-12T00:34:35.957806Z",
     "shell.execute_reply": "2021-01-12T00:34:35.958533Z"
    },
    "papermill": {
     "duration": 14.964236,
     "end_time": "2021-01-12T00:34:35.958738",
     "exception": false,
     "start_time": "2021-01-12T00:34:20.994502",
     "status": "completed"
    },
    "tags": []
   },
   "outputs": [
    {
     "name": "stdout",
     "output_type": "stream",
     "text": [
      "Epoch 1/1000\n",
      "23/23 [==============================] - 0s 8ms/step - loss: 0.7356 - accuracy: 0.4438 - MSE: 0.2701 - val_loss: 0.7163 - val_accuracy: 0.3855 - val_MSE: 0.2615\n",
      "Epoch 2/1000\n",
      "23/23 [==============================] - 0s 2ms/step - loss: 0.7355 - accuracy: 0.4410 - MSE: 0.2693 - val_loss: 0.7087 - val_accuracy: 0.3911 - val_MSE: 0.2578\n",
      "Epoch 3/1000\n",
      "23/23 [==============================] - 0s 2ms/step - loss: 0.7204 - accuracy: 0.4508 - MSE: 0.2622 - val_loss: 0.7014 - val_accuracy: 0.3743 - val_MSE: 0.2541\n",
      "Epoch 4/1000\n",
      "23/23 [==============================] - 0s 2ms/step - loss: 0.7125 - accuracy: 0.4803 - MSE: 0.2587 - val_loss: 0.6937 - val_accuracy: 0.3799 - val_MSE: 0.2503\n",
      "Epoch 5/1000\n",
      "23/23 [==============================] - 0s 2ms/step - loss: 0.7018 - accuracy: 0.4916 - MSE: 0.2530 - val_loss: 0.6865 - val_accuracy: 0.5978 - val_MSE: 0.2467\n",
      "Epoch 6/1000\n",
      "23/23 [==============================] - 0s 2ms/step - loss: 0.6899 - accuracy: 0.5070 - MSE: 0.2482 - val_loss: 0.6787 - val_accuracy: 0.6034 - val_MSE: 0.2429\n",
      "Epoch 7/1000\n",
      "23/23 [==============================] - 0s 2ms/step - loss: 0.6830 - accuracy: 0.5211 - MSE: 0.2449 - val_loss: 0.6705 - val_accuracy: 0.6145 - val_MSE: 0.2389\n",
      "Epoch 8/1000\n",
      "23/23 [==============================] - 0s 2ms/step - loss: 0.6754 - accuracy: 0.5927 - MSE: 0.2406 - val_loss: 0.6639 - val_accuracy: 0.6201 - val_MSE: 0.2357\n",
      "Epoch 9/1000\n",
      "23/23 [==============================] - 0s 2ms/step - loss: 0.6669 - accuracy: 0.6081 - MSE: 0.2367 - val_loss: 0.6569 - val_accuracy: 0.6201 - val_MSE: 0.2322\n",
      "Epoch 10/1000\n",
      "23/23 [==============================] - 0s 2ms/step - loss: 0.6586 - accuracy: 0.6025 - MSE: 0.2333 - val_loss: 0.6501 - val_accuracy: 0.6369 - val_MSE: 0.2289\n",
      "Epoch 11/1000\n",
      "23/23 [==============================] - 0s 2ms/step - loss: 0.6535 - accuracy: 0.6124 - MSE: 0.2308 - val_loss: 0.6442 - val_accuracy: 0.6369 - val_MSE: 0.2260\n",
      "Epoch 12/1000\n",
      "23/23 [==============================] - 0s 2ms/step - loss: 0.6456 - accuracy: 0.6419 - MSE: 0.2267 - val_loss: 0.6382 - val_accuracy: 0.6536 - val_MSE: 0.2231\n",
      "Epoch 13/1000\n",
      "23/23 [==============================] - 0s 2ms/step - loss: 0.6465 - accuracy: 0.6278 - MSE: 0.2270 - val_loss: 0.6330 - val_accuracy: 0.6536 - val_MSE: 0.2206\n",
      "Epoch 14/1000\n",
      "23/23 [==============================] - 0s 2ms/step - loss: 0.6359 - accuracy: 0.6489 - MSE: 0.2222 - val_loss: 0.6279 - val_accuracy: 0.6536 - val_MSE: 0.2182\n",
      "Epoch 15/1000\n",
      "23/23 [==============================] - 0s 2ms/step - loss: 0.6333 - accuracy: 0.6475 - MSE: 0.2210 - val_loss: 0.6240 - val_accuracy: 0.6592 - val_MSE: 0.2163\n",
      "Epoch 16/1000\n",
      "23/23 [==============================] - 0s 2ms/step - loss: 0.6302 - accuracy: 0.6503 - MSE: 0.2200 - val_loss: 0.6198 - val_accuracy: 0.6592 - val_MSE: 0.2143\n",
      "Epoch 17/1000\n",
      "23/23 [==============================] - 0s 2ms/step - loss: 0.6277 - accuracy: 0.6545 - MSE: 0.2185 - val_loss: 0.6157 - val_accuracy: 0.6592 - val_MSE: 0.2123\n",
      "Epoch 18/1000\n",
      "23/23 [==============================] - 0s 2ms/step - loss: 0.6283 - accuracy: 0.6559 - MSE: 0.2186 - val_loss: 0.6121 - val_accuracy: 0.6704 - val_MSE: 0.2106\n",
      "Epoch 19/1000\n",
      "23/23 [==============================] - 0s 2ms/step - loss: 0.6217 - accuracy: 0.6685 - MSE: 0.2156 - val_loss: 0.6087 - val_accuracy: 0.6704 - val_MSE: 0.2089\n",
      "Epoch 20/1000\n",
      "23/23 [==============================] - 0s 2ms/step - loss: 0.6181 - accuracy: 0.6629 - MSE: 0.2136 - val_loss: 0.6052 - val_accuracy: 0.6704 - val_MSE: 0.2073\n",
      "Epoch 21/1000\n",
      "23/23 [==============================] - 0s 2ms/step - loss: 0.6137 - accuracy: 0.6503 - MSE: 0.2119 - val_loss: 0.6017 - val_accuracy: 0.6704 - val_MSE: 0.2056\n",
      "Epoch 22/1000\n",
      "23/23 [==============================] - 0s 2ms/step - loss: 0.6115 - accuracy: 0.6587 - MSE: 0.2110 - val_loss: 0.5982 - val_accuracy: 0.6760 - val_MSE: 0.2040\n",
      "Epoch 23/1000\n",
      "23/23 [==============================] - 0s 2ms/step - loss: 0.6109 - accuracy: 0.6587 - MSE: 0.2107 - val_loss: 0.5953 - val_accuracy: 0.6760 - val_MSE: 0.2026\n",
      "Epoch 24/1000\n",
      "23/23 [==============================] - 0s 2ms/step - loss: 0.6100 - accuracy: 0.6742 - MSE: 0.2098 - val_loss: 0.5924 - val_accuracy: 0.6816 - val_MSE: 0.2013\n",
      "Epoch 25/1000\n",
      "23/23 [==============================] - 0s 2ms/step - loss: 0.6048 - accuracy: 0.6812 - MSE: 0.2074 - val_loss: 0.5894 - val_accuracy: 0.6816 - val_MSE: 0.1999\n",
      "Epoch 26/1000\n",
      "23/23 [==============================] - 0s 2ms/step - loss: 0.5984 - accuracy: 0.6699 - MSE: 0.2051 - val_loss: 0.5864 - val_accuracy: 0.7039 - val_MSE: 0.1985\n",
      "Epoch 27/1000\n",
      "23/23 [==============================] - 0s 2ms/step - loss: 0.5991 - accuracy: 0.6896 - MSE: 0.2052 - val_loss: 0.5835 - val_accuracy: 0.7095 - val_MSE: 0.1972\n",
      "Epoch 28/1000\n",
      "23/23 [==============================] - 0s 2ms/step - loss: 0.5961 - accuracy: 0.6784 - MSE: 0.2038 - val_loss: 0.5812 - val_accuracy: 0.7095 - val_MSE: 0.1961\n",
      "Epoch 29/1000\n",
      "23/23 [==============================] - 0s 3ms/step - loss: 0.5986 - accuracy: 0.6840 - MSE: 0.2048 - val_loss: 0.5786 - val_accuracy: 0.7095 - val_MSE: 0.1950\n",
      "Epoch 30/1000\n",
      "23/23 [==============================] - 0s 2ms/step - loss: 0.5979 - accuracy: 0.6882 - MSE: 0.2046 - val_loss: 0.5765 - val_accuracy: 0.7151 - val_MSE: 0.1940\n",
      "Epoch 31/1000\n",
      "23/23 [==============================] - 0s 2ms/step - loss: 0.5891 - accuracy: 0.6924 - MSE: 0.2008 - val_loss: 0.5743 - val_accuracy: 0.7207 - val_MSE: 0.1930\n",
      "Epoch 32/1000\n",
      "23/23 [==============================] - 0s 2ms/step - loss: 0.5949 - accuracy: 0.6798 - MSE: 0.2032 - val_loss: 0.5720 - val_accuracy: 0.7207 - val_MSE: 0.1920\n",
      "Epoch 33/1000\n",
      "23/23 [==============================] - 0s 2ms/step - loss: 0.5844 - accuracy: 0.6868 - MSE: 0.1987 - val_loss: 0.5694 - val_accuracy: 0.7263 - val_MSE: 0.1909\n",
      "Epoch 34/1000\n",
      "23/23 [==============================] - 0s 2ms/step - loss: 0.5854 - accuracy: 0.6756 - MSE: 0.1991 - val_loss: 0.5672 - val_accuracy: 0.7263 - val_MSE: 0.1899\n",
      "Epoch 35/1000\n",
      "23/23 [==============================] - 0s 2ms/step - loss: 0.5871 - accuracy: 0.6896 - MSE: 0.1998 - val_loss: 0.5652 - val_accuracy: 0.7263 - val_MSE: 0.1890\n",
      "Epoch 36/1000\n",
      "23/23 [==============================] - 0s 2ms/step - loss: 0.5803 - accuracy: 0.7051 - MSE: 0.1968 - val_loss: 0.5633 - val_accuracy: 0.7263 - val_MSE: 0.1882\n",
      "Epoch 37/1000\n",
      "23/23 [==============================] - 0s 2ms/step - loss: 0.5788 - accuracy: 0.6994 - MSE: 0.1962 - val_loss: 0.5616 - val_accuracy: 0.7263 - val_MSE: 0.1875\n",
      "Epoch 38/1000\n",
      "23/23 [==============================] - 0s 2ms/step - loss: 0.5781 - accuracy: 0.7008 - MSE: 0.1960 - val_loss: 0.5598 - val_accuracy: 0.7263 - val_MSE: 0.1867\n",
      "Epoch 39/1000\n",
      "23/23 [==============================] - 0s 2ms/step - loss: 0.5774 - accuracy: 0.7107 - MSE: 0.1954 - val_loss: 0.5579 - val_accuracy: 0.7263 - val_MSE: 0.1859\n",
      "Epoch 40/1000\n",
      "23/23 [==============================] - 0s 2ms/step - loss: 0.5747 - accuracy: 0.7079 - MSE: 0.1941 - val_loss: 0.5563 - val_accuracy: 0.7263 - val_MSE: 0.1852\n",
      "Epoch 41/1000\n",
      "23/23 [==============================] - 0s 2ms/step - loss: 0.5753 - accuracy: 0.7008 - MSE: 0.1945 - val_loss: 0.5549 - val_accuracy: 0.7263 - val_MSE: 0.1846\n",
      "Epoch 42/1000\n",
      "23/23 [==============================] - 0s 2ms/step - loss: 0.5680 - accuracy: 0.7219 - MSE: 0.1914 - val_loss: 0.5533 - val_accuracy: 0.7263 - val_MSE: 0.1839\n",
      "Epoch 43/1000\n",
      "23/23 [==============================] - 0s 2ms/step - loss: 0.5714 - accuracy: 0.7093 - MSE: 0.1929 - val_loss: 0.5518 - val_accuracy: 0.7263 - val_MSE: 0.1832\n",
      "Epoch 44/1000\n",
      "23/23 [==============================] - 0s 2ms/step - loss: 0.5755 - accuracy: 0.7121 - MSE: 0.1944 - val_loss: 0.5503 - val_accuracy: 0.7263 - val_MSE: 0.1826\n",
      "Epoch 45/1000\n",
      "23/23 [==============================] - 0s 2ms/step - loss: 0.5684 - accuracy: 0.6966 - MSE: 0.1917 - val_loss: 0.5485 - val_accuracy: 0.7263 - val_MSE: 0.1819\n",
      "Epoch 46/1000\n",
      "23/23 [==============================] - 0s 2ms/step - loss: 0.5709 - accuracy: 0.7121 - MSE: 0.1924 - val_loss: 0.5470 - val_accuracy: 0.7263 - val_MSE: 0.1812\n",
      "Epoch 47/1000\n",
      "23/23 [==============================] - 0s 2ms/step - loss: 0.5690 - accuracy: 0.7177 - MSE: 0.1914 - val_loss: 0.5457 - val_accuracy: 0.7263 - val_MSE: 0.1807\n",
      "Epoch 48/1000\n",
      "23/23 [==============================] - 0s 2ms/step - loss: 0.5662 - accuracy: 0.7135 - MSE: 0.1906 - val_loss: 0.5442 - val_accuracy: 0.7263 - val_MSE: 0.1800\n",
      "Epoch 49/1000\n",
      "23/23 [==============================] - 0s 2ms/step - loss: 0.5656 - accuracy: 0.7107 - MSE: 0.1901 - val_loss: 0.5428 - val_accuracy: 0.7263 - val_MSE: 0.1794\n",
      "Epoch 50/1000\n",
      "23/23 [==============================] - 0s 2ms/step - loss: 0.5678 - accuracy: 0.7149 - MSE: 0.1910 - val_loss: 0.5417 - val_accuracy: 0.7263 - val_MSE: 0.1789\n",
      "Epoch 51/1000\n",
      "23/23 [==============================] - 0s 2ms/step - loss: 0.5619 - accuracy: 0.7205 - MSE: 0.1886 - val_loss: 0.5406 - val_accuracy: 0.7263 - val_MSE: 0.1784\n",
      "Epoch 52/1000\n",
      "23/23 [==============================] - 0s 2ms/step - loss: 0.5564 - accuracy: 0.7233 - MSE: 0.1861 - val_loss: 0.5396 - val_accuracy: 0.7263 - val_MSE: 0.1780\n",
      "Epoch 53/1000\n",
      "23/23 [==============================] - 0s 2ms/step - loss: 0.5608 - accuracy: 0.7275 - MSE: 0.1879 - val_loss: 0.5384 - val_accuracy: 0.7263 - val_MSE: 0.1774\n",
      "Epoch 54/1000\n",
      "23/23 [==============================] - 0s 3ms/step - loss: 0.5615 - accuracy: 0.7219 - MSE: 0.1882 - val_loss: 0.5372 - val_accuracy: 0.7263 - val_MSE: 0.1769\n",
      "Epoch 55/1000\n",
      "23/23 [==============================] - 0s 2ms/step - loss: 0.5547 - accuracy: 0.7331 - MSE: 0.1854 - val_loss: 0.5361 - val_accuracy: 0.7263 - val_MSE: 0.1764\n",
      "Epoch 56/1000\n",
      "23/23 [==============================] - 0s 2ms/step - loss: 0.5590 - accuracy: 0.7219 - MSE: 0.1874 - val_loss: 0.5349 - val_accuracy: 0.7263 - val_MSE: 0.1759\n",
      "Epoch 57/1000\n",
      "23/23 [==============================] - 0s 2ms/step - loss: 0.5593 - accuracy: 0.7205 - MSE: 0.1872 - val_loss: 0.5339 - val_accuracy: 0.7374 - val_MSE: 0.1755\n",
      "Epoch 58/1000\n",
      "23/23 [==============================] - 0s 2ms/step - loss: 0.5564 - accuracy: 0.7289 - MSE: 0.1857 - val_loss: 0.5329 - val_accuracy: 0.7430 - val_MSE: 0.1750\n",
      "Epoch 59/1000\n",
      "23/23 [==============================] - 0s 2ms/step - loss: 0.5563 - accuracy: 0.7303 - MSE: 0.1859 - val_loss: 0.5318 - val_accuracy: 0.7486 - val_MSE: 0.1746\n",
      "Epoch 60/1000\n",
      "23/23 [==============================] - 0s 2ms/step - loss: 0.5583 - accuracy: 0.7331 - MSE: 0.1867 - val_loss: 0.5309 - val_accuracy: 0.7486 - val_MSE: 0.1742\n",
      "Epoch 61/1000\n",
      "23/23 [==============================] - 0s 2ms/step - loss: 0.5501 - accuracy: 0.7247 - MSE: 0.1836 - val_loss: 0.5301 - val_accuracy: 0.7486 - val_MSE: 0.1738\n",
      "Epoch 62/1000\n",
      "23/23 [==============================] - 0s 2ms/step - loss: 0.5556 - accuracy: 0.7346 - MSE: 0.1854 - val_loss: 0.5292 - val_accuracy: 0.7654 - val_MSE: 0.1734\n",
      "Epoch 63/1000\n",
      "23/23 [==============================] - 0s 2ms/step - loss: 0.5535 - accuracy: 0.7374 - MSE: 0.1846 - val_loss: 0.5282 - val_accuracy: 0.7654 - val_MSE: 0.1730\n",
      "Epoch 64/1000\n",
      "23/23 [==============================] - 0s 2ms/step - loss: 0.5494 - accuracy: 0.7416 - MSE: 0.1829 - val_loss: 0.5274 - val_accuracy: 0.7654 - val_MSE: 0.1726\n",
      "Epoch 65/1000\n",
      "23/23 [==============================] - 0s 2ms/step - loss: 0.5512 - accuracy: 0.7317 - MSE: 0.1836 - val_loss: 0.5265 - val_accuracy: 0.7598 - val_MSE: 0.1723\n",
      "Epoch 66/1000\n",
      "23/23 [==============================] - 0s 2ms/step - loss: 0.5507 - accuracy: 0.7416 - MSE: 0.1832 - val_loss: 0.5256 - val_accuracy: 0.7598 - val_MSE: 0.1719\n",
      "Epoch 67/1000\n",
      "23/23 [==============================] - 0s 2ms/step - loss: 0.5486 - accuracy: 0.7388 - MSE: 0.1825 - val_loss: 0.5248 - val_accuracy: 0.7654 - val_MSE: 0.1716\n",
      "Epoch 68/1000\n",
      "23/23 [==============================] - 0s 2ms/step - loss: 0.5469 - accuracy: 0.7444 - MSE: 0.1818 - val_loss: 0.5239 - val_accuracy: 0.7654 - val_MSE: 0.1712\n",
      "Epoch 69/1000\n",
      "23/23 [==============================] - 0s 2ms/step - loss: 0.5476 - accuracy: 0.7402 - MSE: 0.1823 - val_loss: 0.5233 - val_accuracy: 0.7654 - val_MSE: 0.1709\n",
      "Epoch 70/1000\n",
      "23/23 [==============================] - 0s 2ms/step - loss: 0.5381 - accuracy: 0.7626 - MSE: 0.1778 - val_loss: 0.5225 - val_accuracy: 0.7654 - val_MSE: 0.1706\n",
      "Epoch 71/1000\n",
      "23/23 [==============================] - 0s 2ms/step - loss: 0.5470 - accuracy: 0.7388 - MSE: 0.1821 - val_loss: 0.5216 - val_accuracy: 0.7654 - val_MSE: 0.1703\n",
      "Epoch 72/1000\n",
      "23/23 [==============================] - 0s 2ms/step - loss: 0.5480 - accuracy: 0.7261 - MSE: 0.1822 - val_loss: 0.5209 - val_accuracy: 0.7654 - val_MSE: 0.1700\n",
      "Epoch 73/1000\n",
      "23/23 [==============================] - 0s 2ms/step - loss: 0.5388 - accuracy: 0.7542 - MSE: 0.1784 - val_loss: 0.5201 - val_accuracy: 0.7765 - val_MSE: 0.1697\n",
      "Epoch 74/1000\n",
      "23/23 [==============================] - 0s 2ms/step - loss: 0.5452 - accuracy: 0.7444 - MSE: 0.1808 - val_loss: 0.5194 - val_accuracy: 0.7765 - val_MSE: 0.1694\n",
      "Epoch 75/1000\n",
      "23/23 [==============================] - 0s 2ms/step - loss: 0.5444 - accuracy: 0.7500 - MSE: 0.1803 - val_loss: 0.5186 - val_accuracy: 0.7765 - val_MSE: 0.1690\n",
      "Epoch 76/1000\n",
      "23/23 [==============================] - 0s 2ms/step - loss: 0.5414 - accuracy: 0.7486 - MSE: 0.1791 - val_loss: 0.5180 - val_accuracy: 0.7765 - val_MSE: 0.1688\n",
      "Epoch 77/1000\n",
      "23/23 [==============================] - 0s 2ms/step - loss: 0.5358 - accuracy: 0.7542 - MSE: 0.1770 - val_loss: 0.5174 - val_accuracy: 0.7765 - val_MSE: 0.1685\n",
      "Epoch 78/1000\n",
      "23/23 [==============================] - 0s 2ms/step - loss: 0.5422 - accuracy: 0.7514 - MSE: 0.1797 - val_loss: 0.5167 - val_accuracy: 0.7765 - val_MSE: 0.1682\n",
      "Epoch 79/1000\n",
      "23/23 [==============================] - 0s 2ms/step - loss: 0.5435 - accuracy: 0.7500 - MSE: 0.1803 - val_loss: 0.5161 - val_accuracy: 0.7765 - val_MSE: 0.1680\n",
      "Epoch 80/1000\n",
      "23/23 [==============================] - 0s 2ms/step - loss: 0.5385 - accuracy: 0.7640 - MSE: 0.1781 - val_loss: 0.5156 - val_accuracy: 0.7765 - val_MSE: 0.1677\n",
      "Epoch 81/1000\n",
      "23/23 [==============================] - 0s 2ms/step - loss: 0.5402 - accuracy: 0.7556 - MSE: 0.1787 - val_loss: 0.5149 - val_accuracy: 0.7765 - val_MSE: 0.1675\n",
      "Epoch 82/1000\n",
      "23/23 [==============================] - 0s 2ms/step - loss: 0.5384 - accuracy: 0.7542 - MSE: 0.1782 - val_loss: 0.5142 - val_accuracy: 0.7765 - val_MSE: 0.1672\n",
      "Epoch 83/1000\n",
      "23/23 [==============================] - 0s 2ms/step - loss: 0.5351 - accuracy: 0.7626 - MSE: 0.1766 - val_loss: 0.5135 - val_accuracy: 0.7821 - val_MSE: 0.1669\n",
      "Epoch 84/1000\n",
      "23/23 [==============================] - 0s 2ms/step - loss: 0.5369 - accuracy: 0.7612 - MSE: 0.1772 - val_loss: 0.5130 - val_accuracy: 0.7821 - val_MSE: 0.1667\n",
      "Epoch 85/1000\n",
      "23/23 [==============================] - 0s 2ms/step - loss: 0.5342 - accuracy: 0.7598 - MSE: 0.1766 - val_loss: 0.5125 - val_accuracy: 0.7821 - val_MSE: 0.1664\n",
      "Epoch 86/1000\n",
      "23/23 [==============================] - 0s 2ms/step - loss: 0.5369 - accuracy: 0.7528 - MSE: 0.1779 - val_loss: 0.5117 - val_accuracy: 0.7821 - val_MSE: 0.1661\n",
      "Epoch 87/1000\n",
      "23/23 [==============================] - 0s 2ms/step - loss: 0.5330 - accuracy: 0.7640 - MSE: 0.1758 - val_loss: 0.5110 - val_accuracy: 0.7821 - val_MSE: 0.1658\n",
      "Epoch 88/1000\n",
      "23/23 [==============================] - 0s 2ms/step - loss: 0.5388 - accuracy: 0.7514 - MSE: 0.1779 - val_loss: 0.5104 - val_accuracy: 0.7821 - val_MSE: 0.1656\n",
      "Epoch 89/1000\n",
      "23/23 [==============================] - 0s 2ms/step - loss: 0.5353 - accuracy: 0.7528 - MSE: 0.1765 - val_loss: 0.5099 - val_accuracy: 0.7877 - val_MSE: 0.1654\n",
      "Epoch 90/1000\n",
      "23/23 [==============================] - 0s 2ms/step - loss: 0.5396 - accuracy: 0.7612 - MSE: 0.1784 - val_loss: 0.5095 - val_accuracy: 0.7877 - val_MSE: 0.1652\n",
      "Epoch 91/1000\n",
      "23/23 [==============================] - 0s 2ms/step - loss: 0.5321 - accuracy: 0.7725 - MSE: 0.1755 - val_loss: 0.5089 - val_accuracy: 0.7933 - val_MSE: 0.1649\n",
      "Epoch 92/1000\n",
      "23/23 [==============================] - 0s 2ms/step - loss: 0.5297 - accuracy: 0.7626 - MSE: 0.1744 - val_loss: 0.5083 - val_accuracy: 0.7933 - val_MSE: 0.1647\n",
      "Epoch 93/1000\n",
      "23/23 [==============================] - 0s 2ms/step - loss: 0.5342 - accuracy: 0.7683 - MSE: 0.1760 - val_loss: 0.5078 - val_accuracy: 0.7933 - val_MSE: 0.1644\n",
      "Epoch 94/1000\n",
      "23/23 [==============================] - 0s 2ms/step - loss: 0.5298 - accuracy: 0.7837 - MSE: 0.1739 - val_loss: 0.5074 - val_accuracy: 0.7933 - val_MSE: 0.1643\n",
      "Epoch 95/1000\n",
      "23/23 [==============================] - 0s 2ms/step - loss: 0.5327 - accuracy: 0.7612 - MSE: 0.1754 - val_loss: 0.5070 - val_accuracy: 0.7933 - val_MSE: 0.1641\n",
      "Epoch 96/1000\n",
      "23/23 [==============================] - 0s 2ms/step - loss: 0.5312 - accuracy: 0.7711 - MSE: 0.1751 - val_loss: 0.5063 - val_accuracy: 0.7933 - val_MSE: 0.1638\n",
      "Epoch 97/1000\n",
      "23/23 [==============================] - 0s 2ms/step - loss: 0.5305 - accuracy: 0.7570 - MSE: 0.1742 - val_loss: 0.5059 - val_accuracy: 0.7933 - val_MSE: 0.1636\n",
      "Epoch 98/1000\n",
      "23/23 [==============================] - 0s 2ms/step - loss: 0.5316 - accuracy: 0.7640 - MSE: 0.1752 - val_loss: 0.5054 - val_accuracy: 0.7933 - val_MSE: 0.1634\n",
      "Epoch 99/1000\n",
      "23/23 [==============================] - 0s 2ms/step - loss: 0.5328 - accuracy: 0.7626 - MSE: 0.1752 - val_loss: 0.5049 - val_accuracy: 0.7989 - val_MSE: 0.1632\n",
      "Epoch 100/1000\n",
      "23/23 [==============================] - 0s 2ms/step - loss: 0.5279 - accuracy: 0.7654 - MSE: 0.1737 - val_loss: 0.5044 - val_accuracy: 0.7989 - val_MSE: 0.1630\n",
      "Epoch 101/1000\n",
      "23/23 [==============================] - 0s 2ms/step - loss: 0.5276 - accuracy: 0.7809 - MSE: 0.1733 - val_loss: 0.5039 - val_accuracy: 0.8045 - val_MSE: 0.1627\n",
      "Epoch 102/1000\n",
      "23/23 [==============================] - 0s 2ms/step - loss: 0.5307 - accuracy: 0.7683 - MSE: 0.1745 - val_loss: 0.5033 - val_accuracy: 0.8045 - val_MSE: 0.1625\n",
      "Epoch 103/1000\n",
      "23/23 [==============================] - 0s 2ms/step - loss: 0.5217 - accuracy: 0.7851 - MSE: 0.1706 - val_loss: 0.5029 - val_accuracy: 0.8045 - val_MSE: 0.1623\n",
      "Epoch 104/1000\n",
      "23/23 [==============================] - 0s 2ms/step - loss: 0.5290 - accuracy: 0.7711 - MSE: 0.1736 - val_loss: 0.5025 - val_accuracy: 0.8045 - val_MSE: 0.1621\n",
      "Epoch 105/1000\n",
      "23/23 [==============================] - 0s 2ms/step - loss: 0.5232 - accuracy: 0.7823 - MSE: 0.1708 - val_loss: 0.5021 - val_accuracy: 0.8045 - val_MSE: 0.1620\n",
      "Epoch 106/1000\n",
      "23/23 [==============================] - 0s 2ms/step - loss: 0.5239 - accuracy: 0.7683 - MSE: 0.1719 - val_loss: 0.5015 - val_accuracy: 0.8045 - val_MSE: 0.1617\n",
      "Epoch 107/1000\n",
      "23/23 [==============================] - 0s 2ms/step - loss: 0.5287 - accuracy: 0.7697 - MSE: 0.1738 - val_loss: 0.5012 - val_accuracy: 0.8045 - val_MSE: 0.1615\n",
      "Epoch 108/1000\n",
      "23/23 [==============================] - 0s 2ms/step - loss: 0.5248 - accuracy: 0.7795 - MSE: 0.1715 - val_loss: 0.5008 - val_accuracy: 0.8045 - val_MSE: 0.1613\n",
      "Epoch 109/1000\n",
      "23/23 [==============================] - 0s 2ms/step - loss: 0.5257 - accuracy: 0.7725 - MSE: 0.1718 - val_loss: 0.5003 - val_accuracy: 0.8045 - val_MSE: 0.1612\n",
      "Epoch 110/1000\n",
      "23/23 [==============================] - 0s 2ms/step - loss: 0.5205 - accuracy: 0.7795 - MSE: 0.1701 - val_loss: 0.4999 - val_accuracy: 0.8045 - val_MSE: 0.1610\n",
      "Epoch 111/1000\n",
      "23/23 [==============================] - 0s 2ms/step - loss: 0.5294 - accuracy: 0.7640 - MSE: 0.1737 - val_loss: 0.4996 - val_accuracy: 0.8045 - val_MSE: 0.1608\n",
      "Epoch 112/1000\n",
      "23/23 [==============================] - 0s 2ms/step - loss: 0.5238 - accuracy: 0.7879 - MSE: 0.1715 - val_loss: 0.4990 - val_accuracy: 0.8045 - val_MSE: 0.1606\n",
      "Epoch 113/1000\n",
      "23/23 [==============================] - 0s 2ms/step - loss: 0.5230 - accuracy: 0.7921 - MSE: 0.1705 - val_loss: 0.4985 - val_accuracy: 0.8045 - val_MSE: 0.1604\n",
      "Epoch 114/1000\n",
      "23/23 [==============================] - 0s 2ms/step - loss: 0.5180 - accuracy: 0.7879 - MSE: 0.1692 - val_loss: 0.4981 - val_accuracy: 0.8045 - val_MSE: 0.1602\n",
      "Epoch 115/1000\n",
      "23/23 [==============================] - 0s 2ms/step - loss: 0.5217 - accuracy: 0.7837 - MSE: 0.1708 - val_loss: 0.4977 - val_accuracy: 0.8045 - val_MSE: 0.1600\n",
      "Epoch 116/1000\n",
      "23/23 [==============================] - 0s 2ms/step - loss: 0.5245 - accuracy: 0.7739 - MSE: 0.1722 - val_loss: 0.4973 - val_accuracy: 0.8101 - val_MSE: 0.1598\n",
      "Epoch 117/1000\n",
      "23/23 [==============================] - 0s 2ms/step - loss: 0.5239 - accuracy: 0.7935 - MSE: 0.1715 - val_loss: 0.4968 - val_accuracy: 0.8156 - val_MSE: 0.1596\n",
      "Epoch 118/1000\n",
      "23/23 [==============================] - 0s 2ms/step - loss: 0.5206 - accuracy: 0.7781 - MSE: 0.1706 - val_loss: 0.4963 - val_accuracy: 0.8156 - val_MSE: 0.1594\n",
      "Epoch 119/1000\n",
      "23/23 [==============================] - 0s 2ms/step - loss: 0.5190 - accuracy: 0.7851 - MSE: 0.1694 - val_loss: 0.4957 - val_accuracy: 0.8212 - val_MSE: 0.1591\n",
      "Epoch 120/1000\n",
      "23/23 [==============================] - 0s 2ms/step - loss: 0.5149 - accuracy: 0.7865 - MSE: 0.1678 - val_loss: 0.4953 - val_accuracy: 0.8156 - val_MSE: 0.1589\n",
      "Epoch 121/1000\n",
      "23/23 [==============================] - 0s 2ms/step - loss: 0.5238 - accuracy: 0.7851 - MSE: 0.1710 - val_loss: 0.4949 - val_accuracy: 0.8156 - val_MSE: 0.1587\n",
      "Epoch 122/1000\n",
      "23/23 [==============================] - 0s 2ms/step - loss: 0.5213 - accuracy: 0.7865 - MSE: 0.1690 - val_loss: 0.4946 - val_accuracy: 0.8156 - val_MSE: 0.1586\n",
      "Epoch 123/1000\n",
      "23/23 [==============================] - 0s 3ms/step - loss: 0.5220 - accuracy: 0.7851 - MSE: 0.1702 - val_loss: 0.4943 - val_accuracy: 0.8156 - val_MSE: 0.1584\n",
      "Epoch 124/1000\n",
      "23/23 [==============================] - 0s 3ms/step - loss: 0.5144 - accuracy: 0.8020 - MSE: 0.1677 - val_loss: 0.4940 - val_accuracy: 0.8156 - val_MSE: 0.1583\n",
      "Epoch 125/1000\n",
      "23/23 [==============================] - 0s 2ms/step - loss: 0.5133 - accuracy: 0.7795 - MSE: 0.1672 - val_loss: 0.4936 - val_accuracy: 0.8156 - val_MSE: 0.1581\n",
      "Epoch 126/1000\n",
      "23/23 [==============================] - 0s 2ms/step - loss: 0.5200 - accuracy: 0.7795 - MSE: 0.1700 - val_loss: 0.4934 - val_accuracy: 0.8212 - val_MSE: 0.1580\n",
      "Epoch 127/1000\n",
      "23/23 [==============================] - 0s 2ms/step - loss: 0.5189 - accuracy: 0.7893 - MSE: 0.1695 - val_loss: 0.4929 - val_accuracy: 0.8212 - val_MSE: 0.1578\n",
      "Epoch 128/1000\n",
      "23/23 [==============================] - 0s 2ms/step - loss: 0.5210 - accuracy: 0.7879 - MSE: 0.1701 - val_loss: 0.4925 - val_accuracy: 0.8268 - val_MSE: 0.1576\n",
      "Epoch 129/1000\n",
      "23/23 [==============================] - 0s 2ms/step - loss: 0.5229 - accuracy: 0.7837 - MSE: 0.1709 - val_loss: 0.4921 - val_accuracy: 0.8268 - val_MSE: 0.1574\n",
      "Epoch 130/1000\n",
      "23/23 [==============================] - 0s 2ms/step - loss: 0.5201 - accuracy: 0.7907 - MSE: 0.1700 - val_loss: 0.4916 - val_accuracy: 0.8268 - val_MSE: 0.1572\n",
      "Epoch 131/1000\n",
      "23/23 [==============================] - 0s 2ms/step - loss: 0.5258 - accuracy: 0.7865 - MSE: 0.1724 - val_loss: 0.4910 - val_accuracy: 0.8268 - val_MSE: 0.1570\n",
      "Epoch 132/1000\n",
      "23/23 [==============================] - 0s 3ms/step - loss: 0.5180 - accuracy: 0.7781 - MSE: 0.1689 - val_loss: 0.4908 - val_accuracy: 0.8268 - val_MSE: 0.1569\n",
      "Epoch 133/1000\n",
      "23/23 [==============================] - 0s 2ms/step - loss: 0.5139 - accuracy: 0.7823 - MSE: 0.1675 - val_loss: 0.4902 - val_accuracy: 0.8268 - val_MSE: 0.1566\n",
      "Epoch 134/1000\n",
      "23/23 [==============================] - 0s 2ms/step - loss: 0.5164 - accuracy: 0.7893 - MSE: 0.1682 - val_loss: 0.4898 - val_accuracy: 0.8268 - val_MSE: 0.1564\n",
      "Epoch 135/1000\n",
      "23/23 [==============================] - 0s 2ms/step - loss: 0.5202 - accuracy: 0.7739 - MSE: 0.1698 - val_loss: 0.4893 - val_accuracy: 0.8268 - val_MSE: 0.1562\n",
      "Epoch 136/1000\n",
      "23/23 [==============================] - 0s 2ms/step - loss: 0.5099 - accuracy: 0.7851 - MSE: 0.1655 - val_loss: 0.4889 - val_accuracy: 0.8268 - val_MSE: 0.1561\n",
      "Epoch 137/1000\n",
      "23/23 [==============================] - 0s 2ms/step - loss: 0.5140 - accuracy: 0.7837 - MSE: 0.1673 - val_loss: 0.4885 - val_accuracy: 0.8268 - val_MSE: 0.1559\n",
      "Epoch 138/1000\n",
      "23/23 [==============================] - 0s 2ms/step - loss: 0.5168 - accuracy: 0.7837 - MSE: 0.1683 - val_loss: 0.4881 - val_accuracy: 0.8268 - val_MSE: 0.1557\n",
      "Epoch 139/1000\n",
      "23/23 [==============================] - 0s 2ms/step - loss: 0.5125 - accuracy: 0.7992 - MSE: 0.1665 - val_loss: 0.4878 - val_accuracy: 0.8268 - val_MSE: 0.1556\n",
      "Epoch 140/1000\n",
      "23/23 [==============================] - 0s 2ms/step - loss: 0.5048 - accuracy: 0.7978 - MSE: 0.1631 - val_loss: 0.4875 - val_accuracy: 0.8268 - val_MSE: 0.1555\n",
      "Epoch 141/1000\n",
      "23/23 [==============================] - 0s 2ms/step - loss: 0.5082 - accuracy: 0.8006 - MSE: 0.1651 - val_loss: 0.4869 - val_accuracy: 0.8268 - val_MSE: 0.1552\n",
      "Epoch 142/1000\n",
      "23/23 [==============================] - 0s 2ms/step - loss: 0.5165 - accuracy: 0.7865 - MSE: 0.1681 - val_loss: 0.4864 - val_accuracy: 0.8268 - val_MSE: 0.1550\n",
      "Epoch 143/1000\n",
      "23/23 [==============================] - 0s 2ms/step - loss: 0.5101 - accuracy: 0.7921 - MSE: 0.1656 - val_loss: 0.4860 - val_accuracy: 0.8268 - val_MSE: 0.1548\n",
      "Epoch 144/1000\n",
      "23/23 [==============================] - 0s 2ms/step - loss: 0.5032 - accuracy: 0.7879 - MSE: 0.1630 - val_loss: 0.4855 - val_accuracy: 0.8268 - val_MSE: 0.1546\n",
      "Epoch 145/1000\n",
      "23/23 [==============================] - 0s 2ms/step - loss: 0.5119 - accuracy: 0.7963 - MSE: 0.1661 - val_loss: 0.4852 - val_accuracy: 0.8268 - val_MSE: 0.1544\n",
      "Epoch 146/1000\n",
      "23/23 [==============================] - 0s 2ms/step - loss: 0.5099 - accuracy: 0.7865 - MSE: 0.1656 - val_loss: 0.4848 - val_accuracy: 0.8268 - val_MSE: 0.1543\n",
      "Epoch 147/1000\n",
      "23/23 [==============================] - 0s 2ms/step - loss: 0.5044 - accuracy: 0.7963 - MSE: 0.1631 - val_loss: 0.4844 - val_accuracy: 0.8268 - val_MSE: 0.1541\n",
      "Epoch 148/1000\n",
      "23/23 [==============================] - 0s 2ms/step - loss: 0.5111 - accuracy: 0.7893 - MSE: 0.1653 - val_loss: 0.4840 - val_accuracy: 0.8268 - val_MSE: 0.1540\n",
      "Epoch 149/1000\n",
      "23/23 [==============================] - 0s 2ms/step - loss: 0.5078 - accuracy: 0.7978 - MSE: 0.1645 - val_loss: 0.4836 - val_accuracy: 0.8268 - val_MSE: 0.1537\n",
      "Epoch 150/1000\n",
      "23/23 [==============================] - 0s 2ms/step - loss: 0.5122 - accuracy: 0.7949 - MSE: 0.1661 - val_loss: 0.4832 - val_accuracy: 0.8268 - val_MSE: 0.1536\n",
      "Epoch 151/1000\n",
      "23/23 [==============================] - 0s 2ms/step - loss: 0.5063 - accuracy: 0.7978 - MSE: 0.1640 - val_loss: 0.4828 - val_accuracy: 0.8268 - val_MSE: 0.1534\n",
      "Epoch 152/1000\n",
      "23/23 [==============================] - 0s 2ms/step - loss: 0.5047 - accuracy: 0.8076 - MSE: 0.1633 - val_loss: 0.4824 - val_accuracy: 0.8268 - val_MSE: 0.1532\n",
      "Epoch 153/1000\n",
      "23/23 [==============================] - 0s 2ms/step - loss: 0.5125 - accuracy: 0.7921 - MSE: 0.1665 - val_loss: 0.4822 - val_accuracy: 0.8268 - val_MSE: 0.1531\n",
      "Epoch 154/1000\n",
      "23/23 [==============================] - 0s 2ms/step - loss: 0.5073 - accuracy: 0.7963 - MSE: 0.1646 - val_loss: 0.4817 - val_accuracy: 0.8268 - val_MSE: 0.1529\n",
      "Epoch 155/1000\n",
      "23/23 [==============================] - 0s 2ms/step - loss: 0.5121 - accuracy: 0.7879 - MSE: 0.1667 - val_loss: 0.4813 - val_accuracy: 0.8268 - val_MSE: 0.1527\n",
      "Epoch 156/1000\n",
      "23/23 [==============================] - 0s 2ms/step - loss: 0.5026 - accuracy: 0.7935 - MSE: 0.1627 - val_loss: 0.4810 - val_accuracy: 0.8268 - val_MSE: 0.1526\n",
      "Epoch 157/1000\n",
      "23/23 [==============================] - 0s 2ms/step - loss: 0.5076 - accuracy: 0.7865 - MSE: 0.1645 - val_loss: 0.4807 - val_accuracy: 0.8268 - val_MSE: 0.1524\n",
      "Epoch 158/1000\n",
      "23/23 [==============================] - 0s 2ms/step - loss: 0.5030 - accuracy: 0.7893 - MSE: 0.1633 - val_loss: 0.4802 - val_accuracy: 0.8268 - val_MSE: 0.1522\n",
      "Epoch 159/1000\n",
      "23/23 [==============================] - 0s 2ms/step - loss: 0.5004 - accuracy: 0.7921 - MSE: 0.1615 - val_loss: 0.4799 - val_accuracy: 0.8268 - val_MSE: 0.1521\n",
      "Epoch 160/1000\n",
      "23/23 [==============================] - 0s 2ms/step - loss: 0.5010 - accuracy: 0.8034 - MSE: 0.1616 - val_loss: 0.4794 - val_accuracy: 0.8268 - val_MSE: 0.1519\n",
      "Epoch 161/1000\n",
      "23/23 [==============================] - 0s 2ms/step - loss: 0.5081 - accuracy: 0.7795 - MSE: 0.1644 - val_loss: 0.4790 - val_accuracy: 0.8268 - val_MSE: 0.1517\n",
      "Epoch 162/1000\n",
      "23/23 [==============================] - 0s 2ms/step - loss: 0.5094 - accuracy: 0.7907 - MSE: 0.1650 - val_loss: 0.4786 - val_accuracy: 0.8268 - val_MSE: 0.1515\n",
      "Epoch 163/1000\n",
      "23/23 [==============================] - 0s 2ms/step - loss: 0.5019 - accuracy: 0.7823 - MSE: 0.1624 - val_loss: 0.4782 - val_accuracy: 0.8268 - val_MSE: 0.1514\n",
      "Epoch 164/1000\n",
      "23/23 [==============================] - 0s 2ms/step - loss: 0.5091 - accuracy: 0.7907 - MSE: 0.1652 - val_loss: 0.4778 - val_accuracy: 0.8268 - val_MSE: 0.1512\n",
      "Epoch 165/1000\n",
      "23/23 [==============================] - 0s 2ms/step - loss: 0.4958 - accuracy: 0.7992 - MSE: 0.1601 - val_loss: 0.4773 - val_accuracy: 0.8268 - val_MSE: 0.1510\n",
      "Epoch 166/1000\n",
      "23/23 [==============================] - 0s 2ms/step - loss: 0.5014 - accuracy: 0.7992 - MSE: 0.1612 - val_loss: 0.4769 - val_accuracy: 0.8268 - val_MSE: 0.1508\n",
      "Epoch 167/1000\n",
      "23/23 [==============================] - 0s 2ms/step - loss: 0.5016 - accuracy: 0.7992 - MSE: 0.1617 - val_loss: 0.4765 - val_accuracy: 0.8268 - val_MSE: 0.1506\n",
      "Epoch 168/1000\n",
      "23/23 [==============================] - 0s 2ms/step - loss: 0.5019 - accuracy: 0.7879 - MSE: 0.1621 - val_loss: 0.4760 - val_accuracy: 0.8268 - val_MSE: 0.1504\n",
      "Epoch 169/1000\n",
      "23/23 [==============================] - 0s 2ms/step - loss: 0.5016 - accuracy: 0.7978 - MSE: 0.1616 - val_loss: 0.4757 - val_accuracy: 0.8268 - val_MSE: 0.1503\n",
      "Epoch 170/1000\n",
      "23/23 [==============================] - 0s 2ms/step - loss: 0.5054 - accuracy: 0.7851 - MSE: 0.1635 - val_loss: 0.4754 - val_accuracy: 0.8268 - val_MSE: 0.1502\n",
      "Epoch 171/1000\n",
      "23/23 [==============================] - 0s 2ms/step - loss: 0.5021 - accuracy: 0.7992 - MSE: 0.1618 - val_loss: 0.4749 - val_accuracy: 0.8268 - val_MSE: 0.1499\n",
      "Epoch 172/1000\n",
      "23/23 [==============================] - 0s 2ms/step - loss: 0.4986 - accuracy: 0.7949 - MSE: 0.1608 - val_loss: 0.4745 - val_accuracy: 0.8212 - val_MSE: 0.1498\n",
      "Epoch 173/1000\n",
      "23/23 [==============================] - 0s 2ms/step - loss: 0.5005 - accuracy: 0.8062 - MSE: 0.1613 - val_loss: 0.4741 - val_accuracy: 0.8212 - val_MSE: 0.1496\n",
      "Epoch 174/1000\n",
      "23/23 [==============================] - 0s 2ms/step - loss: 0.4999 - accuracy: 0.7837 - MSE: 0.1612 - val_loss: 0.4739 - val_accuracy: 0.8212 - val_MSE: 0.1495\n",
      "Epoch 175/1000\n",
      "23/23 [==============================] - 0s 2ms/step - loss: 0.5024 - accuracy: 0.7921 - MSE: 0.1622 - val_loss: 0.4733 - val_accuracy: 0.8212 - val_MSE: 0.1493\n",
      "Epoch 176/1000\n",
      "23/23 [==============================] - 0s 2ms/step - loss: 0.5010 - accuracy: 0.7935 - MSE: 0.1619 - val_loss: 0.4728 - val_accuracy: 0.8212 - val_MSE: 0.1490\n",
      "Epoch 177/1000\n",
      "23/23 [==============================] - 0s 2ms/step - loss: 0.5003 - accuracy: 0.7907 - MSE: 0.1612 - val_loss: 0.4724 - val_accuracy: 0.8268 - val_MSE: 0.1488\n",
      "Epoch 178/1000\n",
      "23/23 [==============================] - 0s 2ms/step - loss: 0.5041 - accuracy: 0.7879 - MSE: 0.1622 - val_loss: 0.4721 - val_accuracy: 0.8268 - val_MSE: 0.1487\n",
      "Epoch 179/1000\n",
      "23/23 [==============================] - 0s 2ms/step - loss: 0.4948 - accuracy: 0.8034 - MSE: 0.1589 - val_loss: 0.4718 - val_accuracy: 0.8268 - val_MSE: 0.1486\n",
      "Epoch 180/1000\n",
      "23/23 [==============================] - 0s 2ms/step - loss: 0.4932 - accuracy: 0.7978 - MSE: 0.1588 - val_loss: 0.4715 - val_accuracy: 0.8268 - val_MSE: 0.1484\n",
      "Epoch 181/1000\n",
      "23/23 [==============================] - 0s 2ms/step - loss: 0.5030 - accuracy: 0.7949 - MSE: 0.1621 - val_loss: 0.4710 - val_accuracy: 0.8268 - val_MSE: 0.1483\n",
      "Epoch 182/1000\n",
      "23/23 [==============================] - 0s 2ms/step - loss: 0.4973 - accuracy: 0.7921 - MSE: 0.1604 - val_loss: 0.4707 - val_accuracy: 0.8268 - val_MSE: 0.1481\n",
      "Epoch 183/1000\n",
      "23/23 [==============================] - 0s 2ms/step - loss: 0.4956 - accuracy: 0.8006 - MSE: 0.1596 - val_loss: 0.4703 - val_accuracy: 0.8268 - val_MSE: 0.1479\n",
      "Epoch 184/1000\n",
      "23/23 [==============================] - 0s 2ms/step - loss: 0.4940 - accuracy: 0.7949 - MSE: 0.1593 - val_loss: 0.4701 - val_accuracy: 0.8212 - val_MSE: 0.1478\n",
      "Epoch 185/1000\n",
      "23/23 [==============================] - 0s 2ms/step - loss: 0.4947 - accuracy: 0.7978 - MSE: 0.1591 - val_loss: 0.4698 - val_accuracy: 0.8212 - val_MSE: 0.1477\n",
      "Epoch 186/1000\n",
      "23/23 [==============================] - 0s 2ms/step - loss: 0.5004 - accuracy: 0.7893 - MSE: 0.1611 - val_loss: 0.4694 - val_accuracy: 0.8212 - val_MSE: 0.1476\n",
      "Epoch 187/1000\n",
      "23/23 [==============================] - 0s 2ms/step - loss: 0.5008 - accuracy: 0.7992 - MSE: 0.1614 - val_loss: 0.4689 - val_accuracy: 0.8212 - val_MSE: 0.1473\n",
      "Epoch 188/1000\n",
      "23/23 [==============================] - 0s 3ms/step - loss: 0.4972 - accuracy: 0.7992 - MSE: 0.1601 - val_loss: 0.4686 - val_accuracy: 0.8212 - val_MSE: 0.1472\n",
      "Epoch 189/1000\n",
      "23/23 [==============================] - 0s 3ms/step - loss: 0.4954 - accuracy: 0.8006 - MSE: 0.1596 - val_loss: 0.4682 - val_accuracy: 0.8212 - val_MSE: 0.1470\n",
      "Epoch 190/1000\n",
      "23/23 [==============================] - 0s 3ms/step - loss: 0.4987 - accuracy: 0.7921 - MSE: 0.1610 - val_loss: 0.4679 - val_accuracy: 0.8212 - val_MSE: 0.1469\n",
      "Epoch 191/1000\n",
      "23/23 [==============================] - 0s 2ms/step - loss: 0.4930 - accuracy: 0.8006 - MSE: 0.1584 - val_loss: 0.4675 - val_accuracy: 0.8212 - val_MSE: 0.1467\n",
      "Epoch 192/1000\n",
      "23/23 [==============================] - 0s 3ms/step - loss: 0.4982 - accuracy: 0.7963 - MSE: 0.1600 - val_loss: 0.4672 - val_accuracy: 0.8212 - val_MSE: 0.1466\n",
      "Epoch 193/1000\n",
      "23/23 [==============================] - 0s 3ms/step - loss: 0.4963 - accuracy: 0.8020 - MSE: 0.1593 - val_loss: 0.4666 - val_accuracy: 0.8212 - val_MSE: 0.1464\n",
      "Epoch 194/1000\n",
      "23/23 [==============================] - 0s 3ms/step - loss: 0.5000 - accuracy: 0.7935 - MSE: 0.1607 - val_loss: 0.4662 - val_accuracy: 0.8212 - val_MSE: 0.1462\n",
      "Epoch 195/1000\n",
      "23/23 [==============================] - 0s 3ms/step - loss: 0.4964 - accuracy: 0.7992 - MSE: 0.1593 - val_loss: 0.4659 - val_accuracy: 0.8212 - val_MSE: 0.1461\n",
      "Epoch 196/1000\n",
      "23/23 [==============================] - 0s 2ms/step - loss: 0.4930 - accuracy: 0.7949 - MSE: 0.1582 - val_loss: 0.4656 - val_accuracy: 0.8212 - val_MSE: 0.1460\n",
      "Epoch 197/1000\n",
      "23/23 [==============================] - 0s 2ms/step - loss: 0.4927 - accuracy: 0.7963 - MSE: 0.1582 - val_loss: 0.4654 - val_accuracy: 0.8212 - val_MSE: 0.1458\n",
      "Epoch 198/1000\n",
      "23/23 [==============================] - 0s 2ms/step - loss: 0.4918 - accuracy: 0.7978 - MSE: 0.1578 - val_loss: 0.4650 - val_accuracy: 0.8212 - val_MSE: 0.1457\n",
      "Epoch 199/1000\n",
      "23/23 [==============================] - 0s 2ms/step - loss: 0.4950 - accuracy: 0.7949 - MSE: 0.1589 - val_loss: 0.4648 - val_accuracy: 0.8212 - val_MSE: 0.1456\n",
      "Epoch 200/1000\n",
      "23/23 [==============================] - 0s 2ms/step - loss: 0.4917 - accuracy: 0.7935 - MSE: 0.1582 - val_loss: 0.4646 - val_accuracy: 0.8212 - val_MSE: 0.1455\n",
      "Epoch 201/1000\n",
      "23/23 [==============================] - 0s 2ms/step - loss: 0.4885 - accuracy: 0.7921 - MSE: 0.1564 - val_loss: 0.4642 - val_accuracy: 0.8212 - val_MSE: 0.1453\n",
      "Epoch 202/1000\n",
      "23/23 [==============================] - 0s 2ms/step - loss: 0.4915 - accuracy: 0.8034 - MSE: 0.1580 - val_loss: 0.4637 - val_accuracy: 0.8212 - val_MSE: 0.1451\n",
      "Epoch 203/1000\n",
      "23/23 [==============================] - 0s 2ms/step - loss: 0.4945 - accuracy: 0.7935 - MSE: 0.1590 - val_loss: 0.4634 - val_accuracy: 0.8268 - val_MSE: 0.1450\n",
      "Epoch 204/1000\n",
      "23/23 [==============================] - 0s 2ms/step - loss: 0.4965 - accuracy: 0.7809 - MSE: 0.1594 - val_loss: 0.4632 - val_accuracy: 0.8212 - val_MSE: 0.1450\n",
      "Epoch 205/1000\n",
      "23/23 [==============================] - 0s 2ms/step - loss: 0.4939 - accuracy: 0.7865 - MSE: 0.1586 - val_loss: 0.4629 - val_accuracy: 0.8268 - val_MSE: 0.1448\n",
      "Epoch 206/1000\n",
      "23/23 [==============================] - 0s 2ms/step - loss: 0.4955 - accuracy: 0.8048 - MSE: 0.1589 - val_loss: 0.4623 - val_accuracy: 0.8212 - val_MSE: 0.1446\n",
      "Epoch 207/1000\n",
      "23/23 [==============================] - 0s 2ms/step - loss: 0.4879 - accuracy: 0.7992 - MSE: 0.1564 - val_loss: 0.4620 - val_accuracy: 0.8268 - val_MSE: 0.1445\n",
      "Epoch 208/1000\n",
      "23/23 [==============================] - 0s 2ms/step - loss: 0.4916 - accuracy: 0.7865 - MSE: 0.1581 - val_loss: 0.4617 - val_accuracy: 0.8268 - val_MSE: 0.1443\n",
      "Epoch 209/1000\n",
      "23/23 [==============================] - 0s 2ms/step - loss: 0.4926 - accuracy: 0.8034 - MSE: 0.1579 - val_loss: 0.4614 - val_accuracy: 0.8268 - val_MSE: 0.1442\n",
      "Epoch 210/1000\n",
      "23/23 [==============================] - 0s 2ms/step - loss: 0.4867 - accuracy: 0.7921 - MSE: 0.1555 - val_loss: 0.4611 - val_accuracy: 0.8380 - val_MSE: 0.1441\n",
      "Epoch 211/1000\n",
      "23/23 [==============================] - 0s 2ms/step - loss: 0.4890 - accuracy: 0.8006 - MSE: 0.1570 - val_loss: 0.4607 - val_accuracy: 0.8324 - val_MSE: 0.1439\n",
      "Epoch 212/1000\n",
      "23/23 [==============================] - 0s 2ms/step - loss: 0.4935 - accuracy: 0.7978 - MSE: 0.1583 - val_loss: 0.4605 - val_accuracy: 0.8324 - val_MSE: 0.1438\n",
      "Epoch 213/1000\n",
      "23/23 [==============================] - 0s 2ms/step - loss: 0.4972 - accuracy: 0.7907 - MSE: 0.1591 - val_loss: 0.4601 - val_accuracy: 0.8380 - val_MSE: 0.1437\n",
      "Epoch 214/1000\n",
      "23/23 [==============================] - 0s 2ms/step - loss: 0.4833 - accuracy: 0.8020 - MSE: 0.1549 - val_loss: 0.4597 - val_accuracy: 0.8324 - val_MSE: 0.1435\n",
      "Epoch 215/1000\n",
      "23/23 [==============================] - 0s 2ms/step - loss: 0.4857 - accuracy: 0.7978 - MSE: 0.1552 - val_loss: 0.4596 - val_accuracy: 0.8324 - val_MSE: 0.1435\n",
      "Epoch 216/1000\n",
      "23/23 [==============================] - 0s 2ms/step - loss: 0.4852 - accuracy: 0.8118 - MSE: 0.1547 - val_loss: 0.4591 - val_accuracy: 0.8268 - val_MSE: 0.1433\n",
      "Epoch 217/1000\n",
      "23/23 [==============================] - 0s 2ms/step - loss: 0.4958 - accuracy: 0.7893 - MSE: 0.1593 - val_loss: 0.4587 - val_accuracy: 0.8268 - val_MSE: 0.1431\n",
      "Epoch 218/1000\n",
      "23/23 [==============================] - 0s 2ms/step - loss: 0.4880 - accuracy: 0.7978 - MSE: 0.1562 - val_loss: 0.4585 - val_accuracy: 0.8324 - val_MSE: 0.1430\n",
      "Epoch 219/1000\n",
      "23/23 [==============================] - 0s 2ms/step - loss: 0.4838 - accuracy: 0.8006 - MSE: 0.1546 - val_loss: 0.4582 - val_accuracy: 0.8268 - val_MSE: 0.1429\n",
      "Epoch 220/1000\n",
      "23/23 [==============================] - 0s 2ms/step - loss: 0.4841 - accuracy: 0.8020 - MSE: 0.1545 - val_loss: 0.4581 - val_accuracy: 0.8268 - val_MSE: 0.1429\n",
      "Epoch 221/1000\n",
      "23/23 [==============================] - 0s 2ms/step - loss: 0.4915 - accuracy: 0.8020 - MSE: 0.1571 - val_loss: 0.4577 - val_accuracy: 0.8268 - val_MSE: 0.1427\n",
      "Epoch 222/1000\n",
      "23/23 [==============================] - 0s 2ms/step - loss: 0.4883 - accuracy: 0.7992 - MSE: 0.1564 - val_loss: 0.4574 - val_accuracy: 0.8268 - val_MSE: 0.1426\n",
      "Epoch 223/1000\n",
      "23/23 [==============================] - 0s 2ms/step - loss: 0.4889 - accuracy: 0.7935 - MSE: 0.1569 - val_loss: 0.4571 - val_accuracy: 0.8268 - val_MSE: 0.1425\n",
      "Epoch 224/1000\n",
      "23/23 [==============================] - 0s 2ms/step - loss: 0.4879 - accuracy: 0.8034 - MSE: 0.1563 - val_loss: 0.4568 - val_accuracy: 0.8268 - val_MSE: 0.1423\n",
      "Epoch 225/1000\n",
      "23/23 [==============================] - 0s 2ms/step - loss: 0.4921 - accuracy: 0.7935 - MSE: 0.1575 - val_loss: 0.4565 - val_accuracy: 0.8380 - val_MSE: 0.1422\n",
      "Epoch 226/1000\n",
      "23/23 [==============================] - 0s 2ms/step - loss: 0.4833 - accuracy: 0.8006 - MSE: 0.1546 - val_loss: 0.4563 - val_accuracy: 0.8324 - val_MSE: 0.1421\n",
      "Epoch 227/1000\n",
      "23/23 [==============================] - 0s 2ms/step - loss: 0.4858 - accuracy: 0.7865 - MSE: 0.1553 - val_loss: 0.4562 - val_accuracy: 0.8268 - val_MSE: 0.1421\n",
      "Epoch 228/1000\n",
      "23/23 [==============================] - 0s 2ms/step - loss: 0.4840 - accuracy: 0.7978 - MSE: 0.1549 - val_loss: 0.4561 - val_accuracy: 0.8324 - val_MSE: 0.1421\n",
      "Epoch 229/1000\n",
      "23/23 [==============================] - 0s 2ms/step - loss: 0.4876 - accuracy: 0.8020 - MSE: 0.1564 - val_loss: 0.4558 - val_accuracy: 0.8324 - val_MSE: 0.1419\n",
      "Epoch 230/1000\n",
      "23/23 [==============================] - 0s 2ms/step - loss: 0.4812 - accuracy: 0.7963 - MSE: 0.1539 - val_loss: 0.4553 - val_accuracy: 0.8324 - val_MSE: 0.1418\n",
      "Epoch 231/1000\n",
      "23/23 [==============================] - 0s 2ms/step - loss: 0.4779 - accuracy: 0.7978 - MSE: 0.1525 - val_loss: 0.4548 - val_accuracy: 0.8324 - val_MSE: 0.1416\n",
      "Epoch 232/1000\n",
      "23/23 [==============================] - 0s 2ms/step - loss: 0.4869 - accuracy: 0.8020 - MSE: 0.1559 - val_loss: 0.4544 - val_accuracy: 0.8324 - val_MSE: 0.1414\n",
      "Epoch 233/1000\n",
      "23/23 [==============================] - 0s 2ms/step - loss: 0.4906 - accuracy: 0.7935 - MSE: 0.1572 - val_loss: 0.4541 - val_accuracy: 0.8380 - val_MSE: 0.1413\n",
      "Epoch 234/1000\n",
      "23/23 [==============================] - 0s 2ms/step - loss: 0.4827 - accuracy: 0.8020 - MSE: 0.1546 - val_loss: 0.4538 - val_accuracy: 0.8380 - val_MSE: 0.1412\n",
      "Epoch 235/1000\n",
      "23/23 [==============================] - 0s 2ms/step - loss: 0.4839 - accuracy: 0.7978 - MSE: 0.1546 - val_loss: 0.4536 - val_accuracy: 0.8380 - val_MSE: 0.1411\n",
      "Epoch 236/1000\n",
      "23/23 [==============================] - 0s 2ms/step - loss: 0.4866 - accuracy: 0.7978 - MSE: 0.1549 - val_loss: 0.4534 - val_accuracy: 0.8380 - val_MSE: 0.1410\n",
      "Epoch 237/1000\n",
      "23/23 [==============================] - 0s 2ms/step - loss: 0.4868 - accuracy: 0.7978 - MSE: 0.1554 - val_loss: 0.4529 - val_accuracy: 0.8380 - val_MSE: 0.1408\n",
      "Epoch 238/1000\n",
      "23/23 [==============================] - 0s 2ms/step - loss: 0.4781 - accuracy: 0.7963 - MSE: 0.1529 - val_loss: 0.4525 - val_accuracy: 0.8380 - val_MSE: 0.1406\n",
      "Epoch 239/1000\n",
      "23/23 [==============================] - 0s 2ms/step - loss: 0.4778 - accuracy: 0.8006 - MSE: 0.1518 - val_loss: 0.4523 - val_accuracy: 0.8380 - val_MSE: 0.1406\n",
      "Epoch 240/1000\n",
      "23/23 [==============================] - 0s 2ms/step - loss: 0.4884 - accuracy: 0.7921 - MSE: 0.1565 - val_loss: 0.4521 - val_accuracy: 0.8380 - val_MSE: 0.1405\n",
      "Epoch 241/1000\n",
      "23/23 [==============================] - 0s 2ms/step - loss: 0.4860 - accuracy: 0.7963 - MSE: 0.1558 - val_loss: 0.4517 - val_accuracy: 0.8380 - val_MSE: 0.1403\n",
      "Epoch 242/1000\n",
      "23/23 [==============================] - 0s 2ms/step - loss: 0.4851 - accuracy: 0.8034 - MSE: 0.1547 - val_loss: 0.4517 - val_accuracy: 0.8380 - val_MSE: 0.1404\n"
     ]
    }
   ],
   "source": [
    "model.compile(loss='binary_crossentropy',optimizer=tf.keras.optimizers.SGD(lr=0.0001, momentum=0.9),metrics=['accuracy', 'MSE'])\n",
    "history = model.fit(X_train, y_train, epochs=1000, validation_split=.2, callbacks=tf.keras.callbacks.EarlyStopping(monitor='val_loss'))"
   ]
  },
  {
   "cell_type": "code",
   "execution_count": 50,
   "metadata": {
    "execution": {
     "iopub.execute_input": "2021-01-12T00:34:36.531994Z",
     "iopub.status.busy": "2021-01-12T00:34:36.526668Z",
     "iopub.status.idle": "2021-01-12T00:34:37.055702Z",
     "shell.execute_reply": "2021-01-12T00:34:37.055061Z"
    },
    "papermill": {
     "duration": 0.816474,
     "end_time": "2021-01-12T00:34:37.055828",
     "exception": false,
     "start_time": "2021-01-12T00:34:36.239354",
     "status": "completed"
    },
    "tags": []
   },
   "outputs": [
    {
     "data": {
      "image/png": "[encoded data removed]",
      "text/plain": [
       "<Figure size 806.4x453.6 with 1 Axes>"
      ]
     },
     "metadata": {
      "needs_background": "light"
     },
     "output_type": "display_data"
    },
    {
     "data": {
      "image/png": "[encoded data removed]",
      "text/plain": [
       "<Figure size 806.4x453.6 with 1 Axes>"
      ]
     },
     "metadata": {
      "needs_background": "light"
     },
     "output_type": "display_data"
    },
    {
     "data": {
      "image/png": "[encoded data removed]",
      "text/plain": [
       "<Figure size 806.4x453.6 with 1 Axes>"
      ]
     },
     "metadata": {
      "needs_background": "light"
     },
     "output_type": "display_data"
    }
   ],
   "source": [
    "plt.figure(figsize=(16*.7,9*.7))\n",
    "plt.plot(history.history['loss'], 'r', label='loss')\n",
    "plt.plot(history.history['val_loss'], 'b', label='val_loss')\n",
    "plt.title('Loss')\n",
    "plt.legend()\n",
    "plt.show()\n",
    "\n",
    "plt.figure(figsize=(16*.7,9*.7))\n",
    "plt.plot(history.history['accuracy'], 'r', label='accuracy')\n",
    "plt.plot(history.history['val_accuracy'], 'b', label='val_accuracy')\n",
    "plt.title('Accuracy')\n",
    "plt.legend()\n",
    "plt.show()\n",
    "\n",
    "plt.figure(figsize=(16*.7,9*.7))\n",
    "plt.plot(history.history['MSE'], 'r', label='MSE')\n",
    "plt.plot(history.history['val_MSE'], 'b', label='val_MSE')\n",
    "plt.title('MSE')\n",
    "plt.legend()\n",
    "plt.show()"
   ]
  },
  {
   "cell_type": "code",
   "execution_count": 51,
   "metadata": {
    "execution": {
     "iopub.execute_input": "2021-01-12T00:34:37.626030Z",
     "iopub.status.busy": "2021-01-12T00:34:37.625321Z",
     "iopub.status.idle": "2021-01-12T00:34:37.630203Z",
     "shell.execute_reply": "2021-01-12T00:34:37.630710Z"
    },
    "papermill": {
     "duration": 0.292536,
     "end_time": "2021-01-12T00:34:37.630870",
     "exception": false,
     "start_time": "2021-01-12T00:34:37.338334",
     "status": "completed"
    },
    "tags": []
   },
   "outputs": [],
   "source": [
    "from sklearn.metrics import confusion_matrix, accuracy_score"
   ]
  },
  {
   "cell_type": "code",
   "execution_count": 52,
   "metadata": {
    "execution": {
     "iopub.execute_input": "2021-01-12T00:34:38.224220Z",
     "iopub.status.busy": "2021-01-12T00:34:38.223159Z",
     "iopub.status.idle": "2021-01-12T00:34:38.348805Z",
     "shell.execute_reply": "2021-01-12T00:34:38.349358Z"
    },
    "papermill": {
     "duration": 0.430694,
     "end_time": "2021-01-12T00:34:38.349553",
     "exception": false,
     "start_time": "2021-01-12T00:34:37.918859",
     "status": "completed"
    },
    "tags": []
   },
   "outputs": [
    {
     "name": "stdout",
     "output_type": "stream",
     "text": [
      "Correlation Matrix:\n",
      "[[1.         0.59291357]\n",
      " [0.59291357 1.        ]]\n",
      "\n",
      "\n",
      "Confusion Matrix:\n",
      "[[508  41]\n",
      " [128 214]]\n",
      "\n",
      "\n",
      "Accuracy Matrix:\n",
      "0.8103254769921436\n"
     ]
    }
   ],
   "source": [
    "classifications = model.predict(X_train)\n",
    "for i, ival in enumerate(classifications):\n",
    "    if ival >= 0.5: classifications[i] = 1\n",
    "    else: classifications[i] = 0\n",
    "print(f'Correlation Matrix:\\n{np.corrcoef(classifications[:,0], y_train)}\\n\\n')\n",
    "print(f'Confusion Matrix:\\n{confusion_matrix(y_train, classifications)}\\n\\n')\n",
    "print(f'Accuracy Matrix:\\n{accuracy_score(y_train, classifications)}')"
   ]
  },
  {
   "cell_type": "code",
   "execution_count": 53,
   "metadata": {
    "execution": {
     "iopub.execute_input": "2021-01-12T00:34:38.991788Z",
     "iopub.status.busy": "2021-01-12T00:34:38.990695Z",
     "iopub.status.idle": "2021-01-12T00:34:39.041991Z",
     "shell.execute_reply": "2021-01-12T00:34:39.041373Z"
    },
    "papermill": {
     "duration": 0.399895,
     "end_time": "2021-01-12T00:34:39.042124",
     "exception": false,
     "start_time": "2021-01-12T00:34:38.642229",
     "status": "completed"
    },
    "tags": []
   },
   "outputs": [],
   "source": [
    "df_test_X = norm.fit_transform(df_test)\n",
    "df_test_y = model.predict(df_test_X)\n",
    "for i, ival in enumerate(df_test_y):\n",
    "    if ival >= 0.5: df_test_y[i] = 1\n",
    "    else: df_test_y[i] = 0"
   ]
  },
  {
   "cell_type": "code",
   "execution_count": 54,
   "metadata": {
    "execution": {
     "iopub.execute_input": "2021-01-12T00:34:39.633389Z",
     "iopub.status.busy": "2021-01-12T00:34:39.632640Z",
     "iopub.status.idle": "2021-01-12T00:34:39.917797Z",
     "shell.execute_reply": "2021-01-12T00:34:39.917073Z"
    },
    "papermill": {
     "duration": 0.591795,
     "end_time": "2021-01-12T00:34:39.917918",
     "exception": false,
     "start_time": "2021-01-12T00:34:39.326123",
     "status": "completed"
    },
    "tags": []
   },
   "outputs": [],
   "source": [
    "submission = pd.read_csv(\"/kaggle/input/titanic/gender_submission.csv\", index_col='PassengerId')\n",
    "submission['Survived'] = df_test_y.astype(int)\n",
    "submission.to_csv('TitanicKNN.csv')"
   ]
  },
  {
   "cell_type": "markdown",
   "metadata": {
    "papermill": {
     "duration": 0.282613,
     "end_time": "2021-01-12T00:34:40.509961",
     "exception": false,
     "start_time": "2021-01-12T00:34:40.227348",
     "status": "completed"
    },
    "tags": []
   },
   "source": [
    "## Baselines"
   ]
  },
  {
   "cell_type": "code",
   "execution_count": 55,
   "metadata": {
    "execution": {
     "iopub.execute_input": "2021-01-12T00:34:41.095317Z",
     "iopub.status.busy": "2021-01-12T00:34:41.094422Z",
     "iopub.status.idle": "2021-01-12T00:34:41.201803Z",
     "shell.execute_reply": "2021-01-12T00:34:41.201160Z"
    },
    "papermill": {
     "duration": 0.406361,
     "end_time": "2021-01-12T00:34:41.201922",
     "exception": false,
     "start_time": "2021-01-12T00:34:40.795561",
     "status": "completed"
    },
    "tags": []
   },
   "outputs": [],
   "source": [
    "from sklearn.linear_model import LogisticRegression"
   ]
  },
  {
   "cell_type": "code",
   "execution_count": 56,
   "metadata": {
    "execution": {
     "iopub.execute_input": "2021-01-12T00:34:41.777081Z",
     "iopub.status.busy": "2021-01-12T00:34:41.776029Z",
     "iopub.status.idle": "2021-01-12T00:34:41.782273Z",
     "shell.execute_reply": "2021-01-12T00:34:41.782879Z"
    },
    "papermill": {
     "duration": 0.29771,
     "end_time": "2021-01-12T00:34:41.783032",
     "exception": false,
     "start_time": "2021-01-12T00:34:41.485322",
     "status": "completed"
    },
    "tags": []
   },
   "outputs": [
    {
     "data": {
      "text/plain": [
       "((418, 8), (143,), (418, 8))"
      ]
     },
     "execution_count": 56,
     "metadata": {},
     "output_type": "execute_result"
    }
   ],
   "source": [
    "X_test.shape, y_test.shape, X_test.shape"
   ]
  }
 ],
 "metadata": {
  "kernelspec": {
   "display_name": "Python 3",
   "language": "python",
   "name": "python3"
  },
  "language_info": {
   "codemirror_mode": {
    "name": "ipython",
    "version": 3
   },
   "file_extension": ".py",
   "mimetype": "text/x-python",
   "name": "python",
   "nbconvert_exporter": "python",
   "pygments_lexer": "ipython3",
   "version": "3.8.5"
  },
  "papermill": {
   "duration": 64.855391,
   "end_time": "2021-01-12T00:34:42.187813",
   "environment_variables": {},
   "exception": null,
   "input_path": "__notebook__.ipynb",
   "output_path": "__notebook__.ipynb",
   "parameters": {},
   "start_time": "2021-01-12T00:33:37.332422",
   "version": "2.1.0"
  }
 },
 "nbformat": 4,
 "nbformat_minor": 4
}
